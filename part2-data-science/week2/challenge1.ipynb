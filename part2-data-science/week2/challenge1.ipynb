{
 "cells": [
  {
   "cell_type": "markdown",
   "metadata": {},
   "source": [
    "# 마크다운 연습기\n",
    "마크다운을 사용하면서 주피터 노트북과 친해져 보겠습니다.    \n",
    "이 링크를 누르면 [코알라](coalastudy.com)로 이동하세요.\n",
    "\n",
    "여기서부터는 다른 문단입니다. "
   ]
  },
  {
   "cell_type": "markdown",
   "metadata": {},
   "source": [
    "----"
   ]
  },
  {
   "cell_type": "markdown",
   "metadata": {},
   "source": [
    "# 지금까지 배운 배용\n",
    "마크다운으로 배운 내용\n",
    "1. 큰 제목 넣기\n",
    "2. 리스트 넣기\n",
    "3. 표 넣기\n",
    "4. 기타"
   ]
  },
  {
   "cell_type": "markdown",
   "metadata": {},
   "source": [
    "----"
   ]
  },
  {
   "cell_type": "markdown",
   "metadata": {},
   "source": [
    "# 정리\n",
    "|문법|사용법|\n",
    "|-|-|\n",
    "|큰 제목|#을 사용|\n",
    "|리스트|- 혹은 1.사용|"
   ]
  },
  {
   "cell_type": "markdown",
   "metadata": {},
   "source": [
    "----"
   ]
  },
  {
   "cell_type": "markdown",
   "metadata": {},
   "source": [
    "# 마무리\n",
    "파이썬 코드로 Hello World!를 만들면서 끝내요.\n",
    "```python\n",
    "print('Hello World!')\n",
    "```"
   ]
  },
  {
   "cell_type": "code",
   "execution_count": 1,
   "metadata": {},
   "outputs": [
    {
     "name": "stdout",
     "output_type": "stream",
     "text": [
      "Hello World!\n"
     ]
    }
   ],
   "source": [
    "print('Hello World!')"
   ]
  },
  {
   "cell_type": "markdown",
   "metadata": {},
   "source": [
    "----"
   ]
  },
  {
   "cell_type": "markdown",
   "metadata": {},
   "source": [
    "# 제작자\n",
    "**작성자** 최도근\n",
    "![박지성](data:image/jpeg;base64,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)"
   ]
  }
 ],
 "metadata": {
  "kernelspec": {
   "display_name": "Python 3",
   "language": "python",
   "name": "python3"
  },
  "language_info": {
   "codemirror_mode": {
    "name": "ipython",
    "version": 3
   },
   "file_extension": ".py",
   "mimetype": "text/x-python",
   "name": "python",
   "nbconvert_exporter": "python",
   "pygments_lexer": "ipython3",
   "version": "3.7.3"
  },
  "toc": {
   "base_numbering": 1,
   "nav_menu": {},
   "number_sections": false,
   "sideBar": true,
   "skip_h1_title": false,
   "title_cell": "Table of Contents",
   "title_sidebar": "Contents",
   "toc_cell": false,
   "toc_position": {},
   "toc_section_display": true,
   "toc_window_display": false
  },
  "varInspector": {
   "cols": {
    "lenName": 16,
    "lenType": 16,
    "lenVar": 40
   },
   "kernels_config": {
    "python": {
     "delete_cmd_postfix": "",
     "delete_cmd_prefix": "del ",
     "library": "var_list.py",
     "varRefreshCmd": "print(var_dic_list())"
    },
    "r": {
     "delete_cmd_postfix": ") ",
     "delete_cmd_prefix": "rm(",
     "library": "var_list.r",
     "varRefreshCmd": "cat(var_dic_list()) "
    }
   },
   "types_to_exclude": [
    "module",
    "function",
    "builtin_function_or_method",
    "instance",
    "_Feature"
   ],
   "window_display": false
  }
 },
 "nbformat": 4,
 "nbformat_minor": 2
}
