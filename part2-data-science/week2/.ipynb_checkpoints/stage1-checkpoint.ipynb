{
 "cells": [
  {
   "cell_type": "code",
   "execution_count": 1,
   "metadata": {},
   "outputs": [
    {
     "name": "stdout",
     "output_type": "stream",
     "text": [
      "hello world!\n"
     ]
    }
   ],
   "source": [
    "print('hello world!')"
   ]
  },
  {
   "cell_type": "markdown",
   "metadata": {},
   "source": [
    "# 주피터노트북 시작하기\n",
    "내 *이름*은 **박소현**입니다.    \n",
    "좋아하는 아이돌은 다음과 같습니다.\n",
    "* 오마이걸\n",
    "* (여자)아이들\n",
    "* 러블리즈"
   ]
  },
  {
   "cell_type": "markdown",
   "metadata": {},
   "source": [
    "![이미지](data:image/jpeg;base64,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)\n",
    "\n",
    "[네이버](www.naver.com)"
   ]
  },
  {
   "cell_type": "markdown",
   "metadata": {},
   "source": [
    "변수는 `container`에 저장됩니다.\n",
    "\n",
    "```python\n",
    "print('hello world')\n",
    "```\n",
    "\n",
    "```c\n",
    "printf(\"hello world\");\n",
    "```\n",
    "\n",
    "```c#\n",
    "Console.Write(\"hello world!\")\n",
    "```"
   ]
  },
  {
   "cell_type": "markdown",
   "metadata": {},
   "source": [
    "> 인용   \n",
    "> 인용2"
   ]
  },
  {
   "cell_type": "markdown",
   "metadata": {},
   "source": [
    "|가나다|마바사|아자차|\n",
    "|-|-|-|\n",
    "|가나다|마바사|아자차|"
   ]
  }
 ],
 "metadata": {
  "kernelspec": {
   "display_name": "Python 3",
   "language": "python",
   "name": "python3"
  },
  "language_info": {
   "codemirror_mode": {
    "name": "ipython",
    "version": 3
   },
   "file_extension": ".py",
   "mimetype": "text/x-python",
   "name": "python",
   "nbconvert_exporter": "python",
   "pygments_lexer": "ipython3",
   "version": "3.7.3"
  },
  "toc": {
   "base_numbering": 1,
   "nav_menu": {},
   "number_sections": false,
   "sideBar": true,
   "skip_h1_title": false,
   "title_cell": "Table of Contents",
   "title_sidebar": "Contents",
   "toc_cell": false,
   "toc_position": {},
   "toc_section_display": true,
   "toc_window_display": true
  },
  "varInspector": {
   "cols": {
    "lenName": 16,
    "lenType": 16,
    "lenVar": 40
   },
   "kernels_config": {
    "python": {
     "delete_cmd_postfix": "",
     "delete_cmd_prefix": "del ",
     "library": "var_list.py",
     "varRefreshCmd": "print(var_dic_list())"
    },
    "r": {
     "delete_cmd_postfix": ") ",
     "delete_cmd_prefix": "rm(",
     "library": "var_list.r",
     "varRefreshCmd": "cat(var_dic_list()) "
    }
   },
   "types_to_exclude": [
    "module",
    "function",
    "builtin_function_or_method",
    "instance",
    "_Feature"
   ],
   "window_display": false
  }
 },
 "nbformat": 4,
 "nbformat_minor": 2
}
