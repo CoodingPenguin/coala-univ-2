{
 "cells": [
  {
   "cell_type": "markdown",
   "metadata": {},
   "source": [
    "# stage1"
   ]
  },
  {
   "cell_type": "code",
   "execution_count": 2,
   "metadata": {},
   "outputs": [],
   "source": [
    "data = {\n",
    "    'name' : ['고양이', '펭귄', '닭', '타조', '참새'],\n",
    "    'wing' : [False, True, True, True, True],\n",
    "    'weight' : ['light', 'heavy', 'light', 'heavy', 'light'],\n",
    "    'density' : ['low', 'high', 'high', 'high', 'low'],\n",
    "    'fly' : [False, False, False, False, True]\n",
    "}"
   ]
  },
  {
   "cell_type": "code",
   "execution_count": 3,
   "metadata": {},
   "outputs": [
    {
     "name": "stdout",
     "output_type": "stream",
     "text": [
      "고양이는 날개가 있을까? False\n",
      "닭은 날개가 있을까? True\n"
     ]
    }
   ],
   "source": [
    "print('고양이는 날개가 있을까?', data['wing'][0])\n",
    "print('닭은 날개가 있을까?', data['wing'][2])"
   ]
  },
  {
   "cell_type": "code",
   "execution_count": 7,
   "metadata": {},
   "outputs": [
    {
     "name": "stdout",
     "output_type": "stream",
     "text": [
      "고양이\n",
      "False\n",
      "light\n",
      "low\n",
      "False\n"
     ]
    }
   ],
   "source": [
    "target_idx = 0\n",
    "\n",
    "for key in data.keys():\n",
    "    print(data[key][target_idx])"
   ]
  },
  {
   "cell_type": "markdown",
   "metadata": {},
   "source": [
    "## 트리 구현하기"
   ]
  },
  {
   "cell_type": "code",
   "execution_count": 13,
   "metadata": {},
   "outputs": [
    {
     "name": "stdout",
     "output_type": "stream",
     "text": [
      "고양이가 날 수 있는지 확인할게요\n",
      "고양이는 날 수 없다.\n",
      "펭귄는 날 수 없다.\n",
      "닭는 날 수 없다.\n",
      "타조는 날 수 없다.\n",
      "참새는 날 수 있다!!\n"
     ]
    }
   ],
   "source": [
    "target_idx = 0\n",
    "\n",
    "print(data['name'][target_idx], '가 날 수 있는지 확인할게요', sep='')\n",
    "\n",
    "# if 날개가 있다면\n",
    "# 날개가 있다면 if로 다시\n",
    "# 날개가 없다면\n",
    "# 날개가 없다\n",
    "for i in range(5):\n",
    "    print(data['name'][i], '는 ', sep='', end='')\n",
    "    if data['wing'][i] == True:\n",
    "        if data['weight'][i] == 'light':\n",
    "            if data['density'][i] == 'high':\n",
    "                print('날 수 없다.')\n",
    "            else:\n",
    "                print('날 수 있다!!')\n",
    "        else:\n",
    "            print('날 수 없다.')\n",
    "    else:\n",
    "        print('날 수 없다.')"
   ]
  }
 ],
 "metadata": {
  "kernelspec": {
   "display_name": "Python 3",
   "language": "python",
   "name": "python3"
  },
  "language_info": {
   "codemirror_mode": {
    "name": "ipython",
    "version": 3
   },
   "file_extension": ".py",
   "mimetype": "text/x-python",
   "name": "python",
   "nbconvert_exporter": "python",
   "pygments_lexer": "ipython3",
   "version": "3.7.3"
  },
  "toc": {
   "base_numbering": 1,
   "nav_menu": {},
   "number_sections": false,
   "sideBar": true,
   "skip_h1_title": false,
   "title_cell": "Table of Contents",
   "title_sidebar": "Contents",
   "toc_cell": false,
   "toc_position": {},
   "toc_section_display": true,
   "toc_window_display": false
  },
  "varInspector": {
   "cols": {
    "lenName": 16,
    "lenType": 16,
    "lenVar": 40
   },
   "kernels_config": {
    "python": {
     "delete_cmd_postfix": "",
     "delete_cmd_prefix": "del ",
     "library": "var_list.py",
     "varRefreshCmd": "print(var_dic_list())"
    },
    "r": {
     "delete_cmd_postfix": ") ",
     "delete_cmd_prefix": "rm(",
     "library": "var_list.r",
     "varRefreshCmd": "cat(var_dic_list()) "
    }
   },
   "types_to_exclude": [
    "module",
    "function",
    "builtin_function_or_method",
    "instance",
    "_Feature"
   ],
   "window_display": false
  }
 },
 "nbformat": 4,
 "nbformat_minor": 2
}
