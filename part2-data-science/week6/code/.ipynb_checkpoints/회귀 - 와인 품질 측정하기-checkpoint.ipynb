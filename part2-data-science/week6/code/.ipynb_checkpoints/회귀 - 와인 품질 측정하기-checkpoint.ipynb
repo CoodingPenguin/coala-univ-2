{
 "cells": [
  {
   "cell_type": "markdown",
   "metadata": {},
   "source": [
    "# 회귀 - 와인 품질 측정하기"
   ]
  },
  {
   "cell_type": "code",
   "execution_count": 83,
   "metadata": {},
   "outputs": [],
   "source": [
    "import pandas as pd\n",
    "import matplotlib.pyplot as plt\n",
    "import seaborn as sns\n",
    "%matplotlib inline\n",
    "\n",
    "sns.set()"
   ]
  },
  {
   "cell_type": "markdown",
   "metadata": {},
   "source": [
    "## 1. 데이터 로드\n",
    "산성도, 도수, 설탕 잔량 등 11가지 입력 정보와 그에 대응되는 퀄리티 값을 가진 1,599개의 데이터"
   ]
  },
  {
   "cell_type": "code",
   "execution_count": 84,
   "metadata": {},
   "outputs": [
    {
     "data": {
      "text/html": [
       "<div>\n",
       "<style scoped>\n",
       "    .dataframe tbody tr th:only-of-type {\n",
       "        vertical-align: middle;\n",
       "    }\n",
       "\n",
       "    .dataframe tbody tr th {\n",
       "        vertical-align: top;\n",
       "    }\n",
       "\n",
       "    .dataframe thead th {\n",
       "        text-align: right;\n",
       "    }\n",
       "</style>\n",
       "<table border=\"1\" class=\"dataframe\">\n",
       "  <thead>\n",
       "    <tr style=\"text-align: right;\">\n",
       "      <th></th>\n",
       "      <th>fixed acidity</th>\n",
       "      <th>volatile acidity</th>\n",
       "      <th>citric acid</th>\n",
       "      <th>residual sugar</th>\n",
       "      <th>chlorides</th>\n",
       "      <th>free sulfur dioxide</th>\n",
       "      <th>total sulfur dioxide</th>\n",
       "      <th>density</th>\n",
       "      <th>pH</th>\n",
       "      <th>sulphates</th>\n",
       "      <th>alcohol</th>\n",
       "      <th>quality</th>\n",
       "    </tr>\n",
       "  </thead>\n",
       "  <tbody>\n",
       "    <tr>\n",
       "      <th>0</th>\n",
       "      <td>7.4</td>\n",
       "      <td>0.70</td>\n",
       "      <td>0.00</td>\n",
       "      <td>1.9</td>\n",
       "      <td>0.076</td>\n",
       "      <td>11.0</td>\n",
       "      <td>34.0</td>\n",
       "      <td>0.9978</td>\n",
       "      <td>3.51</td>\n",
       "      <td>0.56</td>\n",
       "      <td>9.4</td>\n",
       "      <td>4.617195</td>\n",
       "    </tr>\n",
       "    <tr>\n",
       "      <th>1</th>\n",
       "      <td>7.8</td>\n",
       "      <td>0.88</td>\n",
       "      <td>0.00</td>\n",
       "      <td>2.6</td>\n",
       "      <td>0.098</td>\n",
       "      <td>25.0</td>\n",
       "      <td>67.0</td>\n",
       "      <td>0.9968</td>\n",
       "      <td>3.20</td>\n",
       "      <td>0.68</td>\n",
       "      <td>9.8</td>\n",
       "      <td>4.782987</td>\n",
       "    </tr>\n",
       "    <tr>\n",
       "      <th>2</th>\n",
       "      <td>7.8</td>\n",
       "      <td>0.76</td>\n",
       "      <td>0.04</td>\n",
       "      <td>2.3</td>\n",
       "      <td>0.092</td>\n",
       "      <td>15.0</td>\n",
       "      <td>54.0</td>\n",
       "      <td>0.9970</td>\n",
       "      <td>3.26</td>\n",
       "      <td>0.65</td>\n",
       "      <td>9.8</td>\n",
       "      <td>4.868157</td>\n",
       "    </tr>\n",
       "    <tr>\n",
       "      <th>3</th>\n",
       "      <td>11.2</td>\n",
       "      <td>0.28</td>\n",
       "      <td>0.56</td>\n",
       "      <td>1.9</td>\n",
       "      <td>0.075</td>\n",
       "      <td>17.0</td>\n",
       "      <td>60.0</td>\n",
       "      <td>0.9980</td>\n",
       "      <td>3.16</td>\n",
       "      <td>0.58</td>\n",
       "      <td>9.8</td>\n",
       "      <td>5.929590</td>\n",
       "    </tr>\n",
       "    <tr>\n",
       "      <th>4</th>\n",
       "      <td>7.4</td>\n",
       "      <td>0.70</td>\n",
       "      <td>0.00</td>\n",
       "      <td>1.9</td>\n",
       "      <td>0.076</td>\n",
       "      <td>11.0</td>\n",
       "      <td>34.0</td>\n",
       "      <td>0.9978</td>\n",
       "      <td>3.51</td>\n",
       "      <td>0.56</td>\n",
       "      <td>9.4</td>\n",
       "      <td>4.714931</td>\n",
       "    </tr>\n",
       "  </tbody>\n",
       "</table>\n",
       "</div>"
      ],
      "text/plain": [
       "   fixed acidity  volatile acidity  citric acid  residual sugar  chlorides  \\\n",
       "0            7.4              0.70         0.00             1.9      0.076   \n",
       "1            7.8              0.88         0.00             2.6      0.098   \n",
       "2            7.8              0.76         0.04             2.3      0.092   \n",
       "3           11.2              0.28         0.56             1.9      0.075   \n",
       "4            7.4              0.70         0.00             1.9      0.076   \n",
       "\n",
       "   free sulfur dioxide  total sulfur dioxide  density    pH  sulphates  \\\n",
       "0                 11.0                  34.0   0.9978  3.51       0.56   \n",
       "1                 25.0                  67.0   0.9968  3.20       0.68   \n",
       "2                 15.0                  54.0   0.9970  3.26       0.65   \n",
       "3                 17.0                  60.0   0.9980  3.16       0.58   \n",
       "4                 11.0                  34.0   0.9978  3.51       0.56   \n",
       "\n",
       "   alcohol   quality  \n",
       "0      9.4  4.617195  \n",
       "1      9.8  4.782987  \n",
       "2      9.8  4.868157  \n",
       "3      9.8  5.929590  \n",
       "4      9.4  4.714931  "
      ]
     },
     "execution_count": 84,
     "metadata": {},
     "output_type": "execute_result"
    }
   ],
   "source": [
    "df = pd.read_csv('data/wine.csv')\n",
    "df.head()"
   ]
  },
  {
   "cell_type": "code",
   "execution_count": 85,
   "metadata": {},
   "outputs": [
    {
     "data": {
      "text/plain": [
       "(1599, 12)"
      ]
     },
     "execution_count": 85,
     "metadata": {},
     "output_type": "execute_result"
    }
   ],
   "source": [
    "df.shape"
   ]
  },
  {
   "cell_type": "code",
   "execution_count": 86,
   "metadata": {},
   "outputs": [
    {
     "data": {
      "text/html": [
       "<div>\n",
       "<style scoped>\n",
       "    .dataframe tbody tr th:only-of-type {\n",
       "        vertical-align: middle;\n",
       "    }\n",
       "\n",
       "    .dataframe tbody tr th {\n",
       "        vertical-align: top;\n",
       "    }\n",
       "\n",
       "    .dataframe thead th {\n",
       "        text-align: right;\n",
       "    }\n",
       "</style>\n",
       "<table border=\"1\" class=\"dataframe\">\n",
       "  <thead>\n",
       "    <tr style=\"text-align: right;\">\n",
       "      <th></th>\n",
       "      <th>fixed acidity</th>\n",
       "      <th>volatile acidity</th>\n",
       "      <th>citric acid</th>\n",
       "      <th>residual sugar</th>\n",
       "      <th>chlorides</th>\n",
       "      <th>free sulfur dioxide</th>\n",
       "      <th>total sulfur dioxide</th>\n",
       "      <th>density</th>\n",
       "      <th>pH</th>\n",
       "      <th>sulphates</th>\n",
       "      <th>alcohol</th>\n",
       "      <th>quality</th>\n",
       "    </tr>\n",
       "  </thead>\n",
       "  <tbody>\n",
       "    <tr>\n",
       "      <th>count</th>\n",
       "      <td>1599.000000</td>\n",
       "      <td>1599.000000</td>\n",
       "      <td>1599.000000</td>\n",
       "      <td>1599.000000</td>\n",
       "      <td>1599.000000</td>\n",
       "      <td>1599.000000</td>\n",
       "      <td>1599.000000</td>\n",
       "      <td>1599.000000</td>\n",
       "      <td>1599.000000</td>\n",
       "      <td>1599.000000</td>\n",
       "      <td>1599.000000</td>\n",
       "      <td>1599.000000</td>\n",
       "    </tr>\n",
       "    <tr>\n",
       "      <th>mean</th>\n",
       "      <td>8.319637</td>\n",
       "      <td>0.527821</td>\n",
       "      <td>0.270976</td>\n",
       "      <td>2.538806</td>\n",
       "      <td>0.087467</td>\n",
       "      <td>15.874922</td>\n",
       "      <td>46.467792</td>\n",
       "      <td>0.996747</td>\n",
       "      <td>3.311113</td>\n",
       "      <td>0.658149</td>\n",
       "      <td>10.422983</td>\n",
       "      <td>5.622542</td>\n",
       "    </tr>\n",
       "    <tr>\n",
       "      <th>std</th>\n",
       "      <td>1.741096</td>\n",
       "      <td>0.179060</td>\n",
       "      <td>0.194801</td>\n",
       "      <td>1.409928</td>\n",
       "      <td>0.047065</td>\n",
       "      <td>10.460157</td>\n",
       "      <td>32.895324</td>\n",
       "      <td>0.001887</td>\n",
       "      <td>0.154386</td>\n",
       "      <td>0.169507</td>\n",
       "      <td>1.065668</td>\n",
       "      <td>0.858455</td>\n",
       "    </tr>\n",
       "    <tr>\n",
       "      <th>min</th>\n",
       "      <td>4.600000</td>\n",
       "      <td>0.120000</td>\n",
       "      <td>0.000000</td>\n",
       "      <td>0.900000</td>\n",
       "      <td>0.012000</td>\n",
       "      <td>1.000000</td>\n",
       "      <td>6.000000</td>\n",
       "      <td>0.990070</td>\n",
       "      <td>2.740000</td>\n",
       "      <td>0.330000</td>\n",
       "      <td>8.400000</td>\n",
       "      <td>2.552934</td>\n",
       "    </tr>\n",
       "    <tr>\n",
       "      <th>25%</th>\n",
       "      <td>7.100000</td>\n",
       "      <td>0.390000</td>\n",
       "      <td>0.090000</td>\n",
       "      <td>1.900000</td>\n",
       "      <td>0.070000</td>\n",
       "      <td>7.000000</td>\n",
       "      <td>22.000000</td>\n",
       "      <td>0.995600</td>\n",
       "      <td>3.210000</td>\n",
       "      <td>0.550000</td>\n",
       "      <td>9.500000</td>\n",
       "      <td>4.982849</td>\n",
       "    </tr>\n",
       "    <tr>\n",
       "      <th>50%</th>\n",
       "      <td>7.900000</td>\n",
       "      <td>0.520000</td>\n",
       "      <td>0.260000</td>\n",
       "      <td>2.200000</td>\n",
       "      <td>0.079000</td>\n",
       "      <td>14.000000</td>\n",
       "      <td>38.000000</td>\n",
       "      <td>0.996750</td>\n",
       "      <td>3.310000</td>\n",
       "      <td>0.620000</td>\n",
       "      <td>10.200000</td>\n",
       "      <td>5.568807</td>\n",
       "    </tr>\n",
       "    <tr>\n",
       "      <th>75%</th>\n",
       "      <td>9.200000</td>\n",
       "      <td>0.640000</td>\n",
       "      <td>0.420000</td>\n",
       "      <td>2.600000</td>\n",
       "      <td>0.090000</td>\n",
       "      <td>21.000000</td>\n",
       "      <td>62.000000</td>\n",
       "      <td>0.997835</td>\n",
       "      <td>3.400000</td>\n",
       "      <td>0.730000</td>\n",
       "      <td>11.100000</td>\n",
       "      <td>6.189646</td>\n",
       "    </tr>\n",
       "    <tr>\n",
       "      <th>max</th>\n",
       "      <td>15.900000</td>\n",
       "      <td>1.580000</td>\n",
       "      <td>1.000000</td>\n",
       "      <td>15.500000</td>\n",
       "      <td>0.611000</td>\n",
       "      <td>72.000000</td>\n",
       "      <td>289.000000</td>\n",
       "      <td>1.003690</td>\n",
       "      <td>4.010000</td>\n",
       "      <td>2.000000</td>\n",
       "      <td>14.900000</td>\n",
       "      <td>8.456527</td>\n",
       "    </tr>\n",
       "  </tbody>\n",
       "</table>\n",
       "</div>"
      ],
      "text/plain": [
       "       fixed acidity  volatile acidity  citric acid  residual sugar  \\\n",
       "count    1599.000000       1599.000000  1599.000000     1599.000000   \n",
       "mean        8.319637          0.527821     0.270976        2.538806   \n",
       "std         1.741096          0.179060     0.194801        1.409928   \n",
       "min         4.600000          0.120000     0.000000        0.900000   \n",
       "25%         7.100000          0.390000     0.090000        1.900000   \n",
       "50%         7.900000          0.520000     0.260000        2.200000   \n",
       "75%         9.200000          0.640000     0.420000        2.600000   \n",
       "max        15.900000          1.580000     1.000000       15.500000   \n",
       "\n",
       "         chlorides  free sulfur dioxide  total sulfur dioxide      density  \\\n",
       "count  1599.000000          1599.000000           1599.000000  1599.000000   \n",
       "mean      0.087467            15.874922             46.467792     0.996747   \n",
       "std       0.047065            10.460157             32.895324     0.001887   \n",
       "min       0.012000             1.000000              6.000000     0.990070   \n",
       "25%       0.070000             7.000000             22.000000     0.995600   \n",
       "50%       0.079000            14.000000             38.000000     0.996750   \n",
       "75%       0.090000            21.000000             62.000000     0.997835   \n",
       "max       0.611000            72.000000            289.000000     1.003690   \n",
       "\n",
       "                pH    sulphates      alcohol      quality  \n",
       "count  1599.000000  1599.000000  1599.000000  1599.000000  \n",
       "mean      3.311113     0.658149    10.422983     5.622542  \n",
       "std       0.154386     0.169507     1.065668     0.858455  \n",
       "min       2.740000     0.330000     8.400000     2.552934  \n",
       "25%       3.210000     0.550000     9.500000     4.982849  \n",
       "50%       3.310000     0.620000    10.200000     5.568807  \n",
       "75%       3.400000     0.730000    11.100000     6.189646  \n",
       "max       4.010000     2.000000    14.900000     8.456527  "
      ]
     },
     "execution_count": 86,
     "metadata": {},
     "output_type": "execute_result"
    }
   ],
   "source": [
    "df.describe()"
   ]
  },
  {
   "cell_type": "markdown",
   "metadata": {},
   "source": [
    "## 2. EDA 및 데이터 전처리"
   ]
  },
  {
   "cell_type": "code",
   "execution_count": 87,
   "metadata": {},
   "outputs": [
    {
     "data": {
      "image/png": "[encoded data removed]",
      "text/plain": [
       "<Figure size 935.6x216 with 1 Axes>"
      ]
     },
     "metadata": {},
     "output_type": "display_data"
    }
   ],
   "source": [
    "facet = sns.FacetGrid(df, aspect=4)\n",
    "facet.map(sns.kdeplot, 'quality')\n",
    "facet.add_legend()\n",
    "\n",
    "plt.show()"
   ]
  },
  {
   "cell_type": "code",
   "execution_count": 88,
   "metadata": {},
   "outputs": [
    {
     "data": {
      "image/png": "[encoded data removed]",
      "text/plain": [
       "<Figure size 1440x1080 with 2 Axes>"
      ]
     },
     "metadata": {},
     "output_type": "display_data"
    }
   ],
   "source": [
    "plt.figure(figsize=(20,15))\n",
    "sns.heatmap(df.corr(), annot=True, fmt='.2f', square=True)\n",
    "\n",
    "plt.show()"
   ]
  },
  {
   "cell_type": "markdown",
   "metadata": {},
   "source": [
    "## 3. 모델링"
   ]
  },
  {
   "cell_type": "code",
   "execution_count": 89,
   "metadata": {},
   "outputs": [
    {
     "name": "stdout",
     "output_type": "stream",
     "text": [
      "(1599, 11) (1599,)\n"
     ]
    }
   ],
   "source": [
    "train_data = df.drop(['quality'], axis=1)\n",
    "target_data = df['quality']\n",
    "\n",
    "print(train_data.shape, target_data.shape)"
   ]
  },
  {
   "cell_type": "code",
   "execution_count": 90,
   "metadata": {},
   "outputs": [
    {
     "name": "stdout",
     "output_type": "stream",
     "text": [
      "(1599, 11) (1023, 11) (256, 11) (320, 11)\n"
     ]
    }
   ],
   "source": [
    "from sklearn.model_selection import train_test_split\n",
    "\n",
    "# 학습/시험 데이터로 분리\n",
    "x_train, x_test, y_train, y_test = train_test_split(train_data, target_data, test_size=0.2)\n",
    "x_train, x_valid, y_train, y_valid = train_test_split(x_train, y_train, test_size=0.2)\n",
    "\n",
    "print(train_data.shape, x_train.shape, x_valid.shape, x_test.shape)"
   ]
  },
  {
   "cell_type": "code",
   "execution_count": 91,
   "metadata": {},
   "outputs": [
    {
     "name": "stderr",
     "output_type": "stream",
     "text": [
      "C:\\Users\\round\\Anaconda3\\lib\\site-packages\\sklearn\\svm\\base.py:193: FutureWarning: The default value of gamma will change from 'auto' to 'scale' in version 0.22 to account better for unscaled features. Set gamma explicitly to 'auto' or 'scale' to avoid this warning.\n",
      "  \"avoid this warning.\", FutureWarning)\n"
     ]
    },
    {
     "name": "stdout",
     "output_type": "stream",
     "text": [
      "random forest training set accuracy: 0.9103618146820839\n",
      "random forest validation set accuracy: 0.3114888539898535\n",
      "====================================================================================================\n",
      "linear regression training set accuracy: 0.31232274047952335\n",
      "linear regression validation set accuracy: 0.2849338843198479\n",
      "====================================================================================================\n",
      "polynomial features training set accuracy: 0.41277397840644164\n",
      "polynomial features validation set accuracy: -0.019530733409580003\n",
      "====================================================================================================\n",
      "svc training set accuracy: 0.6309215602654803\n",
      "svc validation set accuracy: 0.13760418416522646\n"
     ]
    }
   ],
   "source": [
    "from sklearn.ensemble import RandomForestRegressor\n",
    "from sklearn.linear_model import LinearRegression\n",
    "from sklearn.preprocessing import PolynomialFeatures\n",
    "from sklearn.pipeline import make_pipeline\n",
    "from sklearn.svm import SVR\n",
    "\n",
    "rf = RandomForestRegressor(n_estimators=100)\n",
    "lr = LinearRegression()\n",
    "pf = make_pipeline(PolynomialFeatures(2), LinearRegression()).fit(x_train, y_train)\n",
    "svr = SVR()\n",
    "\n",
    "rf.fit(x_train, y_train)\n",
    "lr.fit(x_train, y_train)\n",
    "pf.fit(x_train, y_train)\n",
    "svr.fit(x_train, y_train)\n",
    "\n",
    "print('random forest training set accuracy:', rf.score(x_train, y_train))\n",
    "print('random forest validation set accuracy:', rf.score(x_valid, y_valid))\n",
    "print('='*100)\n",
    "print('linear regression training set accuracy:', lr.score(x_train, y_train))\n",
    "print('linear regression validation set accuracy:', lr.score(x_valid, y_valid))\n",
    "print('='*100)\n",
    "print('polynomial features training set accuracy:', pf.score(x_train, y_train))\n",
    "print('polynomial features validation set accuracy:', pf.score(x_valid, y_valid))\n",
    "print('='*100)\n",
    "print('svc training set accuracy:', svr.score(x_train, y_train))\n",
    "print('svc validation set accuracy:', svr.score(x_valid, y_valid))"
   ]
  },
  {
   "cell_type": "markdown",
   "metadata": {},
   "source": [
    "scikit learn의 score 기능을 사용하면 상관성을 이용한 결정계수를 자동으로 계산해준다. 하지만, 우리가 봤을 때의 유의미한 범위로 카테고리화해서 새로운 평가지표를 만들 수 있다."
   ]
  },
  {
   "cell_type": "code",
   "execution_count": 92,
   "metadata": {},
   "outputs": [],
   "source": [
    "def my_score(result, answer):\n",
    "    comparison = pd.DataFrame(answer)\n",
    "\n",
    "    comparison['my_predict'] = result\n",
    "    comparison = round(comparison)\n",
    "    \n",
    "    evaluation = (comparison['quality'] == comparison['my_predict'])\n",
    "    success = (evaluation == True).sum()\n",
    "    failure = (evaluation == False).sum()\n",
    "    \n",
    "    return (success / (success + failure))"
   ]
  },
  {
   "cell_type": "code",
   "execution_count": 93,
   "metadata": {},
   "outputs": [
    {
     "name": "stdout",
     "output_type": "stream",
     "text": [
      "(category) random forest train set accuracy 0.9149560117302052\n",
      "(category) random forest validation set accuracy 0.7109375\n"
     ]
    }
   ],
   "source": [
    "# random forest\n",
    "rf_predict_train = rf.predict(x_train)\n",
    "rf_predict_valid = rf.predict(x_valid)\n",
    "print('(category) random forest train set accuracy', my_score(rf_predict_train, y_train))\n",
    "print('(category) random forest validation set accuracy', my_score(rf_predict_valid, y_valid))"
   ]
  },
  {
   "cell_type": "code",
   "execution_count": 94,
   "metadata": {},
   "outputs": [
    {
     "name": "stdout",
     "output_type": "stream",
     "text": [
      "(category) linear regression train set accuracy 0.5855327468230694\n",
      "(category) linear regression validation set accuracy 0.62109375\n"
     ]
    }
   ],
   "source": [
    "# linear regression\n",
    "lr_predict_train = lr.predict(x_train)\n",
    "lr_predict_valid = lr.predict(x_valid)\n",
    "print('(category) linear regression train set accuracy', my_score(lr_predict_train, y_train))\n",
    "print('(category) linear regression validation set accuracy', my_score(lr_predict_valid, y_valid))"
   ]
  },
  {
   "cell_type": "code",
   "execution_count": 95,
   "metadata": {},
   "outputs": [
    {
     "name": "stdout",
     "output_type": "stream",
     "text": [
      "(category) polynomial features train set accuracy 0.6168132942326491\n",
      "(category) polynomial features validation set accuracy 0.609375\n"
     ]
    }
   ],
   "source": [
    "# polynomial features\n",
    "pf_predict_train = pf.predict(x_train)\n",
    "pf_predict_valid = pf.predict(x_valid)\n",
    "print('(category) polynomial features train set accuracy', my_score(pf_predict_train, y_train))\n",
    "print('(category) polynomial features validation set accuracy', my_score(pf_predict_valid, y_valid))"
   ]
  },
  {
   "cell_type": "code",
   "execution_count": 96,
   "metadata": {},
   "outputs": [
    {
     "name": "stdout",
     "output_type": "stream",
     "text": [
      "(category) svr train set accuracy 0.7683284457478006\n",
      "(category) svr validation set accuracy 0.6015625\n"
     ]
    }
   ],
   "source": [
    "# svr\n",
    "svr_predict_train = svr.predict(x_train)\n",
    "svr_predict_valid = svr.predict(x_valid)\n",
    "print('(category) svr train set accuracy', my_score(svr_predict_train, y_train))\n",
    "print('(category) svr validation set accuracy', my_score(svr_predict_valid, y_valid))"
   ]
  },
  {
   "cell_type": "markdown",
   "metadata": {},
   "source": [
    "회귀의 평가 지표로 정확도는 적절하지 않다. 보통 회귀의 평가 지표는 실제값과 예측값의 차이를 기반으로 한 지표가 중심이다. 일반적으로 회귀는 다음과 같은 평가지표를 사용한다.\n",
    "<img src='regressor_estimation.png' width=500%>"
   ]
  },
  {
   "cell_type": "code",
   "execution_count": 97,
   "metadata": {},
   "outputs": [
    {
     "name": "stdout",
     "output_type": "stream",
     "text": [
      "random forest mse : 0.4012443931459937\n",
      "random forest r2 : 0.3114888539898535\n"
     ]
    }
   ],
   "source": [
    "from sklearn.metrics import mean_squared_error, r2_score\n",
    "\n",
    "print('random forest mse :', mean_squared_error(y_valid, rf_predict_valid))\n",
    "print('random forest r2 :', r2_score(y_valid, rf_predict_valid))"
   ]
  },
  {
   "cell_type": "code",
   "execution_count": 98,
   "metadata": {},
   "outputs": [
    {
     "name": "stdout",
     "output_type": "stream",
     "text": [
      "linear regression mse : 0.4167198618468223\n",
      "linear regression r2 : 0.2849338843198479\n"
     ]
    }
   ],
   "source": [
    "print('linear regression mse :', mean_squared_error(y_valid, lr_predict_valid))\n",
    "print('linear regression r2 :', r2_score(y_valid, lr_predict_valid))"
   ]
  },
  {
   "cell_type": "code",
   "execution_count": 99,
   "metadata": {},
   "outputs": [
    {
     "name": "stdout",
     "output_type": "stream",
     "text": [
      "polynomial feature mse : 0.5941530399198334\n",
      "polynomial feature r2 : -0.019530733409580003\n"
     ]
    }
   ],
   "source": [
    "print('polynomial feature mse :', mean_squared_error(y_valid, pf_predict_valid))\n",
    "print('polynomial feature r2 :', r2_score(y_valid, pf_predict_valid))"
   ]
  },
  {
   "cell_type": "code",
   "execution_count": 100,
   "metadata": {},
   "outputs": [
    {
     "name": "stdout",
     "output_type": "stream",
     "text": [
      "svr mse : 0.5025793522464899\n",
      "svr r2 : 0.13760418416522646\n"
     ]
    }
   ],
   "source": [
    "print('svr mse :', mean_squared_error(y_valid, svr_predict_valid))\n",
    "print('svr r2 :', r2_score(y_valid, svr_predict_valid))"
   ]
  },
  {
   "cell_type": "markdown",
   "metadata": {},
   "source": [
    "## 4. 예측"
   ]
  },
  {
   "cell_type": "code",
   "execution_count": 101,
   "metadata": {},
   "outputs": [
    {
     "name": "stdout",
     "output_type": "stream",
     "text": [
      "(category) random forest test set accuracy 0.621875\n",
      "(category) linear regression test set accuracy 0.58125\n",
      "(category) polynomial features test set accuracy 0.56875\n",
      "(category) svr test set accuracy 0.521875\n"
     ]
    }
   ],
   "source": [
    "rf_predict_test = rf.predict(x_test)\n",
    "lr_predict_test = lr.predict(x_test)\n",
    "pf_predict_test = pf.predict(x_test)\n",
    "svr_predict_test = svr.predict(x_test)\n",
    "\n",
    "print('(category) random forest test set accuracy', my_score(rf_predict_test, y_test))\n",
    "print('(category) linear regression test set accuracy', my_score(lr_predict_test, y_test))\n",
    "print('(category) polynomial features test set accuracy', my_score(pf_predict_test, y_test))\n",
    "print('(category) svr test set accuracy', my_score(svr_predict_test, y_test))"
   ]
  },
  {
   "cell_type": "code",
   "execution_count": 102,
   "metadata": {},
   "outputs": [
    {
     "name": "stdout",
     "output_type": "stream",
     "text": [
      "random forest mse : 0.4314893904897611\n",
      "random forest r2 : 0.36984733160487904\n",
      "linear regression mse : 0.4954548031878151\n",
      "linear regression r2 : 0.27643141829372575\n",
      "polynomial feature mse : 0.5278145869514453\n",
      "polynomial feature r2 : 0.22917277292078786\n",
      "svr mse : 0.5839944903299769\n",
      "svr r2 : 0.14712691778636888\n"
     ]
    }
   ],
   "source": [
    "print('random forest mse :', mean_squared_error(y_test, rf_predict_test))\n",
    "print('random forest r2 :', r2_score(y_test, rf_predict_test))\n",
    "print('linear regression mse :', mean_squared_error(y_test, lr_predict_test))\n",
    "print('linear regression r2 :', r2_score(y_test, lr_predict_test))\n",
    "print('polynomial feature mse :', mean_squared_error(y_test, pf_predict_test))\n",
    "print('polynomial feature r2 :', r2_score(y_test, pf_predict_test))\n",
    "print('svr mse :', mean_squared_error(y_test, svr_predict_test))\n",
    "print('svr r2 :', r2_score(y_test, svr_predict_test))"
   ]
  },
  {
   "cell_type": "markdown",
   "metadata": {},
   "source": [
    "## 추가. Feature Scaling\n",
    "SVM, 선형회귀, 로지스틱 회귀는 가우시안 분포를 가정하고 구현이 되었기 때문에 표준화를 하는 것이 중요하다."
   ]
  },
  {
   "cell_type": "code",
   "execution_count": 103,
   "metadata": {
    "scrolled": true
   },
   "outputs": [
    {
     "data": {
      "text/html": [
       "<div>\n",
       "<style scoped>\n",
       "    .dataframe tbody tr th:only-of-type {\n",
       "        vertical-align: middle;\n",
       "    }\n",
       "\n",
       "    .dataframe tbody tr th {\n",
       "        vertical-align: top;\n",
       "    }\n",
       "\n",
       "    .dataframe thead th {\n",
       "        text-align: right;\n",
       "    }\n",
       "</style>\n",
       "<table border=\"1\" class=\"dataframe\">\n",
       "  <thead>\n",
       "    <tr style=\"text-align: right;\">\n",
       "      <th></th>\n",
       "      <th>fixed acidity</th>\n",
       "      <th>volatile acidity</th>\n",
       "      <th>citric acid</th>\n",
       "      <th>residual sugar</th>\n",
       "      <th>chlorides</th>\n",
       "      <th>free sulfur dioxide</th>\n",
       "      <th>total sulfur dioxide</th>\n",
       "      <th>density</th>\n",
       "      <th>pH</th>\n",
       "      <th>sulphates</th>\n",
       "      <th>alcohol</th>\n",
       "      <th>quality</th>\n",
       "    </tr>\n",
       "  </thead>\n",
       "  <tbody>\n",
       "    <tr>\n",
       "      <th>count</th>\n",
       "      <td>1.599000e+03</td>\n",
       "      <td>1.599000e+03</td>\n",
       "      <td>1.599000e+03</td>\n",
       "      <td>1.599000e+03</td>\n",
       "      <td>1.599000e+03</td>\n",
       "      <td>1.599000e+03</td>\n",
       "      <td>1.599000e+03</td>\n",
       "      <td>1.599000e+03</td>\n",
       "      <td>1.599000e+03</td>\n",
       "      <td>1.599000e+03</td>\n",
       "      <td>1.599000e+03</td>\n",
       "      <td>1.599000e+03</td>\n",
       "    </tr>\n",
       "    <tr>\n",
       "      <th>mean</th>\n",
       "      <td>3.435512e-16</td>\n",
       "      <td>1.699704e-16</td>\n",
       "      <td>4.335355e-16</td>\n",
       "      <td>-1.905223e-16</td>\n",
       "      <td>4.838739e-16</td>\n",
       "      <td>1.432042e-16</td>\n",
       "      <td>1.289532e-16</td>\n",
       "      <td>2.336509e-14</td>\n",
       "      <td>3.002879e-15</td>\n",
       "      <td>7.639596e-16</td>\n",
       "      <td>9.437243e-16</td>\n",
       "      <td>1.117513e-15</td>\n",
       "    </tr>\n",
       "    <tr>\n",
       "      <th>std</th>\n",
       "      <td>1.000313e+00</td>\n",
       "      <td>1.000313e+00</td>\n",
       "      <td>1.000313e+00</td>\n",
       "      <td>1.000313e+00</td>\n",
       "      <td>1.000313e+00</td>\n",
       "      <td>1.000313e+00</td>\n",
       "      <td>1.000313e+00</td>\n",
       "      <td>1.000313e+00</td>\n",
       "      <td>1.000313e+00</td>\n",
       "      <td>1.000313e+00</td>\n",
       "      <td>1.000313e+00</td>\n",
       "      <td>1.000313e+00</td>\n",
       "    </tr>\n",
       "    <tr>\n",
       "      <th>min</th>\n",
       "      <td>-2.137045e+00</td>\n",
       "      <td>-2.278280e+00</td>\n",
       "      <td>-1.391472e+00</td>\n",
       "      <td>-1.162696e+00</td>\n",
       "      <td>-1.603945e+00</td>\n",
       "      <td>-1.422500e+00</td>\n",
       "      <td>-1.230584e+00</td>\n",
       "      <td>-3.538731e+00</td>\n",
       "      <td>-3.700401e+00</td>\n",
       "      <td>-1.936507e+00</td>\n",
       "      <td>-1.898919e+00</td>\n",
       "      <td>-3.576854e+00</td>\n",
       "    </tr>\n",
       "    <tr>\n",
       "      <th>25%</th>\n",
       "      <td>-7.007187e-01</td>\n",
       "      <td>-7.699311e-01</td>\n",
       "      <td>-9.293181e-01</td>\n",
       "      <td>-4.532184e-01</td>\n",
       "      <td>-3.712290e-01</td>\n",
       "      <td>-8.487156e-01</td>\n",
       "      <td>-7.440403e-01</td>\n",
       "      <td>-6.077557e-01</td>\n",
       "      <td>-6.551405e-01</td>\n",
       "      <td>-6.382196e-01</td>\n",
       "      <td>-8.663789e-01</td>\n",
       "      <td>-7.454010e-01</td>\n",
       "    </tr>\n",
       "    <tr>\n",
       "      <th>50%</th>\n",
       "      <td>-2.410944e-01</td>\n",
       "      <td>-4.368911e-02</td>\n",
       "      <td>-5.636026e-02</td>\n",
       "      <td>-2.403750e-01</td>\n",
       "      <td>-1.799455e-01</td>\n",
       "      <td>-1.793002e-01</td>\n",
       "      <td>-2.574968e-01</td>\n",
       "      <td>1.760083e-03</td>\n",
       "      <td>-7.212705e-03</td>\n",
       "      <td>-2.251281e-01</td>\n",
       "      <td>-2.093081e-01</td>\n",
       "      <td>-6.261517e-02</td>\n",
       "    </tr>\n",
       "    <tr>\n",
       "      <th>75%</th>\n",
       "      <td>5.057952e-01</td>\n",
       "      <td>6.266881e-01</td>\n",
       "      <td>7.652471e-01</td>\n",
       "      <td>4.341614e-02</td>\n",
       "      <td>5.384542e-02</td>\n",
       "      <td>4.901152e-01</td>\n",
       "      <td>4.723184e-01</td>\n",
       "      <td>5.768249e-01</td>\n",
       "      <td>5.759223e-01</td>\n",
       "      <td>4.240158e-01</td>\n",
       "      <td>6.354971e-01</td>\n",
       "      <td>6.608165e-01</td>\n",
       "    </tr>\n",
       "    <tr>\n",
       "      <th>max</th>\n",
       "      <td>4.355149e+00</td>\n",
       "      <td>5.877976e+00</td>\n",
       "      <td>3.743574e+00</td>\n",
       "      <td>9.195681e+00</td>\n",
       "      <td>1.112703e+01</td>\n",
       "      <td>5.367284e+00</td>\n",
       "      <td>7.375154e+00</td>\n",
       "      <td>3.680055e+00</td>\n",
       "      <td>4.528282e+00</td>\n",
       "      <td>7.918677e+00</td>\n",
       "      <td>4.202453e+00</td>\n",
       "      <td>3.302293e+00</td>\n",
       "    </tr>\n",
       "  </tbody>\n",
       "</table>\n",
       "</div>"
      ],
      "text/plain": [
       "       fixed acidity  volatile acidity   citric acid  residual sugar  \\\n",
       "count   1.599000e+03      1.599000e+03  1.599000e+03    1.599000e+03   \n",
       "mean    3.435512e-16      1.699704e-16  4.335355e-16   -1.905223e-16   \n",
       "std     1.000313e+00      1.000313e+00  1.000313e+00    1.000313e+00   \n",
       "min    -2.137045e+00     -2.278280e+00 -1.391472e+00   -1.162696e+00   \n",
       "25%    -7.007187e-01     -7.699311e-01 -9.293181e-01   -4.532184e-01   \n",
       "50%    -2.410944e-01     -4.368911e-02 -5.636026e-02   -2.403750e-01   \n",
       "75%     5.057952e-01      6.266881e-01  7.652471e-01    4.341614e-02   \n",
       "max     4.355149e+00      5.877976e+00  3.743574e+00    9.195681e+00   \n",
       "\n",
       "          chlorides  free sulfur dioxide  total sulfur dioxide       density  \\\n",
       "count  1.599000e+03         1.599000e+03          1.599000e+03  1.599000e+03   \n",
       "mean   4.838739e-16         1.432042e-16          1.289532e-16  2.336509e-14   \n",
       "std    1.000313e+00         1.000313e+00          1.000313e+00  1.000313e+00   \n",
       "min   -1.603945e+00        -1.422500e+00         -1.230584e+00 -3.538731e+00   \n",
       "25%   -3.712290e-01        -8.487156e-01         -7.440403e-01 -6.077557e-01   \n",
       "50%   -1.799455e-01        -1.793002e-01         -2.574968e-01  1.760083e-03   \n",
       "75%    5.384542e-02         4.901152e-01          4.723184e-01  5.768249e-01   \n",
       "max    1.112703e+01         5.367284e+00          7.375154e+00  3.680055e+00   \n",
       "\n",
       "                 pH     sulphates       alcohol       quality  \n",
       "count  1.599000e+03  1.599000e+03  1.599000e+03  1.599000e+03  \n",
       "mean   3.002879e-15  7.639596e-16  9.437243e-16  1.117513e-15  \n",
       "std    1.000313e+00  1.000313e+00  1.000313e+00  1.000313e+00  \n",
       "min   -3.700401e+00 -1.936507e+00 -1.898919e+00 -3.576854e+00  \n",
       "25%   -6.551405e-01 -6.382196e-01 -8.663789e-01 -7.454010e-01  \n",
       "50%   -7.212705e-03 -2.251281e-01 -2.093081e-01 -6.261517e-02  \n",
       "75%    5.759223e-01  4.240158e-01  6.354971e-01  6.608165e-01  \n",
       "max    4.528282e+00  7.918677e+00  4.202453e+00  3.302293e+00  "
      ]
     },
     "execution_count": 103,
     "metadata": {},
     "output_type": "execute_result"
    }
   ],
   "source": [
    "from sklearn.preprocessing import StandardScaler\n",
    "\n",
    "scaler = StandardScaler()\n",
    "scaler.fit(df)\n",
    "tf_scaled = scaler.transform(df)\n",
    "df_scaled = pd.DataFrame(data=tf_scaled, columns=df.columns)\n",
    "\n",
    "df_scaled.describe()"
   ]
  },
  {
   "cell_type": "code",
   "execution_count": 104,
   "metadata": {},
   "outputs": [
    {
     "name": "stdout",
     "output_type": "stream",
     "text": [
      "(1599, 11) (1599,)\n"
     ]
    }
   ],
   "source": [
    "train_data = df_scaled.drop(['quality'], axis=1)\n",
    "target_data = df_scaled['quality']\n",
    "\n",
    "print(train_data.shape, target_data.shape)"
   ]
  },
  {
   "cell_type": "code",
   "execution_count": 105,
   "metadata": {},
   "outputs": [
    {
     "name": "stdout",
     "output_type": "stream",
     "text": [
      "(1599, 11) (1023, 11) (256, 11) (320, 11)\n"
     ]
    }
   ],
   "source": [
    "from sklearn.model_selection import train_test_split\n",
    "\n",
    "# 학습/시험 데이터로 분리\n",
    "x_train, x_test, y_train, y_test = train_test_split(train_data, target_data, test_size=0.2)\n",
    "x_train, x_valid, y_train, y_valid = train_test_split(x_train, y_train, test_size=0.2)\n",
    "\n",
    "print(train_data.shape, x_train.shape, x_valid.shape, x_test.shape)"
   ]
  },
  {
   "cell_type": "code",
   "execution_count": 106,
   "metadata": {},
   "outputs": [
    {
     "name": "stderr",
     "output_type": "stream",
     "text": [
      "C:\\Users\\round\\Anaconda3\\lib\\site-packages\\sklearn\\svm\\base.py:193: FutureWarning: The default value of gamma will change from 'auto' to 'scale' in version 0.22 to account better for unscaled features. Set gamma explicitly to 'auto' or 'scale' to avoid this warning.\n",
      "  \"avoid this warning.\", FutureWarning)\n"
     ]
    }
   ],
   "source": [
    "# 선형회귀와 SVM 모델 학습\n",
    "lr.fit(x_train, y_train)\n",
    "svr.fit(x_train, y_train)\n",
    "\n",
    "lr_predict_valid = lr.predict(x_valid)\n",
    "svr_predict_valid = svr.predict(x_valid)"
   ]
  },
  {
   "cell_type": "code",
   "execution_count": 107,
   "metadata": {},
   "outputs": [
    {
     "name": "stdout",
     "output_type": "stream",
     "text": [
      "linear regression mse : 0.7527954819284397\n",
      "linear regression r2 : 0.26348021732313975\n",
      "svr mse : 0.7854660458882856\n",
      "svr r2 : 0.23151600228030356\n"
     ]
    }
   ],
   "source": [
    "from sklearn.metrics import mean_squared_error, r2_score\n",
    "\n",
    "print('linear regression mse :', mean_squared_error(y_valid, lr_predict_valid))\n",
    "print('linear regression r2 :', r2_score(y_valid, lr_predict_valid))\n",
    "print('svr mse :', mean_squared_error(y_valid, svr_predict_valid))\n",
    "print('svr r2 :', r2_score(y_valid, svr_predict_valid))"
   ]
  },
  {
   "cell_type": "code",
   "execution_count": 108,
   "metadata": {},
   "outputs": [
    {
     "name": "stdout",
     "output_type": "stream",
     "text": [
      "linear regression mse : 0.7308597727599858\n",
      "linear regression r2 : 0.26890738536487413\n",
      "svr mse : 0.7223132421161251\n",
      "svr r2 : 0.2774566388158932\n"
     ]
    }
   ],
   "source": [
    "lr_predict_test = lr.predict(x_test)\n",
    "svr_predict_test = svr.predict(x_test)\n",
    "\n",
    "print('linear regression mse :', mean_squared_error(y_test, lr_predict_test))\n",
    "print('linear regression r2 :', r2_score(y_test, lr_predict_test))\n",
    "print('svr mse :', mean_squared_error(y_test, svr_predict_test))\n",
    "print('svr r2 :', r2_score(y_test, svr_predict_test))"
   ]
  }
 ],
 "metadata": {
  "kernelspec": {
   "display_name": "Python 3",
   "language": "python",
   "name": "python3"
  },
  "language_info": {
   "codemirror_mode": {
    "name": "ipython",
    "version": 3
   },
   "file_extension": ".py",
   "mimetype": "text/x-python",
   "name": "python",
   "nbconvert_exporter": "python",
   "pygments_lexer": "ipython3",
   "version": "3.7.3"
  },
  "toc": {
   "base_numbering": 1,
   "nav_menu": {},
   "number_sections": false,
   "sideBar": true,
   "skip_h1_title": false,
   "title_cell": "Table of Contents",
   "title_sidebar": "Contents",
   "toc_cell": false,
   "toc_position": {},
   "toc_section_display": true,
   "toc_window_display": false
  },
  "varInspector": {
   "cols": {
    "lenName": 16,
    "lenType": 16,
    "lenVar": 40
   },
   "kernels_config": {
    "python": {
     "delete_cmd_postfix": "",
     "delete_cmd_prefix": "del ",
     "library": "var_list.py",
     "varRefreshCmd": "print(var_dic_list())"
    },
    "r": {
     "delete_cmd_postfix": ") ",
     "delete_cmd_prefix": "rm(",
     "library": "var_list.r",
     "varRefreshCmd": "cat(var_dic_list()) "
    }
   },
   "types_to_exclude": [
    "module",
    "function",
    "builtin_function_or_method",
    "instance",
    "_Feature"
   ],
   "window_display": false
  }
 },
 "nbformat": 4,
 "nbformat_minor": 2
}
