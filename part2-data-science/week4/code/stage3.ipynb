{
 "cells": [
  {
   "cell_type": "markdown",
   "metadata": {},
   "source": [
    "# stage3"
   ]
  },
  {
   "cell_type": "code",
   "execution_count": 1,
   "metadata": {},
   "outputs": [],
   "source": [
    "import pandas as pd\n",
    "import matplotlib.pyplot as plt\n",
    "%matplotlib inline\n",
    "import seaborn as sns\n",
    "sns.set()"
   ]
  },
  {
   "cell_type": "markdown",
   "metadata": {},
   "source": [
    "## 1. 데이터 로드"
   ]
  },
  {
   "cell_type": "code",
   "execution_count": 5,
   "metadata": {},
   "outputs": [
    {
     "data": {
      "text/html": [
       "<div>\n",
       "<style scoped>\n",
       "    .dataframe tbody tr th:only-of-type {\n",
       "        vertical-align: middle;\n",
       "    }\n",
       "\n",
       "    .dataframe tbody tr th {\n",
       "        vertical-align: top;\n",
       "    }\n",
       "\n",
       "    .dataframe thead th {\n",
       "        text-align: right;\n",
       "    }\n",
       "</style>\n",
       "<table border=\"1\" class=\"dataframe\">\n",
       "  <thead>\n",
       "    <tr style=\"text-align: right;\">\n",
       "      <th></th>\n",
       "      <th>ID</th>\n",
       "      <th>우수고객분류</th>\n",
       "      <th>이름</th>\n",
       "      <th>나이</th>\n",
       "      <th>성별</th>\n",
       "      <th>지역</th>\n",
       "      <th>관심사</th>\n",
       "    </tr>\n",
       "  </thead>\n",
       "  <tbody>\n",
       "    <tr>\n",
       "      <th>0</th>\n",
       "      <td>cdg</td>\n",
       "      <td>1</td>\n",
       "      <td>최도근</td>\n",
       "      <td>10</td>\n",
       "      <td>male</td>\n",
       "      <td>서울</td>\n",
       "      <td>축구</td>\n",
       "    </tr>\n",
       "    <tr>\n",
       "      <th>1</th>\n",
       "      <td>leekun</td>\n",
       "      <td>0</td>\n",
       "      <td>이헌영</td>\n",
       "      <td>42</td>\n",
       "      <td>male</td>\n",
       "      <td>서울</td>\n",
       "      <td>축구</td>\n",
       "    </tr>\n",
       "    <tr>\n",
       "      <th>2</th>\n",
       "      <td>son7</td>\n",
       "      <td>0</td>\n",
       "      <td>손흥민</td>\n",
       "      <td>38</td>\n",
       "      <td>female</td>\n",
       "      <td>경기</td>\n",
       "      <td>esports</td>\n",
       "    </tr>\n",
       "    <tr>\n",
       "      <th>3</th>\n",
       "      <td>parklangers</td>\n",
       "      <td>1</td>\n",
       "      <td>박지성</td>\n",
       "      <td>12</td>\n",
       "      <td>male</td>\n",
       "      <td>서울</td>\n",
       "      <td>축구</td>\n",
       "    </tr>\n",
       "    <tr>\n",
       "      <th>4</th>\n",
       "      <td>bluedragon</td>\n",
       "      <td>0</td>\n",
       "      <td>이청용</td>\n",
       "      <td>22</td>\n",
       "      <td>female</td>\n",
       "      <td>경기</td>\n",
       "      <td>esports</td>\n",
       "    </tr>\n",
       "    <tr>\n",
       "      <th>5</th>\n",
       "      <td>tuna</td>\n",
       "      <td>1</td>\n",
       "      <td>지동원</td>\n",
       "      <td>11</td>\n",
       "      <td>male</td>\n",
       "      <td>서울</td>\n",
       "      <td>야구</td>\n",
       "    </tr>\n",
       "    <tr>\n",
       "      <th>6</th>\n",
       "      <td>key</td>\n",
       "      <td>1</td>\n",
       "      <td>기성용</td>\n",
       "      <td>19</td>\n",
       "      <td>female</td>\n",
       "      <td>경기</td>\n",
       "      <td>축구</td>\n",
       "    </tr>\n",
       "    <tr>\n",
       "      <th>7</th>\n",
       "      <td>koojc</td>\n",
       "      <td>0</td>\n",
       "      <td>구자철</td>\n",
       "      <td>28</td>\n",
       "      <td>male</td>\n",
       "      <td>제주</td>\n",
       "      <td>esports</td>\n",
       "    </tr>\n",
       "  </tbody>\n",
       "</table>\n",
       "</div>"
      ],
      "text/plain": [
       "            ID  우수고객분류   이름  나이      성별  지역      관심사\n",
       "0          cdg       1  최도근  10    male  서울       축구\n",
       "1       leekun       0  이헌영  42    male  서울       축구\n",
       "2         son7       0  손흥민  38  female  경기  esports\n",
       "3  parklangers       1  박지성  12    male  서울       축구\n",
       "4   bluedragon       0  이청용  22  female  경기  esports\n",
       "5         tuna       1  지동원  11    male  서울       야구\n",
       "6          key       1  기성용  19  female  경기       축구\n",
       "7        koojc       0  구자철  28    male  제주  esports"
      ]
     },
     "execution_count": 5,
     "metadata": {},
     "output_type": "execute_result"
    }
   ],
   "source": [
    "df = pd.read_csv('data/my_customers.csv')\n",
    "df"
   ]
  },
  {
   "cell_type": "markdown",
   "metadata": {},
   "source": [
    "## 2. 데이터 전처리"
   ]
  },
  {
   "cell_type": "code",
   "execution_count": 6,
   "metadata": {},
   "outputs": [],
   "source": [
    "df.loc[df['성별'] == 'male', '성별'] = 0\n",
    "df.loc[df['성별'] == 'female', '성별'] = 1\n",
    "\n",
    "df.loc[df['지역'] == '서울', '지역'] = 0\n",
    "df.loc[df['지역'] == '경기', '지역'] = 1\n",
    "df.loc[df['지역'] == '제주', '지역'] = 2\n",
    "\n",
    "df.loc[df['관심사'] == '축구', '관심사'] = 0\n",
    "df.loc[df['관심사'] == '야구', '관심사'] = 1\n",
    "df.loc[df['관심사'] == 'esports', '관심사'] = 2"
   ]
  },
  {
   "cell_type": "code",
   "execution_count": 7,
   "metadata": {},
   "outputs": [
    {
     "data": {
      "text/html": [
       "<div>\n",
       "<style scoped>\n",
       "    .dataframe tbody tr th:only-of-type {\n",
       "        vertical-align: middle;\n",
       "    }\n",
       "\n",
       "    .dataframe tbody tr th {\n",
       "        vertical-align: top;\n",
       "    }\n",
       "\n",
       "    .dataframe thead th {\n",
       "        text-align: right;\n",
       "    }\n",
       "</style>\n",
       "<table border=\"1\" class=\"dataframe\">\n",
       "  <thead>\n",
       "    <tr style=\"text-align: right;\">\n",
       "      <th></th>\n",
       "      <th>ID</th>\n",
       "      <th>우수고객분류</th>\n",
       "      <th>이름</th>\n",
       "      <th>나이</th>\n",
       "      <th>성별</th>\n",
       "      <th>지역</th>\n",
       "      <th>관심사</th>\n",
       "    </tr>\n",
       "  </thead>\n",
       "  <tbody>\n",
       "    <tr>\n",
       "      <th>0</th>\n",
       "      <td>cdg</td>\n",
       "      <td>1</td>\n",
       "      <td>최도근</td>\n",
       "      <td>10</td>\n",
       "      <td>0</td>\n",
       "      <td>0</td>\n",
       "      <td>0</td>\n",
       "    </tr>\n",
       "    <tr>\n",
       "      <th>1</th>\n",
       "      <td>leekun</td>\n",
       "      <td>0</td>\n",
       "      <td>이헌영</td>\n",
       "      <td>42</td>\n",
       "      <td>0</td>\n",
       "      <td>0</td>\n",
       "      <td>0</td>\n",
       "    </tr>\n",
       "    <tr>\n",
       "      <th>2</th>\n",
       "      <td>son7</td>\n",
       "      <td>0</td>\n",
       "      <td>손흥민</td>\n",
       "      <td>38</td>\n",
       "      <td>1</td>\n",
       "      <td>1</td>\n",
       "      <td>2</td>\n",
       "    </tr>\n",
       "    <tr>\n",
       "      <th>3</th>\n",
       "      <td>parklangers</td>\n",
       "      <td>1</td>\n",
       "      <td>박지성</td>\n",
       "      <td>12</td>\n",
       "      <td>0</td>\n",
       "      <td>0</td>\n",
       "      <td>0</td>\n",
       "    </tr>\n",
       "    <tr>\n",
       "      <th>4</th>\n",
       "      <td>bluedragon</td>\n",
       "      <td>0</td>\n",
       "      <td>이청용</td>\n",
       "      <td>22</td>\n",
       "      <td>1</td>\n",
       "      <td>1</td>\n",
       "      <td>2</td>\n",
       "    </tr>\n",
       "    <tr>\n",
       "      <th>5</th>\n",
       "      <td>tuna</td>\n",
       "      <td>1</td>\n",
       "      <td>지동원</td>\n",
       "      <td>11</td>\n",
       "      <td>0</td>\n",
       "      <td>0</td>\n",
       "      <td>1</td>\n",
       "    </tr>\n",
       "    <tr>\n",
       "      <th>6</th>\n",
       "      <td>key</td>\n",
       "      <td>1</td>\n",
       "      <td>기성용</td>\n",
       "      <td>19</td>\n",
       "      <td>1</td>\n",
       "      <td>1</td>\n",
       "      <td>0</td>\n",
       "    </tr>\n",
       "    <tr>\n",
       "      <th>7</th>\n",
       "      <td>koojc</td>\n",
       "      <td>0</td>\n",
       "      <td>구자철</td>\n",
       "      <td>28</td>\n",
       "      <td>0</td>\n",
       "      <td>2</td>\n",
       "      <td>2</td>\n",
       "    </tr>\n",
       "  </tbody>\n",
       "</table>\n",
       "</div>"
      ],
      "text/plain": [
       "            ID  우수고객분류   이름  나이  성별  지역  관심사\n",
       "0          cdg       1  최도근  10   0   0    0\n",
       "1       leekun       0  이헌영  42   0   0    0\n",
       "2         son7       0  손흥민  38   1   1    2\n",
       "3  parklangers       1  박지성  12   0   0    0\n",
       "4   bluedragon       0  이청용  22   1   1    2\n",
       "5         tuna       1  지동원  11   0   0    1\n",
       "6          key       1  기성용  19   1   1    0\n",
       "7        koojc       0  구자철  28   0   2    2"
      ]
     },
     "execution_count": 7,
     "metadata": {},
     "output_type": "execute_result"
    }
   ],
   "source": [
    "df"
   ]
  },
  {
   "cell_type": "markdown",
   "metadata": {},
   "source": [
    "## 3. 모델링"
   ]
  },
  {
   "cell_type": "code",
   "execution_count": 11,
   "metadata": {},
   "outputs": [],
   "source": [
    "input_data = df[['나이', '성별', '지역', '관심사']]\n",
    "target_data = df['우수고객분류']"
   ]
  },
  {
   "cell_type": "code",
   "execution_count": 12,
   "metadata": {},
   "outputs": [
    {
     "name": "stdout",
     "output_type": "stream",
     "text": [
      "accuracy : 1.0\n"
     ]
    }
   ],
   "source": [
    "from sklearn.ensemble import RandomForestClassifier\n",
    "\n",
    "rf = RandomForestClassifier(n_estimators=100)\n",
    "rf.fit(input_data, target_data)\n",
    "\n",
    "print('accuracy :', rf.score(input_data, target_data))"
   ]
  },
  {
   "cell_type": "code",
   "execution_count": 21,
   "metadata": {},
   "outputs": [
    {
     "data": {
      "text/plain": [
       "array([1], dtype=int64)"
      ]
     },
     "execution_count": 21,
     "metadata": {},
     "output_type": "execute_result"
    }
   ],
   "source": [
    "rf.predict([[23, 1, 1, 1]])"
   ]
  },
  {
   "cell_type": "code",
   "execution_count": 18,
   "metadata": {},
   "outputs": [
    {
     "data": {
      "text/html": [
       "<div>\n",
       "<style scoped>\n",
       "    .dataframe tbody tr th:only-of-type {\n",
       "        vertical-align: middle;\n",
       "    }\n",
       "\n",
       "    .dataframe tbody tr th {\n",
       "        vertical-align: top;\n",
       "    }\n",
       "\n",
       "    .dataframe thead th {\n",
       "        text-align: right;\n",
       "    }\n",
       "</style>\n",
       "<table border=\"1\" class=\"dataframe\">\n",
       "  <thead>\n",
       "    <tr style=\"text-align: right;\">\n",
       "      <th></th>\n",
       "      <th>ID</th>\n",
       "      <th>이름</th>\n",
       "      <th>나이</th>\n",
       "      <th>성별</th>\n",
       "      <th>지역</th>\n",
       "      <th>관심사</th>\n",
       "    </tr>\n",
       "  </thead>\n",
       "  <tbody>\n",
       "    <tr>\n",
       "      <th>0</th>\n",
       "      <td>tseter1</td>\n",
       "      <td>이강인</td>\n",
       "      <td>10</td>\n",
       "      <td>male</td>\n",
       "      <td>서울</td>\n",
       "      <td>축구</td>\n",
       "    </tr>\n",
       "    <tr>\n",
       "      <th>1</th>\n",
       "      <td>tester2</td>\n",
       "      <td>이승우</td>\n",
       "      <td>25</td>\n",
       "      <td>female</td>\n",
       "      <td>경기</td>\n",
       "      <td>야구</td>\n",
       "    </tr>\n",
       "  </tbody>\n",
       "</table>\n",
       "</div>"
      ],
      "text/plain": [
       "        ID   이름  나이      성별  지역 관심사\n",
       "0  tseter1  이강인  10    male  서울  축구\n",
       "1  tester2  이승우  25  female  경기  야구"
      ]
     },
     "execution_count": 18,
     "metadata": {},
     "output_type": "execute_result"
    }
   ],
   "source": [
    "df_test = pd.read_csv('./data/new_customers.csv')\n",
    "df_test"
   ]
  },
  {
   "cell_type": "code",
   "execution_count": 19,
   "metadata": {},
   "outputs": [
    {
     "name": "stderr",
     "output_type": "stream",
     "text": [
      "C:\\Users\\round\\Anaconda3\\lib\\site-packages\\pandas\\core\\ops.py:1649: FutureWarning: elementwise comparison failed; returning scalar instead, but in the future will perform elementwise comparison\n",
      "  result = method(y)\n"
     ]
    }
   ],
   "source": [
    "df_test.loc[df_test['성별'] == 'male', '성별'] = 0\n",
    "df_test.loc[df_test['성별'] == 'female', '성별'] = 1\n",
    "\n",
    "df_test.loc[df_test['지역'] == '서울', '지역'] = 0\n",
    "df_test.loc[df_test['지역'] == '경기', '지역'] = 1\n",
    "df_test.loc[df_test['지역'] == '제주', '지역'] = 2\n",
    "\n",
    "df_test.loc[df_test['관심사'] == '축구', '관심사'] = 0\n",
    "df_test.loc[df_test['관심사'] == '야구', '관심사'] = 1\n",
    "df_test.loc[df_test['관심사'] == 'esports', '관심사'] = 2"
   ]
  },
  {
   "cell_type": "code",
   "execution_count": 20,
   "metadata": {},
   "outputs": [
    {
     "data": {
      "text/plain": [
       "array([1, 0], dtype=int64)"
      ]
     },
     "execution_count": 20,
     "metadata": {},
     "output_type": "execute_result"
    }
   ],
   "source": [
    "test_input = df_test[['나이', '성별', '지역', '관심사']]\n",
    "rf.predict(test_input)"
   ]
  }
 ],
 "metadata": {
  "kernelspec": {
   "display_name": "Python 3",
   "language": "python",
   "name": "python3"
  },
  "language_info": {
   "codemirror_mode": {
    "name": "ipython",
    "version": 3
   },
   "file_extension": ".py",
   "mimetype": "text/x-python",
   "name": "python",
   "nbconvert_exporter": "python",
   "pygments_lexer": "ipython3",
   "version": "3.7.3"
  },
  "toc": {
   "base_numbering": 1,
   "nav_menu": {},
   "number_sections": false,
   "sideBar": true,
   "skip_h1_title": false,
   "title_cell": "Table of Contents",
   "title_sidebar": "Contents",
   "toc_cell": false,
   "toc_position": {},
   "toc_section_display": true,
   "toc_window_display": false
  },
  "varInspector": {
   "cols": {
    "lenName": 16,
    "lenType": 16,
    "lenVar": 40
   },
   "kernels_config": {
    "python": {
     "delete_cmd_postfix": "",
     "delete_cmd_prefix": "del ",
     "library": "var_list.py",
     "varRefreshCmd": "print(var_dic_list())"
    },
    "r": {
     "delete_cmd_postfix": ") ",
     "delete_cmd_prefix": "rm(",
     "library": "var_list.r",
     "varRefreshCmd": "cat(var_dic_list()) "
    }
   },
   "types_to_exclude": [
    "module",
    "function",
    "builtin_function_or_method",
    "instance",
    "_Feature"
   ],
   "window_display": false
  }
 },
 "nbformat": 4,
 "nbformat_minor": 2
}
