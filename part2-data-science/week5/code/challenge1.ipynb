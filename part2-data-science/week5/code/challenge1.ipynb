{
 "cells": [
  {
   "cell_type": "code",
   "execution_count": 1,
   "metadata": {},
   "outputs": [],
   "source": [
    "import numpy as np"
   ]
  },
  {
   "cell_type": "code",
   "execution_count": 10,
   "metadata": {
    "scrolled": true
   },
   "outputs": [
    {
     "name": "stdout",
     "output_type": "stream",
     "text": [
      "[ 1000 ] : 0.2 , 3.900000000000001 , 1.9000000000000001 , 8.924183999999997\n",
      "[ 2000 ] : 0.4 , 4.100000000000001 , 1.2000000000000002 , 3.384016000000002\n",
      "[ 3000 ] : 0.4 , 4.100000000000001 , 1.2000000000000002 , 3.384016000000002\n",
      "[ 4000 ] : 0.4 , 4.100000000000001 , 1.2000000000000002 , 3.384016000000002\n",
      "[ 5000 ] : 0.4 , 4.100000000000001 , 1.2000000000000002 , 3.384016000000002\n",
      "[ 6000 ] : 0.4 , 4.100000000000001 , 1.2000000000000002 , 3.384016000000002\n",
      "[ 7000 ] : 0.4 , 4.100000000000001 , 1.2000000000000002 , 3.384016000000002\n",
      "[ 8000 ] : 0.4 , 4.100000000000001 , 1.2000000000000002 , 3.384016000000002\n",
      "[ 9000 ] : 0.4 , 4.100000000000001 , 1.2000000000000002 , 3.384016000000002\n",
      "[ 10000 ] : 0.4 , 4.100000000000001 , 1.2000000000000002 , 3.384016000000002\n",
      "[ 11000 ] : 0.4 , 4.100000000000001 , 1.2000000000000002 , 3.384016000000002\n",
      "[ 12000 ] : 0.4 , 4.100000000000001 , 1.2000000000000002 , 3.384016000000002\n",
      "[ 13000 ] : 0.4 , 4.100000000000001 , 1.2000000000000002 , 3.384016000000002\n",
      "[ 14000 ] : 0.4 , 4.100000000000001 , 1.2000000000000002 , 3.384016000000002\n",
      "[ 15000 ] : 0.4 , 4.100000000000001 , 1.2000000000000002 , 3.384016000000002\n",
      "[ 16000 ] : 0.4 , 4.100000000000001 , 1.2000000000000002 , 3.384016000000002\n",
      "[ 17000 ] : 0.4 , 4.100000000000001 , 1.2000000000000002 , 3.384016000000002\n",
      "[ 18000 ] : 0.4 , 4.100000000000001 , 1.2000000000000002 , 3.384016000000002\n",
      "[ 19000 ] : 0.4 , 4.100000000000001 , 1.2000000000000002 , 3.384016000000002\n",
      "[ 20000 ] : 0.4 , 4.100000000000001 , 1.2000000000000002 , 3.384016000000002\n"
     ]
    },
    {
     "data": {
      "text/plain": [
       "(0.4, 4.100000000000001, 1.2000000000000002, 3.384016000000002)"
      ]
     },
     "execution_count": 10,
     "metadata": {},
     "output_type": "execute_result"
    }
   ],
   "source": [
    "data = [(1, 5), (1.5, 4), (2, 3), (3, 1), (3, 2), (4, 1), (5, 1.5), (6, 2), (6, 4), (7, 4), (7, 5)]\n",
    "\n",
    "min_a = 0\n",
    "min_b = 0\n",
    "min_c = 0\n",
    "min_sum = 10000\n",
    "epoch = 1000\n",
    "count = 0\n",
    "\n",
    "for a in np.arange(0, 5, 0.1):\n",
    "    for b in np.arange(3, 5, 0.1):\n",
    "        for c in np.arange(0, 2, 0.1):\n",
    "            sums = 0\n",
    "        \n",
    "            for (x, y) in data:\n",
    "                predict = a*(x - b)**2 + c\n",
    "                sums = sums + (y - predict)**2\n",
    "        \n",
    "            if sums < min_sum:\n",
    "                min_a = a\n",
    "                min_b = b\n",
    "                min_c = c\n",
    "                min_sum = sums\n",
    "            \n",
    "            count += 1\n",
    "            if count % epoch == 0:\n",
    "                print('[', count, '] :', min_a, ',', min_b, ',', min_c, ',', min_sum)\n",
    "\n",
    "min_a, min_b, min_c, min_sum"
   ]
  }
 ],
 "metadata": {
  "kernelspec": {
   "display_name": "Python 3",
   "language": "python",
   "name": "python3"
  },
  "language_info": {
   "codemirror_mode": {
    "name": "ipython",
    "version": 3
   },
   "file_extension": ".py",
   "mimetype": "text/x-python",
   "name": "python",
   "nbconvert_exporter": "python",
   "pygments_lexer": "ipython3",
   "version": "3.7.3"
  },
  "toc": {
   "base_numbering": 1,
   "nav_menu": {},
   "number_sections": false,
   "sideBar": true,
   "skip_h1_title": false,
   "title_cell": "Table of Contents",
   "title_sidebar": "Contents",
   "toc_cell": false,
   "toc_position": {},
   "toc_section_display": true,
   "toc_window_display": false
  },
  "varInspector": {
   "cols": {
    "lenName": 16,
    "lenType": 16,
    "lenVar": 40
   },
   "kernels_config": {
    "python": {
     "delete_cmd_postfix": "",
     "delete_cmd_prefix": "del ",
     "library": "var_list.py",
     "varRefreshCmd": "print(var_dic_list())"
    },
    "r": {
     "delete_cmd_postfix": ") ",
     "delete_cmd_prefix": "rm(",
     "library": "var_list.r",
     "varRefreshCmd": "cat(var_dic_list()) "
    }
   },
   "types_to_exclude": [
    "module",
    "function",
    "builtin_function_or_method",
    "instance",
    "_Feature"
   ],
   "window_display": false
  }
 },
 "nbformat": 4,
 "nbformat_minor": 2
}
