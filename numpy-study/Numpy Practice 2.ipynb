{
 "cells": [
  {
   "cell_type": "markdown",
   "metadata": {},
   "source": [
    "# Numpy Practice 2\n",
    "본격적인 데이터 분석에 들어가기 전에 `numpy`를 이용하여 간단한 데이터 처리를 해봅시다!"
   ]
  },
  {
   "cell_type": "code",
   "execution_count": 1,
   "metadata": {},
   "outputs": [],
   "source": [
    "import numpy as np"
   ]
  },
  {
   "cell_type": "markdown",
   "metadata": {},
   "source": [
    "## 1. `student.csv` 설명\n",
    "학생들의 총점은 **출석 10%, 중간 40%, 기말 40%, 과제1, 2 각각 5%**로 계산된다.\n",
    "\n",
    "이 때 각 column의 의미하는 바는 다음과 같다.\n",
    "* `id` : 학생들을 구분하는 id\n",
    "* `present/absent/late` : 출석/결석/지각 수 (총 32일)\n",
    "* `midterm/final` : 중간고사/기말고사 성적 (100점 만점)\n",
    "* `assignment1/assignemnt2` : 과제1, 2 성적 (10점 만점)"
   ]
  },
  {
   "cell_type": "markdown",
   "metadata": {},
   "source": [
    "## 2. 파일 불러오기"
   ]
  },
  {
   "cell_type": "code",
   "execution_count": 2,
   "metadata": {},
   "outputs": [
    {
     "data": {
      "text/plain": [
       "array([[ 1., 32.,  0.,  0., 60., 20., 10., 10.],\n",
       "       [ 2., 20., 10.,  2., 75., 28., 10., 10.],\n",
       "       [ 3., 10.,  2., 20., 24., 24., 10.,  7.],\n",
       "       [ 4., 30.,  1.,  1., 87., 29., 10.,  8.],\n",
       "       [ 5., 31.,  0.,  1., 56., 31.,  8.,  7.],\n",
       "       [ 6., 29.,  3.,  0., 93., 19.,  9.,  6.],\n",
       "       [ 7.,  1., 30.,  1., 32., 43., 10., 10.],\n",
       "       [ 8., 28.,  2.,  2., 56., 30., 10., 10.],\n",
       "       [ 9., 32.,  0.,  0., 29., 50., 10., 10.],\n",
       "       [10., 31.,  1.,  0., 74., 35.,  0., 10.],\n",
       "       [11., 27.,  1.,  4., 81., 42.,  0., 10.],\n",
       "       [12., 26.,  2.,  4., 76., 22.,  0., 10.],\n",
       "       [13., 22.,  6.,  4., 83., 19., 10.,  6.],\n",
       "       [14., 31.,  1.,  0., 75.,  5.,  9., 10.],\n",
       "       [15., 19.,  1., 12., 76., 11.,  8., 10.],\n",
       "       [16., 28.,  0.,  4., 81., 36.,  7.,  1.],\n",
       "       [17., 32.,  0.,  0., 77., 30.,  5., 10.],\n",
       "       [18.,  0.,  0., 32., 71., 29.,  5., 10.],\n",
       "       [19., 29.,  1.,  2., 74., 21., 10.,  9.],\n",
       "       [20., 23.,  2.,  7., 69., 31., 10.,  7.]])"
      ]
     },
     "execution_count": 2,
     "metadata": {},
     "output_type": "execute_result"
    }
   ],
   "source": [
    "data = np.loadtxt('./student.csv', delimiter=',')\n",
    "data"
   ]
  },
  {
   "cell_type": "markdown",
   "metadata": {},
   "source": [
    "## 3. 연습문제"
   ]
  },
  {
   "cell_type": "markdown",
   "metadata": {},
   "source": [
    "### 3.1. student 데이터의 위의 다섯 개의 행을 출력하시오."
   ]
  },
  {
   "cell_type": "code",
   "execution_count": 3,
   "metadata": {},
   "outputs": [
    {
     "data": {
      "text/plain": [
       "array([[ 1., 32.,  0.,  0., 60., 20., 10., 10.],\n",
       "       [ 2., 20., 10.,  2., 75., 28., 10., 10.],\n",
       "       [ 3., 10.,  2., 20., 24., 24., 10.,  7.],\n",
       "       [ 4., 30.,  1.,  1., 87., 29., 10.,  8.],\n",
       "       [ 5., 31.,  0.,  1., 56., 31.,  8.,  7.]])"
      ]
     },
     "execution_count": 3,
     "metadata": {},
     "output_type": "execute_result"
    }
   ],
   "source": [
    "data[:5,:]"
   ]
  },
  {
   "cell_type": "markdown",
   "metadata": {},
   "source": [
    "### 3.2. student 데이터의 크기를 확인하시오."
   ]
  },
  {
   "cell_type": "code",
   "execution_count": 4,
   "metadata": {},
   "outputs": [
    {
     "data": {
      "text/plain": [
       "(20, 8)"
      ]
     },
     "execution_count": 4,
     "metadata": {},
     "output_type": "execute_result"
    }
   ],
   "source": [
    "data.shape"
   ]
  },
  {
   "cell_type": "markdown",
   "metadata": {},
   "source": [
    "### 3.3. 각 학생들의 총 점수를 1차원 배열로 나타내시오."
   ]
  },
  {
   "cell_type": "markdown",
   "metadata": {},
   "source": [
    "#### 3.3.1. 출석과 관련된 부분만 슬라이싱 하시오."
   ]
  },
  {
   "cell_type": "code",
   "execution_count": 5,
   "metadata": {},
   "outputs": [
    {
     "data": {
      "text/plain": [
       "array([[32.,  0.,  0.],\n",
       "       [20., 10.,  2.],\n",
       "       [10.,  2., 20.],\n",
       "       [30.,  1.,  1.],\n",
       "       [31.,  0.,  1.],\n",
       "       [29.,  3.,  0.],\n",
       "       [ 1., 30.,  1.],\n",
       "       [28.,  2.,  2.],\n",
       "       [32.,  0.,  0.],\n",
       "       [31.,  1.,  0.],\n",
       "       [27.,  1.,  4.],\n",
       "       [26.,  2.,  4.],\n",
       "       [22.,  6.,  4.],\n",
       "       [31.,  1.,  0.],\n",
       "       [19.,  1., 12.],\n",
       "       [28.,  0.,  4.],\n",
       "       [32.,  0.,  0.],\n",
       "       [ 0.,  0., 32.],\n",
       "       [29.,  1.,  2.],\n",
       "       [23.,  2.,  7.]])"
      ]
     },
     "execution_count": 5,
     "metadata": {},
     "output_type": "execute_result"
    }
   ],
   "source": [
    "data[:, 1:4]"
   ]
  },
  {
   "cell_type": "markdown",
   "metadata": {},
   "source": [
    "#### 3.3.2. 출석 점수를 계산하여 `attend`라는 1차원 배열에 저장하시오.\n",
    "* 출석 일수는 총 32이다.\n",
    "* 지각 한 번당 -0.5, 결석 한 번당 -1점 감점이 된다.\n",
    "* 감점이 -4이상으로 되면 출석 점수를 0점 처리한다.\n",
    "* 출석 점수는 반영비율이 10%이다."
   ]
  },
  {
   "cell_type": "code",
   "execution_count": 16,
   "metadata": {},
   "outputs": [
    {
     "data": {
      "text/plain": [
       "array([10.     ,  0.     ,  0.     ,  9.53125,  9.84375,  9.0625 ,\n",
       "        0.     ,  9.0625 , 10.     ,  9.6875 ,  9.0625 ,  0.     ,\n",
       "        0.     ,  9.6875 ,  0.     ,  9.375  , 10.     ,  0.     ,\n",
       "        9.375  ,  0.     ])"
      ]
     },
     "execution_count": 16,
     "metadata": {},
     "output_type": "execute_result"
    }
   ],
   "source": [
    "attend = 32 + data[:, 2:4].dot(np.array([-1, -0.5]))\n",
    "attend[attend <= 28] = 0\n",
    "attend = attend/32*10\n",
    "attend"
   ]
  },
  {
   "cell_type": "markdown",
   "metadata": {},
   "source": [
    "#### 3.3.3. 중간고사, 기말고사와 관련된 부분만 슬라이싱 하시오."
   ]
  },
  {
   "cell_type": "code",
   "execution_count": 17,
   "metadata": {},
   "outputs": [
    {
     "data": {
      "text/plain": [
       "array([[60., 20.],\n",
       "       [75., 28.],\n",
       "       [24., 24.],\n",
       "       [87., 29.],\n",
       "       [56., 31.],\n",
       "       [93., 19.],\n",
       "       [32., 43.],\n",
       "       [56., 30.],\n",
       "       [29., 50.],\n",
       "       [74., 35.],\n",
       "       [81., 42.],\n",
       "       [76., 22.],\n",
       "       [83., 19.],\n",
       "       [75.,  5.],\n",
       "       [76., 11.],\n",
       "       [81., 36.],\n",
       "       [77., 30.],\n",
       "       [71., 29.],\n",
       "       [74., 21.],\n",
       "       [69., 31.]])"
      ]
     },
     "execution_count": 17,
     "metadata": {},
     "output_type": "execute_result"
    }
   ],
   "source": [
    "data[:, [4, 5]]"
   ]
  },
  {
   "cell_type": "markdown",
   "metadata": {},
   "source": [
    "#### 3.3.4. 시험 점수를 계산하여 `exam`라는 1차원 배열에 저장하시오.\n",
    "* 중간고사 반영비율은 40%, 기말고사 반영비율은 40%이다.\n",
    "* 중간고사, 기말고사 모두 총점이 100점 만점이다."
   ]
  },
  {
   "cell_type": "code",
   "execution_count": 18,
   "metadata": {},
   "outputs": [
    {
     "data": {
      "text/plain": [
       "array([32. , 41.2, 19.2, 46.4, 34.8, 44.8, 30. , 34.4, 31.6, 43.6, 49.2,\n",
       "       39.2, 40.8, 32. , 34.8, 46.8, 42.8, 40. , 38. , 40. ])"
      ]
     },
     "execution_count": 18,
     "metadata": {},
     "output_type": "execute_result"
    }
   ],
   "source": [
    "exam = data[:, [4, 5]].dot(np.array([0.4, 0.4]))\n",
    "exam"
   ]
  },
  {
   "cell_type": "markdown",
   "metadata": {},
   "source": [
    "#### 3.3.5. 과제와 관련된 부분만 슬라이싱 하시오."
   ]
  },
  {
   "cell_type": "code",
   "execution_count": 19,
   "metadata": {},
   "outputs": [
    {
     "data": {
      "text/plain": [
       "array([[10., 10.],\n",
       "       [10., 10.],\n",
       "       [10.,  7.],\n",
       "       [10.,  8.],\n",
       "       [ 8.,  7.],\n",
       "       [ 9.,  6.],\n",
       "       [10., 10.],\n",
       "       [10., 10.],\n",
       "       [10., 10.],\n",
       "       [ 0., 10.],\n",
       "       [ 0., 10.],\n",
       "       [ 0., 10.],\n",
       "       [10.,  6.],\n",
       "       [ 9., 10.],\n",
       "       [ 8., 10.],\n",
       "       [ 7.,  1.],\n",
       "       [ 5., 10.],\n",
       "       [ 5., 10.],\n",
       "       [10.,  9.],\n",
       "       [10.,  7.]])"
      ]
     },
     "execution_count": 19,
     "metadata": {},
     "output_type": "execute_result"
    }
   ],
   "source": [
    "data[:, [-2, -1]]"
   ]
  },
  {
   "cell_type": "markdown",
   "metadata": {},
   "source": [
    "#### 3.3.6. 과제 점수를 계산하여 `assignment`라는 1차원 배열에 저장하시오.\n",
    "* 과제 1, 2는 모두 총점이 10점 만점이다.\n",
    "* 과제 1, 2의 반영비율은 각각 5%이다."
   ]
  },
  {
   "cell_type": "code",
   "execution_count": 20,
   "metadata": {},
   "outputs": [
    {
     "data": {
      "text/plain": [
       "array([10. , 10. ,  8.5,  9. ,  7.5,  7.5, 10. , 10. , 10. ,  5. ,  5. ,\n",
       "        5. ,  8. ,  9.5,  9. ,  4. ,  7.5,  7.5,  9.5,  8.5])"
      ]
     },
     "execution_count": 20,
     "metadata": {},
     "output_type": "execute_result"
    }
   ],
   "source": [
    "assignment = data[:, [-2, -1]].dot(np.array([0.5, 0.5]))\n",
    "assignment"
   ]
  },
  {
   "cell_type": "markdown",
   "metadata": {},
   "source": [
    "#### 3.3.7. 각 학생들의 총점을 `result`라는 1차원 배열에 저장하시오."
   ]
  },
  {
   "cell_type": "code",
   "execution_count": 21,
   "metadata": {},
   "outputs": [
    {
     "data": {
      "text/plain": [
       "array([52.     , 51.2    , 27.7    , 64.93125, 52.14375, 61.3625 ,\n",
       "       40.     , 53.4625 , 51.6    , 58.2875 , 63.2625 , 44.2    ,\n",
       "       48.8    , 51.1875 , 43.8    , 60.175  , 60.3    , 47.5    ,\n",
       "       56.875  , 48.5    ])"
      ]
     },
     "execution_count": 21,
     "metadata": {},
     "output_type": "execute_result"
    }
   ],
   "source": [
    "result = attend+exam+assignment\n",
    "result"
   ]
  },
  {
   "cell_type": "markdown",
   "metadata": {},
   "source": [
    "#### 3.3.8. 학생들의 평균을 `avg`, 표준편차를 `std`, 최고점수를 `max_score`, 최저점수를 `min_score`에 저장하시오. "
   ]
  },
  {
   "cell_type": "code",
   "execution_count": 22,
   "metadata": {},
   "outputs": [
    {
     "name": "stdout",
     "output_type": "stream",
     "text": [
      "평균 : 51.864374999999995\n",
      "표준편차 : 8.629305560305822\n",
      "최고점수 : 64.93125\n",
      "최저점수 : 27.700000000000003\n"
     ]
    }
   ],
   "source": [
    "avg = np.mean(result)\n",
    "std = np.std(result)\n",
    "max_score = np.max(result)\n",
    "min_score = np.min(result)\n",
    "\n",
    "print('평균 :', avg)\n",
    "print('표준편차 :', std)\n",
    "print('최고점수 :', max_score)\n",
    "print('최저점수 :', min_score)"
   ]
  }
 ],
 "metadata": {
  "kernelspec": {
   "display_name": "Python 3",
   "language": "python",
   "name": "python3"
  },
  "language_info": {
   "codemirror_mode": {
    "name": "ipython",
    "version": 3
   },
   "file_extension": ".py",
   "mimetype": "text/x-python",
   "name": "python",
   "nbconvert_exporter": "python",
   "pygments_lexer": "ipython3",
   "version": "3.7.3"
  },
  "toc": {
   "base_numbering": 1,
   "nav_menu": {},
   "number_sections": false,
   "sideBar": true,
   "skip_h1_title": false,
   "title_cell": "Table of Contents",
   "title_sidebar": "Contents",
   "toc_cell": false,
   "toc_position": {},
   "toc_section_display": true,
   "toc_window_display": false
  },
  "varInspector": {
   "cols": {
    "lenName": 16,
    "lenType": 16,
    "lenVar": 40
   },
   "kernels_config": {
    "python": {
     "delete_cmd_postfix": "",
     "delete_cmd_prefix": "del ",
     "library": "var_list.py",
     "varRefreshCmd": "print(var_dic_list())"
    },
    "r": {
     "delete_cmd_postfix": ") ",
     "delete_cmd_prefix": "rm(",
     "library": "var_list.r",
     "varRefreshCmd": "cat(var_dic_list()) "
    }
   },
   "types_to_exclude": [
    "module",
    "function",
    "builtin_function_or_method",
    "instance",
    "_Feature"
   ],
   "window_display": false
  }
 },
 "nbformat": 4,
 "nbformat_minor": 2
}
