{
 "cells": [
  {
   "cell_type": "markdown",
   "metadata": {},
   "source": [
    "# Numpy Practice 2\n",
    "본격적인 데이터 분석에 들어가기 전에 `numpy`를 이용하여 간단한 데이터 처리를 해봅시다!"
   ]
  },
  {
   "cell_type": "code",
   "execution_count": 1,
   "metadata": {},
   "outputs": [],
   "source": [
    "import numpy as np"
   ]
  },
  {
   "cell_type": "markdown",
   "metadata": {},
   "source": [
    "## 1. `student.csv` 설명\n",
    "학생들의 총점은 **출석 10%, 중간 40%, 기말 40%, 과제1, 2 각각 5%**로 계산된다.\n",
    "\n",
    "이 때 각 column의 의미하는 바는 다음과 같다.\n",
    "* `id` : 학생들을 구분하는 id\n",
    "* `present/absent/late` : 출석/결석/지각 수 (총 32일)\n",
    "* `midterm/final` : 중간고사/기말고사 성적 (100점 만점)\n",
    "* `assignment1/assignemnt2` : 과제1, 2 성적 (10점 만점)"
   ]
  },
  {
   "cell_type": "markdown",
   "metadata": {},
   "source": [
    "## 2. 파일 불러오기"
   ]
  },
  {
   "cell_type": "code",
   "execution_count": 2,
   "metadata": {},
   "outputs": [
    {
     "data": {
      "text/plain": [
       "array([[ 1., 32.,  0.,  0., 60., 20., 10., 10.],\n",
       "       [ 2., 20., 10.,  2., 75., 28., 10., 10.],\n",
       "       [ 3., 10.,  2., 20., 24., 24., 10.,  7.],\n",
       "       [ 4., 30.,  1.,  1., 87., 29., 10.,  8.],\n",
       "       [ 5., 31.,  0.,  1., 56., 31.,  8.,  7.],\n",
       "       [ 6., 29.,  3.,  0., 93., 19.,  9.,  6.],\n",
       "       [ 7.,  1., 30.,  1., 32., 43., 10., 10.],\n",
       "       [ 8., 28.,  2.,  2., 56., 30., 10., 10.],\n",
       "       [ 9., 32.,  0.,  0., 29., 50., 10., 10.],\n",
       "       [10., 31.,  1.,  0., 74., 35.,  0., 10.],\n",
       "       [11., 27.,  1.,  4., 81., 42.,  0., 10.],\n",
       "       [12., 26.,  2.,  4., 76., 22.,  0., 10.],\n",
       "       [13., 22.,  6.,  4., 83., 19., 10.,  6.],\n",
       "       [14., 31.,  1.,  0., 75.,  5.,  9., 10.],\n",
       "       [15., 19.,  1., 12., 76., 11.,  8., 10.],\n",
       "       [16., 28.,  0.,  4., 81., 36.,  7.,  1.],\n",
       "       [17., 32.,  0.,  0., 77., 30.,  5., 10.],\n",
       "       [18.,  0.,  0., 32., 71., 29.,  5., 10.],\n",
       "       [19., 29.,  1.,  2., 74., 21., 10.,  9.],\n",
       "       [20., 23.,  2.,  7., 69., 31., 10.,  7.]])"
      ]
     },
     "execution_count": 2,
     "metadata": {},
     "output_type": "execute_result"
    }
   ],
   "source": [
    "data = np.loadtxt('./student.csv', delimiter=',')\n",
    "data"
   ]
  },
  {
   "cell_type": "markdown",
   "metadata": {},
   "source": [
    "## 3. 연습문제"
   ]
  },
  {
   "cell_type": "markdown",
   "metadata": {},
   "source": [
    "### 3.1. student 데이터의 위의 다섯 개의 행을 출력하시오."
   ]
  },
  {
   "cell_type": "code",
   "execution_count": null,
   "metadata": {},
   "outputs": [],
   "source": []
  },
  {
   "cell_type": "markdown",
   "metadata": {},
   "source": [
    "### 3.2. student 데이터의 크기를 확인하시오."
   ]
  },
  {
   "cell_type": "code",
   "execution_count": null,
   "metadata": {},
   "outputs": [],
   "source": []
  },
  {
   "cell_type": "markdown",
   "metadata": {},
   "source": [
    "### 3.3. 각 학생들의 총 점수를 1차원 배열로 나타내시오."
   ]
  },
  {
   "cell_type": "markdown",
   "metadata": {},
   "source": [
    "#### 3.3.1. 출석과 관련된 부분만 슬라이싱 하시오."
   ]
  },
  {
   "cell_type": "code",
   "execution_count": null,
   "metadata": {},
   "outputs": [],
   "source": []
  },
  {
   "cell_type": "markdown",
   "metadata": {},
   "source": [
    "#### 3.3.2. 출석 점수를 계산하여 `attend`라는 1차원 배열에 저장하시오.\n",
    "* 출석 일수는 총 32이다.\n",
    "* 지각 한 번당 -0.5, 결석 한 번당 -1점 감점이 된다.\n",
    "* 감점이 -4이상으로 되면 출석 점수를 0점 처리한다.\n",
    "* 출석 점수는 반영비율이 10%이다."
   ]
  },
  {
   "cell_type": "code",
   "execution_count": null,
   "metadata": {},
   "outputs": [],
   "source": []
  },
  {
   "cell_type": "markdown",
   "metadata": {},
   "source": [
    "#### 3.3.3. 중간고사, 기말고사와 관련된 부분만 슬라이싱 하시오."
   ]
  },
  {
   "cell_type": "code",
   "execution_count": null,
   "metadata": {},
   "outputs": [],
   "source": []
  },
  {
   "cell_type": "markdown",
   "metadata": {},
   "source": [
    "#### 3.3.4. 시험 점수를 계산하여 `exam`라는 1차원 배열에 저장하시오.\n",
    "* 중간고사 반영비율은 40%, 기말고사 반영비율은 40%이다.\n",
    "* 중간고사, 기말고사 모두 총점이 100점 만점이다."
   ]
  },
  {
   "cell_type": "code",
   "execution_count": null,
   "metadata": {},
   "outputs": [],
   "source": []
  },
  {
   "cell_type": "markdown",
   "metadata": {},
   "source": [
    "#### 3.3.5. 과제와 관련된 부분만 슬라이싱 하시오."
   ]
  },
  {
   "cell_type": "code",
   "execution_count": null,
   "metadata": {},
   "outputs": [],
   "source": []
  },
  {
   "cell_type": "markdown",
   "metadata": {},
   "source": [
    "#### 3.3.6. 과제 점수를 계산하여 `assignment`라는 1차원 배열에 저장하시오.\n",
    "* 과제 1, 2는 모두 총점이 10점 만점이다.\n",
    "* 과제 1, 2의 반영비율은 각각 5%이다."
   ]
  },
  {
   "cell_type": "code",
   "execution_count": null,
   "metadata": {},
   "outputs": [],
   "source": []
  },
  {
   "cell_type": "markdown",
   "metadata": {},
   "source": [
    "#### 3.3.7. 각 학생들의 총점을 `result`라는 1차원 배열에 저장하시오."
   ]
  },
  {
   "cell_type": "code",
   "execution_count": null,
   "metadata": {},
   "outputs": [],
   "source": []
  },
  {
   "cell_type": "markdown",
   "metadata": {},
   "source": [
    "#### 3.3.8. 학생들의 평균을 `avg`, 표준편차를 `std`, 최대점수를 `max_score`, 최소점수를 `min_score`에 저장하시오. "
   ]
  },
  {
   "cell_type": "code",
   "execution_count": null,
   "metadata": {},
   "outputs": [],
   "source": []
  }
 ],
 "metadata": {
  "kernelspec": {
   "display_name": "Python 3",
   "language": "python",
   "name": "python3"
  },
  "language_info": {
   "codemirror_mode": {
    "name": "ipython",
    "version": 3
   },
   "file_extension": ".py",
   "mimetype": "text/x-python",
   "name": "python",
   "nbconvert_exporter": "python",
   "pygments_lexer": "ipython3",
   "version": "3.7.3"
  },
  "toc": {
   "base_numbering": 1,
   "nav_menu": {},
   "number_sections": false,
   "sideBar": true,
   "skip_h1_title": false,
   "title_cell": "Table of Contents",
   "title_sidebar": "Contents",
   "toc_cell": false,
   "toc_position": {},
   "toc_section_display": true,
   "toc_window_display": false
  },
  "varInspector": {
   "cols": {
    "lenName": 16,
    "lenType": 16,
    "lenVar": 40
   },
   "kernels_config": {
    "python": {
     "delete_cmd_postfix": "",
     "delete_cmd_prefix": "del ",
     "library": "var_list.py",
     "varRefreshCmd": "print(var_dic_list())"
    },
    "r": {
     "delete_cmd_postfix": ") ",
     "delete_cmd_prefix": "rm(",
     "library": "var_list.r",
     "varRefreshCmd": "cat(var_dic_list()) "
    }
   },
   "types_to_exclude": [
    "module",
    "function",
    "builtin_function_or_method",
    "instance",
    "_Feature"
   ],
   "window_display": false
  }
 },
 "nbformat": 4,
 "nbformat_minor": 2
}
