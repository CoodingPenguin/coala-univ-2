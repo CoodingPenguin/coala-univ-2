{
 "cells": [
  {
   "cell_type": "markdown",
   "metadata": {},
   "source": [
    "# Numpy Practice\n",
    "이제 `Numpy` 문법을 배웠으니 몇 가지 선형대수 문제들을 `Numpy`를 이용해 풀어봅시다!    \n",
    "(아래 문제는 <u>2018-1 선형대수학(권준석 교수님)</u>의 Exercises 문제입니다.)"
   ]
  },
  {
   "cell_type": "markdown",
   "metadata": {},
   "source": [
    "1. Find the point of intersection of the lines $x_1 + x_2 = -13$ and $3x_1 - 2x_2 = 1$."
   ]
  },
  {
   "cell_type": "code",
   "execution_count": 13,
   "metadata": {},
   "outputs": [
    {
     "data": {
      "text/plain": [
       "array([-5., -8.])"
      ]
     },
     "execution_count": 13,
     "metadata": {},
     "output_type": "execute_result"
    }
   ],
   "source": [
    "c = np.array([[1, 1],\n",
    "              [3, -2]])\n",
    "d = np.array([-13, 1])\n",
    "\n",
    "np.linalg.solve(c, d)"
   ]
  },
  {
   "cell_type": "markdown",
   "metadata": {},
   "source": [
    "2. Write the augemented matrix for the linear system that corresponds to the matrix equation. $Ax = b$. Then solve the system and write the solution as a vector.\n",
    "\n",
    "$$A = \\begin{bmatrix}1 & 2 & 1 \\\\-3 & -4 & 2 \\\\ 5 & 2 & 3 \\end{bmatrix}, B = \\begin{bmatrix}1  \\\\2 \\\\-3  \\end{bmatrix}$$"
   ]
  },
  {
   "cell_type": "code",
   "execution_count": 2,
   "metadata": {},
   "outputs": [
    {
     "data": {
      "text/plain": [
       "array([-1.33333333,  0.83333333,  0.66666667])"
      ]
     },
     "execution_count": 2,
     "metadata": {},
     "output_type": "execute_result"
    }
   ],
   "source": [
    "a = np.array([[1, 2, 1],\n",
    "              [-3, -4, 2],\n",
    "              [5, 2, 3]])\n",
    "a_inv = np.linalg.inv(a)\n",
    "b = np.array([1, 2, -3])\n",
    "\n",
    "a_inv.dot(b)"
   ]
  },
  {
   "cell_type": "markdown",
   "metadata": {},
   "source": [
    "3. Let $A = \\begin{bmatrix} \\frac{1}{3}& 0 &0 \\\\0 & \\frac{1}{3} & 0 \\\\ 0 & 0 & \\frac{1}{3} \\end{bmatrix}, u = \\begin{bmatrix}3  \\\\6 \\\\-9  \\end{bmatrix}$. Define $T:R^3 \\rightarrow R^3$ by $T(X) = AX$. Find $T(u)$."
   ]
  },
  {
   "cell_type": "code",
   "execution_count": 3,
   "metadata": {},
   "outputs": [
    {
     "data": {
      "text/plain": [
       "array([ 1.,  2., -3.])"
      ]
     },
     "execution_count": 3,
     "metadata": {},
     "output_type": "execute_result"
    }
   ],
   "source": [
    "a = np.array([[1/3, 0, 0],\n",
    "              [0, 1/3, 0],\n",
    "              [0, 0, 1/3]])\n",
    "u = np.array([3, 6, -9])\n",
    "\n",
    "a.dot(u)"
   ]
  },
  {
   "cell_type": "markdown",
   "metadata": {},
   "source": [
    "4. Compute $A-5I_3$ and $(5I_3)A$, where\n",
    "$$A = \\begin{bmatrix} 5&-1 &3 \\\\-4 &3 & -6 \\\\ -3 & 1 & 2 \\end{bmatrix}$$"
   ]
  },
  {
   "cell_type": "code",
   "execution_count": 5,
   "metadata": {},
   "outputs": [
    {
     "name": "stdout",
     "output_type": "stream",
     "text": [
      "result1 :\n",
      " [[ 0. -1.  3.]\n",
      " [-4. -2. -6.]\n",
      " [-3.  1. -3.]]\n",
      "result2 :\n",
      " [[ 25.  -5.  15.]\n",
      " [-20.  15. -30.]\n",
      " [-15.   5.  10.]]\n"
     ]
    }
   ],
   "source": [
    "a = np.array([[5, -1, 3], \n",
    "              [-4, 3, -6], \n",
    "              [-3, 1, 2]])\n",
    "i = np.identity(3)\n",
    "\n",
    "result1 = a - i*5\n",
    "result2 = (i*5).dot(a)\n",
    "\n",
    "print('result1 :\\n', result1)\n",
    "print('result2 :\\n', result2)"
   ]
  },
  {
   "cell_type": "markdown",
   "metadata": {},
   "source": [
    "5. Compute the product $AB$.\n",
    "$$A = \\begin{bmatrix} -1&3 \\\\2 &4 \\\\ 5&-3\\end{bmatrix}, B =  \\begin{bmatrix} 4&-2 \\\\-2 &3\\end{bmatrix}$$"
   ]
  },
  {
   "cell_type": "code",
   "execution_count": 6,
   "metadata": {},
   "outputs": [
    {
     "data": {
      "text/plain": [
       "array([[-10,  11],\n",
       "       [  0,   8],\n",
       "       [ 26, -19]])"
      ]
     },
     "execution_count": 6,
     "metadata": {},
     "output_type": "execute_result"
    }
   ],
   "source": [
    "a = np.array([[-1, 3], [2, 4], [5, -3]])\n",
    "b = np.array([[4, -2], [-2, 3]])\n",
    "\n",
    "a.dot(b)"
   ]
  },
  {
   "cell_type": "markdown",
   "metadata": {},
   "source": [
    "6. Find the inverses of the matrices\n",
    "$$\\begin{bmatrix} 2&-4 \\\\4 &-6\\end{bmatrix}$$"
   ]
  },
  {
   "cell_type": "code",
   "execution_count": 7,
   "metadata": {},
   "outputs": [
    {
     "data": {
      "text/plain": [
       "array([[-1.5,  1. ],\n",
       "       [-1. ,  0.5]])"
      ]
     },
     "execution_count": 7,
     "metadata": {},
     "output_type": "execute_result"
    }
   ],
   "source": [
    "np.linalg.inv([[2, -4], [4, -6]])"
   ]
  },
  {
   "cell_type": "markdown",
   "metadata": {},
   "source": [
    "7. Find the inverses of the matrices\n",
    "$$\\begin{bmatrix} 1&-2&-1 \\\\-4 &-7&3\\\\-2&-6&4\\end{bmatrix}$$"
   ]
  },
  {
   "cell_type": "code",
   "execution_count": 9,
   "metadata": {},
   "outputs": [
    {
     "data": {
      "text/plain": [
       "array([[-3.83333333, -1.16666667, -0.08333333],\n",
       "       [-0.83333333, -0.16666667, -0.08333333],\n",
       "       [-3.16666667, -0.83333333,  0.08333333]])"
      ]
     },
     "execution_count": 9,
     "metadata": {},
     "output_type": "execute_result"
    }
   ],
   "source": [
    "np.linalg.inv([[1, -2, -1], [-4, 7, 3], [-2, -6, 4]])"
   ]
  },
  {
   "cell_type": "markdown",
   "metadata": {},
   "source": [
    "8. Is the matrix $A = \\begin{bmatrix} 1&2&0 \\\\2 &4&1\\\\4&9&2\\end{bmatrix}$ invertible? If so, find its inverse."
   ]
  },
  {
   "cell_type": "code",
   "execution_count": 15,
   "metadata": {},
   "outputs": [
    {
     "name": "stdout",
     "output_type": "stream",
     "text": [
      "A의 det : -1.0\n",
      "A의 역행렬 :\n",
      " [[ 1.  4. -2.]\n",
      " [-0. -2.  1.]\n",
      " [-2.  1. -0.]]\n"
     ]
    }
   ],
   "source": [
    "a = np.array([[1, 2, 0], [2, 4, 1], [4, 9, 2]])\n",
    "a_det = np.linalg.det(a)\n",
    "print('A의 det :', a_det)\n",
    "\n",
    "print('A의 역행렬 :\\n', np.linalg.inv(a))"
   ]
  }
 ],
 "metadata": {
  "kernelspec": {
   "display_name": "Python 3",
   "language": "python",
   "name": "python3"
  },
  "language_info": {
   "codemirror_mode": {
    "name": "ipython",
    "version": 3
   },
   "file_extension": ".py",
   "mimetype": "text/x-python",
   "name": "python",
   "nbconvert_exporter": "python",
   "pygments_lexer": "ipython3",
   "version": "3.7.3"
  },
  "toc": {
   "base_numbering": 1,
   "nav_menu": {},
   "number_sections": false,
   "sideBar": true,
   "skip_h1_title": false,
   "title_cell": "Table of Contents",
   "title_sidebar": "Contents",
   "toc_cell": false,
   "toc_position": {},
   "toc_section_display": true,
   "toc_window_display": false
  },
  "varInspector": {
   "cols": {
    "lenName": 16,
    "lenType": 16,
    "lenVar": 40
   },
   "kernels_config": {
    "python": {
     "delete_cmd_postfix": "",
     "delete_cmd_prefix": "del ",
     "library": "var_list.py",
     "varRefreshCmd": "print(var_dic_list())"
    },
    "r": {
     "delete_cmd_postfix": ") ",
     "delete_cmd_prefix": "rm(",
     "library": "var_list.r",
     "varRefreshCmd": "cat(var_dic_list()) "
    }
   },
   "types_to_exclude": [
    "module",
    "function",
    "builtin_function_or_method",
    "instance",
    "_Feature"
   ],
   "window_display": false
  }
 },
 "nbformat": 4,
 "nbformat_minor": 2
}
