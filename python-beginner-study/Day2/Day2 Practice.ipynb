{
 "cells": [
  {
   "cell_type": "markdown",
   "metadata": {},
   "source": [
    "# Day2 Practice\n",
    "자체 제작 문제 + [Python 100제](https://www.notion.so/Python-100-6ee1860ce29a41bc8eb6b9cfa7d7f06c) 참고"
   ]
  },
  {
   "cell_type": "markdown",
   "metadata": {},
   "source": [
    "### 1. 다음 리스트에서 400, 500을 삭제하는 code를 작성하시오."
   ]
  },
  {
   "cell_type": "code",
   "execution_count": 2,
   "metadata": {},
   "outputs": [
    {
     "data": {
      "text/plain": [
       "[100, 200, 300]"
      ]
     },
     "execution_count": 2,
     "metadata": {},
     "output_type": "execute_result"
    }
   ],
   "source": [
    "num = [100, 200, 300, 400 ,500]\n",
    "num[:3]"
   ]
  },
  {
   "cell_type": "markdown",
   "metadata": {},
   "source": [
    "### 2. `<pass>` 부분에 리스트의 함수 `insert`를 사용하여 다음과 같이 출력되도록 하시오."
   ]
  },
  {
   "cell_type": "code",
   "execution_count": null,
   "metadata": {},
   "outputs": [],
   "source": [
    "# 출력\n",
    "[200, 100, 10000, 300]"
   ]
  },
  {
   "cell_type": "code",
   "execution_count": 4,
   "metadata": {
    "scrolled": true
   },
   "outputs": [
    {
     "name": "stdout",
     "output_type": "stream",
     "text": [
      "[200, 100, 10000, 300]\n"
     ]
    }
   ],
   "source": [
    "l = [200, 100, 300]\n",
    "l.insert(2, 10000)\n",
    "print(l)"
   ]
  },
  {
   "cell_type": "markdown",
   "metadata": {},
   "source": [
    "### 3. 리스트와 `sum()`을 사용하여 1부터 15까지의 합을 구하시오."
   ]
  },
  {
   "cell_type": "code",
   "execution_count": 7,
   "metadata": {},
   "outputs": [
    {
     "data": {
      "text/plain": [
       "120"
      ]
     },
     "execution_count": 7,
     "metadata": {},
     "output_type": "execute_result"
    }
   ],
   "source": [
    "lst = list(range(1, 16))\n",
    "sum(lst)"
   ]
  },
  {
   "cell_type": "markdown",
   "metadata": {},
   "source": [
    "### 4. 다음과 같은 프로그램을 작성하시오.\n",
    "* 총 5명의 사람의 이름을 입력으로 받는다. \n",
    "* 마지막으로 특정 이름을 입력을 받는다. \n",
    "* 해당 이름이 5명 중에 있는지 검사하여 `True/False`를 반환한다."
   ]
  },
  {
   "cell_type": "code",
   "execution_count": null,
   "metadata": {},
   "outputs": [],
   "source": [
    "# 입력 예시\n",
    "Abigail\n",
    "Bobby\n",
    "Cindy\n",
    "David\n",
    "Erix\n",
    "Abigail"
   ]
  },
  {
   "cell_type": "code",
   "execution_count": null,
   "metadata": {},
   "outputs": [],
   "source": [
    "# 출력 예시\n",
    "True"
   ]
  },
  {
   "cell_type": "code",
   "execution_count": 8,
   "metadata": {},
   "outputs": [
    {
     "name": "stdout",
     "output_type": "stream",
     "text": [
      "Abigail\n",
      "Bobby\n",
      "Cindy\n",
      "David\n",
      "Erix\n",
      "Abigail\n"
     ]
    },
    {
     "data": {
      "text/plain": [
       "True"
      ]
     },
     "execution_count": 8,
     "metadata": {},
     "output_type": "execute_result"
    }
   ],
   "source": [
    "# code를 작성해주세요\n",
    "names = []\n",
    "for i in range(5):\n",
    "    names.append(input())\n",
    "\n",
    "special = input()\n",
    "\n",
    "special in names"
   ]
  },
  {
   "cell_type": "markdown",
   "metadata": {},
   "source": [
    "### 5. 다음과 같은 리스트가 있다. 각 요소에 2배를 곱하고 +1을 한 리스트를 생성하시오."
   ]
  },
  {
   "cell_type": "code",
   "execution_count": 9,
   "metadata": {},
   "outputs": [
    {
     "data": {
      "text/plain": [
       "[3, 5, 7, 9, 11]"
      ]
     },
     "execution_count": 9,
     "metadata": {},
     "output_type": "execute_result"
    }
   ],
   "source": [
    "lst = [1, 2, 3, 4, 5]\n",
    "[2*x+1 for x in lst]"
   ]
  },
  {
   "cell_type": "markdown",
   "metadata": {},
   "source": [
    "### 6. 다음과 같은 딕셔너리가 있다. key값은 사람의 이름이며, value값은 대학교 입학 년도이다. 4년 뒤에 모두 졸업을 한다고 할 때 각 사람의 졸업년도를 value로 가진 graduate_year라는 딕셔너리를 생성하시오."
   ]
  },
  {
   "cell_type": "code",
   "execution_count": 10,
   "metadata": {},
   "outputs": [
    {
     "data": {
      "text/plain": [
       "{'박가나': 2019, '김다라': 2022, '이마바': 2023}"
      ]
     },
     "execution_count": 10,
     "metadata": {},
     "output_type": "execute_result"
    }
   ],
   "source": [
    "admission_year = {'박가나':2015, '김다라':2018, '이마바':2019}\n",
    "graduate_year = {name:year+4 for name, year in admission_year.items()}\n",
    "graduate_year"
   ]
  },
  {
   "cell_type": "markdown",
   "metadata": {},
   "source": [
    "### 7. 다음과 같은 리스트가 있다. 집합을 이용하여 이 리스트의 값들의 중복을 제거한 리스트를 생성하시오."
   ]
  },
  {
   "cell_type": "code",
   "execution_count": 12,
   "metadata": {},
   "outputs": [
    {
     "data": {
      "text/plain": [
       "[1, 2, 3, 4, 5, 6, 7, 8, 9, 10]"
      ]
     },
     "execution_count": 12,
     "metadata": {},
     "output_type": "execute_result"
    }
   ],
   "source": [
    "lst = [1, 1, 1, 1, 2, 2, 2, 3, 3, 4, 5, 5, 6, 7, 8, 9, 9, 10, 10]\n",
    "# code를 작성해주세요\n",
    "list(set(lst))"
   ]
  },
  {
   "cell_type": "markdown",
   "metadata": {},
   "source": [
    "### 8. 다음과 같은 리스트가 있다. 이 리스트를 내림차순으로 정렬하시오."
   ]
  },
  {
   "cell_type": "code",
   "execution_count": 17,
   "metadata": {},
   "outputs": [
    {
     "data": {
      "text/plain": [
       "[9, 9, 4, 8, 8, 1, 5, 3, 6, 3]"
      ]
     },
     "execution_count": 17,
     "metadata": {},
     "output_type": "execute_result"
    }
   ],
   "source": [
    "import numpy as np\n",
    "np.random.seed(100)\n",
    "lst = list(np.random.randint(1, 10, 10))\n",
    "lst"
   ]
  },
  {
   "cell_type": "code",
   "execution_count": 21,
   "metadata": {},
   "outputs": [
    {
     "data": {
      "text/plain": [
       "[9, 9, 8, 8, 6, 5, 4, 3, 3, 1]"
      ]
     },
     "execution_count": 21,
     "metadata": {},
     "output_type": "execute_result"
    }
   ],
   "source": [
    "# code를 작성해주세요\n",
    "lst.sort()\n",
    "lst.reverse()\n",
    "lst"
   ]
  },
  {
   "cell_type": "markdown",
   "metadata": {},
   "source": [
    "### 9. 다음과 같은 함수를 정의하시오.\n",
    "* a와 b는 피연산자이고, operator는 연산자이다.\n",
    "* 기본적인 연산인 `+`, `-`, `*`, `/`만 하며, 각각 1, 2, 3, 4로 라벨링을 한다.\n",
    "* 계산한 결과를 반환한다."
   ]
  },
  {
   "cell_type": "code",
   "execution_count": 1,
   "metadata": {},
   "outputs": [],
   "source": [
    "def calculator(a, b, operator):\n",
    "    if operator == 1:\n",
    "        return a+b\n",
    "    elif operator == 2:\n",
    "        return a-b\n",
    "    elif operator == 3:\n",
    "        return a*b\n",
    "    elif operator == 4:\n",
    "        return a/b\n",
    "    else:\n",
    "        print('없는 연산자입니다.')"
   ]
  },
  {
   "cell_type": "code",
   "execution_count": 10,
   "metadata": {},
   "outputs": [
    {
     "name": "stdout",
     "output_type": "stream",
     "text": [
      "8\n",
      "-4\n",
      "8\n",
      "0.2\n",
      "없는 연산자입니다.\n",
      "None\n"
     ]
    }
   ],
   "source": [
    "print(calculator(3, 5, 1))    # 3 + 5\n",
    "print(calculator(3, 7, 2))    # 3 - 7\n",
    "print(calculator(2, 4, 3))    # 2 * 4\n",
    "print(calculator(1, 5, 4))    # 1 / 5\n",
    "print(calculator(5, 5, 5))    # 없는 연산자"
   ]
  },
  {
   "cell_type": "markdown",
   "metadata": {},
   "source": [
    "### 10. `filter` 함수를 사용하여 다음 리스트의 요소 중 짝수만 있는 리스트를 생성하시오."
   ]
  },
  {
   "cell_type": "code",
   "execution_count": 7,
   "metadata": {},
   "outputs": [
    {
     "data": {
      "text/plain": [
       "[2, 4, 6, 6, 8, 10, 12]"
      ]
     },
     "execution_count": 7,
     "metadata": {},
     "output_type": "execute_result"
    }
   ],
   "source": [
    "lst = [1, 2, 3, 3, 4, 5, 6, 6, 7, 8, 9, 10, 11, 12]\n",
    "result = filter(lambda x:x%2==0, lst)\n",
    "list(result)"
   ]
  },
  {
   "cell_type": "markdown",
   "metadata": {},
   "source": [
    "### 11. 다음 프로그램을 완성하시오."
   ]
  },
  {
   "cell_type": "code",
   "execution_count": 8,
   "metadata": {},
   "outputs": [
    {
     "data": {
      "text/plain": [
       "[3, 5, 9, 17, 33]"
      ]
     },
     "execution_count": 8,
     "metadata": {},
     "output_type": "execute_result"
    }
   ],
   "source": [
    "# f(x) 함수의 결과값을 반환하는 함수\n",
    "def func(x):\n",
    "    # f(x) = 2^x+1 이다.\n",
    "    # code를 작성하시오.\n",
    "    return 2**x+1\n",
    "\n",
    "lst = [1, 2, 3, 4, 5]\n",
    "# map함수를 이용하여 각각 요소를 func의 입력으로 넣었을 때의 \n",
    "# 결과값으로 구성된 리스트를 생성하시오.\n",
    "# code를 작성하시오.\n",
    "result = list(map(func, lst))\n",
    "result"
   ]
  }
 ],
 "metadata": {
  "kernelspec": {
   "display_name": "Python 3",
   "language": "python",
   "name": "python3"
  },
  "language_info": {
   "codemirror_mode": {
    "name": "ipython",
    "version": 3
   },
   "file_extension": ".py",
   "mimetype": "text/x-python",
   "name": "python",
   "nbconvert_exporter": "python",
   "pygments_lexer": "ipython3",
   "version": "3.7.3"
  },
  "toc": {
   "base_numbering": 1,
   "nav_menu": {},
   "number_sections": false,
   "sideBar": true,
   "skip_h1_title": false,
   "title_cell": "Table of Contents",
   "title_sidebar": "Contents",
   "toc_cell": false,
   "toc_position": {},
   "toc_section_display": true,
   "toc_window_display": false
  },
  "varInspector": {
   "cols": {
    "lenName": 16,
    "lenType": 16,
    "lenVar": 40
   },
   "kernels_config": {
    "python": {
     "delete_cmd_postfix": "",
     "delete_cmd_prefix": "del ",
     "library": "var_list.py",
     "varRefreshCmd": "print(var_dic_list())"
    },
    "r": {
     "delete_cmd_postfix": ") ",
     "delete_cmd_prefix": "rm(",
     "library": "var_list.r",
     "varRefreshCmd": "cat(var_dic_list()) "
    }
   },
   "types_to_exclude": [
    "module",
    "function",
    "builtin_function_or_method",
    "instance",
    "_Feature"
   ],
   "window_display": false
  }
 },
 "nbformat": 4,
 "nbformat_minor": 2
}
