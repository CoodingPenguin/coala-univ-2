{
 "cells": [
  {
   "cell_type": "markdown",
   "metadata": {},
   "source": [
    "# Lecture 02. Collection"
   ]
  },
  {
   "cell_type": "markdown",
   "metadata": {},
   "source": [
    "이 강의자료는 [2019-2 인공지능 강의자료](), [점프 투 파이썬](https://wikidocs.net/book/1), [W3School Python Tutorial](https://www.w3schools.com/python/default.asp)을 참고하였습니다.    \n",
    "\n",
    "[개인블로그](https://coding-penguin.tistory.com)에도 정리하고 있으니 관심있으시면 가끔 들러주세요:)"
   ]
  },
  {
   "cell_type": "markdown",
   "metadata": {},
   "source": [
    "## 1. 컬렉션 Collection\n",
    "파이썬은 배열(array)을 지원하지 않는다. (지원하더라도 잘 쓰이지 않는다.) 그 대신 `리스트`, `튜플`, `집합`, `딕셔너리`와 같은 컬렉션을 지원한다.    \n",
    "\n",
    "한 마디로 컬렉션이란 **여러 데이터를 처리하는 자료구조**이다."
   ]
  },
  {
   "cell_type": "markdown",
   "metadata": {},
   "source": [
    "<img src='./collection.png' width=80%>"
   ]
  },
  {
   "cell_type": "markdown",
   "metadata": {},
   "source": [
    "## 2. 리스트\n",
    "리스트는 다음과 같은 특징을 가지고 있다.\n",
    "* 데이터가 들어온 순서대로 나열이 된다.\n",
    "* 리스트가 생성되고 난 뒤 리스트 속 요소들을 바꿀 수 있다.\n",
    "\n",
    "보통 리스트는 **데이터의 순서를 고려**해야 하고 **값이 변경될 가능성이 있는 경우** 사용된다."
   ]
  },
  {
   "cell_type": "markdown",
   "metadata": {},
   "source": [
    "### 2.1. 리스트 생성\n",
    "* 같은 자료형의 데이터 뿐만 아니라 여러 가지 자료형으로 구성된 리스트를 생성할 수 있다.\n",
    "* 리스트 자체를 요소로 가질 수 있다.\n",
    "* 어떤 요소도 넣지 않으면 빈 리스트가 생성된다."
   ]
  },
  {
   "cell_type": "code",
   "execution_count": 27,
   "metadata": {},
   "outputs": [
    {
     "name": "stdout",
     "output_type": "stream",
     "text": [
      "[]\n",
      "[]\n"
     ]
    }
   ],
   "source": [
    "# 빈 리스트 만들기\n",
    "a = []\n",
    "b = list()\n",
    "\n",
    "print(a)\n",
    "print(b)"
   ]
  },
  {
   "cell_type": "code",
   "execution_count": 28,
   "metadata": {},
   "outputs": [
    {
     "name": "stdout",
     "output_type": "stream",
     "text": [
      "[1, 2, 3]\n",
      "[1, 2, [5, 6]]\n"
     ]
    }
   ],
   "source": [
    "# []와 ,를 이용하여 리스트를 만들 수 있다\n",
    "a = [1, 2, 3]\n",
    "b = [1, 2, [5, 6]]\n",
    "\n",
    "print(a)\n",
    "print(b)"
   ]
  },
  {
   "cell_type": "markdown",
   "metadata": {},
   "source": [
    "### 2.2. 리스트 인덱싱\n",
    "* 인덱스를 통해 리스트의 요소에 접근할 수 있다\n",
    "* 음수 인덱싱으로 리스트의 가장 끝에서부터 접근할 수 있다 (-1이 끝 부분 첫 시작)\n",
    "* 리스트 인덱싱으로 해당 요소의 값을 바꿀 수 있다"
   ]
  },
  {
   "cell_type": "code",
   "execution_count": 29,
   "metadata": {},
   "outputs": [
    {
     "name": "stdout",
     "output_type": "stream",
     "text": [
      "1\n",
      "6\n",
      "[1, 2, 3, 4, 5, 8]\n"
     ]
    }
   ],
   "source": [
    "a = [1, 2, 3, 4, 5, 6]\n",
    "\n",
    "print(a[0])     # 리스트 인덱싱\n",
    "print(a[-1])    # 음수 인덱싱\n",
    "\n",
    "# 인덱스로 접근해 요소 수정\n",
    "a[5] = 8\n",
    "print(a)"
   ]
  },
  {
   "cell_type": "markdown",
   "metadata": {},
   "source": [
    "### 2.3. range 객체\n",
    "* 연속된 정수`(시작, 끝-1)`를 생성한다.\n",
    "* range객체는 인덱싱이 가능하지만, 접근하여 요소 수정은 불가능하다. (수정하고 싶으면 리스트로 변환)\n",
    "* 반환되는 자료형은 `range`이므로 `list()`를 통해 리스트 자료형으로 변환하여 쓸 수 있다."
   ]
  },
  {
   "cell_type": "code",
   "execution_count": 2,
   "metadata": {},
   "outputs": [
    {
     "name": "stdout",
     "output_type": "stream",
     "text": [
      "range(1, 10)\n",
      "1\n",
      "[10, 2, 3, 4, 5, 6, 7, 8, 9]\n"
     ]
    }
   ],
   "source": [
    "# 연속된 정수 생성\n",
    "a = range(1, 10)\n",
    "print(a)\n",
    "\n",
    "# range 객체는 인덱스로 접근 가능\n",
    "print(a[0])\n",
    "\n",
    "# 수정하고 싶으면 list로 변환하여 수정\n",
    "a = list(a)\n",
    "a[0] = 10\n",
    "print(a)"
   ]
  },
  {
   "cell_type": "markdown",
   "metadata": {},
   "source": [
    "### 2.4. 리스트 슬라이싱\n",
    "* 리스트의 일부분을 추출해서 반환한다.\n",
    "* 음수 인덱스도 사용이 가능하며, 앞 쪽을 비워두면 default 인덱스 값은 0, 뒤 쪽을 비워두면 default 인덱스 값은 -1이다.\n",
    "* 추출 시 step을 추가하여 추출의 방향이나 몇몇 요소를 패스할 수 있다."
   ]
  },
  {
   "cell_type": "code",
   "execution_count": 31,
   "metadata": {},
   "outputs": [
    {
     "name": "stdout",
     "output_type": "stream",
     "text": [
      "[1, 2]\n",
      "[0, 1, 2]\n",
      "[5, 6, 7, 8, 9]\n",
      "[0, 1, 2, 3, 4, 5, 6, 7, 8, 9]\n",
      "[6, 7]\n",
      "[0, 1, 2, 3, 4, 5, 6, 7, 8]\n",
      "[1, 3, 5, 7]\n",
      "[9, 8, 7, 6, 5, 4, 3, 2, 1, 0]\n"
     ]
    }
   ],
   "source": [
    "a = list(range(10))\n",
    "\n",
    "# 리스트 슬라이싱 형태\n",
    "print(a[1:3])    # 1에서 2\n",
    "print(a[:3])     # 0에서 2\n",
    "print(a[5:])     # 5에서 -1\n",
    "print(a[:])      # a 그 자체\n",
    "print(a[-4:-2])  # -4에서 -3\n",
    "print(a[:-1])    # 0에서 -2\n",
    "\n",
    "# n만큼의 간격만큼 띄워서 추출\n",
    "print(a[1:8:2])  # 1에서 시작해 2만큼 띄워서 추출\n",
    "print(a[::-1])   # 모든 요소를 역순으로 추출"
   ]
  },
  {
   "cell_type": "markdown",
   "metadata": {},
   "source": [
    "### 2.5. 조건문/반복문에서의 리스트 사용\n",
    "* `in` 키워드를 사용하여 리스트의 특정 요소가 있는지 `True/False`를 반환한다.\n",
    "* for문에서 리스트의 요소들을 반복해서 조회를 할 수 있다.\n",
    "* for문에서 리스트의 요소와 더불어 **인덱스**까지 접근하고 싶다면, `enumerate`를 사용하면 된다."
   ]
  },
  {
   "cell_type": "code",
   "execution_count": 32,
   "metadata": {},
   "outputs": [
    {
     "name": "stdout",
     "output_type": "stream",
     "text": [
      "True\n",
      "False\n"
     ]
    }
   ],
   "source": [
    "print(1 in [1, 2, 3])      # True\n",
    "print(1 not in [1, 2 ,3])  # False"
   ]
  },
  {
   "cell_type": "code",
   "execution_count": 33,
   "metadata": {},
   "outputs": [
    {
     "name": "stdout",
     "output_type": "stream",
     "text": [
      "Kevin\n",
      "Amy\n",
      "Emily\n",
      "0 : Kevin\n",
      "1 : Amy\n",
      "2 : Emily\n"
     ]
    }
   ],
   "source": [
    "names = ['Kevin', 'Amy', 'Emily']\n",
    "\n",
    "# 반복문을 통해 각 요소에 접근\n",
    "for p in names:\n",
    "    print(p)\n",
    "\n",
    "# 인덱스까지 접근하고 싶은 경우 enumerate 사용\n",
    "for idx, p in enumerate(names):\n",
    "    print(idx, ':', p)"
   ]
  },
  {
   "cell_type": "markdown",
   "metadata": {},
   "source": [
    "### 2.6. 리스트 연산\n",
    "* `+` : 두 리스트를 concat한 새로운 리스트 반환\n",
    "* `*` : 리스트의 요소를 n번 반복한 새로운 리스트 반환\n",
    "* `len` : 리스트 길이를 반환"
   ]
  },
  {
   "cell_type": "code",
   "execution_count": 34,
   "metadata": {},
   "outputs": [
    {
     "data": {
      "text/plain": [
       "[1, 2, 3, 4, 5, 6]"
      ]
     },
     "execution_count": 34,
     "metadata": {},
     "output_type": "execute_result"
    }
   ],
   "source": [
    "a = [1, 2, 3]\n",
    "b = [4, 5, 6]\n",
    "a + b"
   ]
  },
  {
   "cell_type": "code",
   "execution_count": 35,
   "metadata": {},
   "outputs": [
    {
     "data": {
      "text/plain": [
       "[1, 2, 3, 1, 2, 3, 1, 2, 3, 1, 2, 3, 1, 2, 3]"
      ]
     },
     "execution_count": 35,
     "metadata": {},
     "output_type": "execute_result"
    }
   ],
   "source": [
    "a * 5"
   ]
  },
  {
   "cell_type": "code",
   "execution_count": 36,
   "metadata": {},
   "outputs": [
    {
     "data": {
      "text/plain": [
       "3"
      ]
     },
     "execution_count": 36,
     "metadata": {},
     "output_type": "execute_result"
    }
   ],
   "source": [
    "len(a)"
   ]
  },
  {
   "cell_type": "markdown",
   "metadata": {},
   "source": [
    "### 2.7. 리스트의 수정과 삭제\n",
    "* `수정` : 인덱스로 접근하여 수정한다.\n",
    "* `삭제` : `del` 키워드와 인덱싱/슬라이싱을 이용해 삭제한다."
   ]
  },
  {
   "cell_type": "code",
   "execution_count": 37,
   "metadata": {},
   "outputs": [
    {
     "data": {
      "text/plain": [
       "[1, 2, 7, 4, 5, 6]"
      ]
     },
     "execution_count": 37,
     "metadata": {},
     "output_type": "execute_result"
    }
   ],
   "source": [
    "a = [1, 2, 3, 4, 5, 6]\n",
    "a[2] = 7\n",
    "a"
   ]
  },
  {
   "cell_type": "code",
   "execution_count": 38,
   "metadata": {},
   "outputs": [
    {
     "data": {
      "text/plain": [
       "[1, 2, 7, 4, 5]"
      ]
     },
     "execution_count": 38,
     "metadata": {},
     "output_type": "execute_result"
    }
   ],
   "source": [
    "del a[-1]\n",
    "a"
   ]
  },
  {
   "cell_type": "code",
   "execution_count": 39,
   "metadata": {},
   "outputs": [
    {
     "data": {
      "text/plain": [
       "[1, 2]"
      ]
     },
     "execution_count": 39,
     "metadata": {},
     "output_type": "execute_result"
    }
   ],
   "source": [
    "del a[2:]\n",
    "a"
   ]
  },
  {
   "cell_type": "markdown",
   "metadata": {},
   "source": [
    "### 2.8. 리스트의 복사\n",
    "* `=`을 사용하면 **얕은 복사(주소값 복사)**가 일어난다. 즉, 같은 리스트 객체를 가리키게 된다.\n",
    "* **깊은 복사**를 하려면 새로운 객체를 만들어주어야 한다.\n",
    "    * `[:]`을 이용해 전체 리스트를 추출한 새로운 리스트를 반환한다.\n",
    "    * `copy` 모듈의 `copy()`함수를 이용해 똑같은 리스트를 \n",
    "    생성해 반환한다.\n",
    "* **동일 객체인지 알 수 있는 방법**을 알고 있어야 한다.\n",
    "    * `is` 키워드는 두 객체의 주소가 같은지 안 같은지를 반환한다. (`True`는 주소값이 같고, `False`는 주소값이 다르다)\n",
    "    * `id` 함수를 이용하면 객체의 고유 id를 반환한다."
   ]
  },
  {
   "cell_type": "code",
   "execution_count": 40,
   "metadata": {},
   "outputs": [
    {
     "name": "stdout",
     "output_type": "stream",
     "text": [
      "1796420981320 1796420981320\n",
      "True\n",
      "1796420934856 1796420981576 1796420981320\n",
      "False\n",
      "False\n"
     ]
    }
   ],
   "source": [
    "from copy import copy\n",
    "\n",
    "a = [1, 2, 3]\n",
    "\n",
    "# 얕은 복사\n",
    "b = a\n",
    "print(id(b), id(a))\n",
    "print(a is b)\n",
    "\n",
    "# 깊은 복사\n",
    "c = a[:]\n",
    "d = copy(a)\n",
    "print(id(d), id(c), id(a))\n",
    "print(a is c)\n",
    "print(a is d)"
   ]
  },
  {
   "cell_type": "markdown",
   "metadata": {},
   "source": [
    "### 2.9. 리스트 메서드\n",
    "* `append(x)` : 리스트의 맨 마지막에 x를 추가한다.\n",
    "* `sort()` : 리스트를 정렬한다.\n",
    "* `reverse()` : 리스트를 뒤집는다.\n",
    "* `index(x)` : 리스트에 x의 위치를 반환한다.\n",
    "* `insert(idx, x)` : 리스트의 idx 위치에 x를 추가한다.\n",
    "* `remove(x)` : 리스트에서 첫 번째로 나오는 x를 삭제한다.\n",
    "* `pop()` : 리스트의 맨 마지막 요소를 삭제하고 그것을 반환한다.\n",
    "* `pop(idx)` : 리스트의 idx 위치에 있는 요소를 삭제하고 그것을 반환한다.\n",
    "* `count(x)` : 리스트에 있는 x의 개수를 반환한다.\n",
    "* `extend(lst)` : 리스트의 뒤 쪽에 lst를 더한다. (=concat)"
   ]
  },
  {
   "cell_type": "code",
   "execution_count": 41,
   "metadata": {},
   "outputs": [],
   "source": [
    "a = [1, 2, 3, 4, 5]"
   ]
  },
  {
   "cell_type": "code",
   "execution_count": 42,
   "metadata": {},
   "outputs": [
    {
     "data": {
      "text/plain": [
       "[1, 2, 3, 4, 5, 6]"
      ]
     },
     "execution_count": 42,
     "metadata": {},
     "output_type": "execute_result"
    }
   ],
   "source": [
    "# append : 리스트의 맨 마지막에 요소 추가\n",
    "a.append(6)\n",
    "a"
   ]
  },
  {
   "cell_type": "code",
   "execution_count": 43,
   "metadata": {},
   "outputs": [
    {
     "data": {
      "text/plain": [
       "[1, 2, 3, 4, 6, 8]"
      ]
     },
     "execution_count": 43,
     "metadata": {},
     "output_type": "execute_result"
    }
   ],
   "source": [
    "# sort : 리스트를 정렬\n",
    "b = [3, 4, 6, 2, 8, 1]\n",
    "b.sort()\n",
    "b"
   ]
  },
  {
   "cell_type": "code",
   "execution_count": 44,
   "metadata": {},
   "outputs": [
    {
     "data": {
      "text/plain": [
       "[8, 6, 4, 3, 2, 1]"
      ]
     },
     "execution_count": 44,
     "metadata": {},
     "output_type": "execute_result"
    }
   ],
   "source": [
    "# reverse : 리스트를 뒤집음\n",
    "b.reverse()\n",
    "b"
   ]
  },
  {
   "cell_type": "code",
   "execution_count": 45,
   "metadata": {},
   "outputs": [
    {
     "data": {
      "text/plain": [
       "2"
      ]
     },
     "execution_count": 45,
     "metadata": {},
     "output_type": "execute_result"
    }
   ],
   "source": [
    "# index : 특정 요소의 위치를 반환\n",
    "a.index(3)"
   ]
  },
  {
   "cell_type": "code",
   "execution_count": 46,
   "metadata": {},
   "outputs": [
    {
     "data": {
      "text/plain": [
       "[1, 2, 10, 3, 4, 5, 6]"
      ]
     },
     "execution_count": 46,
     "metadata": {},
     "output_type": "execute_result"
    }
   ],
   "source": [
    "# insert : 특정 위치에 인자로 들어온 요소를 추가\n",
    "a.insert(2, 10)\n",
    "a"
   ]
  },
  {
   "cell_type": "code",
   "execution_count": 47,
   "metadata": {},
   "outputs": [
    {
     "data": {
      "text/plain": [
       "[1, 2, 3, 4, 5, 6]"
      ]
     },
     "execution_count": 47,
     "metadata": {},
     "output_type": "execute_result"
    }
   ],
   "source": [
    "# remove : 인자로 들어온 요소를 제거\n",
    "a.remove(10)\n",
    "a"
   ]
  },
  {
   "cell_type": "code",
   "execution_count": 48,
   "metadata": {},
   "outputs": [
    {
     "name": "stdout",
     "output_type": "stream",
     "text": [
      "6\n"
     ]
    },
    {
     "data": {
      "text/plain": [
       "[1, 2, 3, 4, 5]"
      ]
     },
     "execution_count": 48,
     "metadata": {},
     "output_type": "execute_result"
    }
   ],
   "source": [
    "# pop : 가장 뒤 쪽의 요소를 제거하고 그것을 반환\n",
    "print(a.pop())\n",
    "a"
   ]
  },
  {
   "cell_type": "code",
   "execution_count": 49,
   "metadata": {},
   "outputs": [
    {
     "name": "stdout",
     "output_type": "stream",
     "text": [
      "4\n"
     ]
    },
    {
     "data": {
      "text/plain": [
       "[1, 2, 3, 5]"
      ]
     },
     "execution_count": 49,
     "metadata": {},
     "output_type": "execute_result"
    }
   ],
   "source": [
    "# pop : 해당 위치의 요소를 제거하고 그것을 반환\n",
    "print(a.pop(3))\n",
    "a"
   ]
  },
  {
   "cell_type": "code",
   "execution_count": 50,
   "metadata": {},
   "outputs": [
    {
     "data": {
      "text/plain": [
       "3"
      ]
     },
     "execution_count": 50,
     "metadata": {},
     "output_type": "execute_result"
    }
   ],
   "source": [
    "# count : 특정 요소의 개수를 반환\n",
    "c = [1, 1, 1, 2, 2, 3, 3, 4, 4, 5, 5, 5, 5, 5]\n",
    "c.count(1)"
   ]
  },
  {
   "cell_type": "code",
   "execution_count": 51,
   "metadata": {},
   "outputs": [
    {
     "data": {
      "text/plain": [
       "[1, 2, 3, 5, 6, 7, 8, 9]"
      ]
     },
     "execution_count": 51,
     "metadata": {},
     "output_type": "execute_result"
    }
   ],
   "source": [
    "# extend : 인자로 받은 리스트를 해당 리스트에 추가\n",
    "d = [6, 7, 8, 9]\n",
    "a.extend(d)\n",
    "a"
   ]
  },
  {
   "cell_type": "markdown",
   "metadata": {},
   "source": [
    "### 2.10. 리스트 Comprehensions"
   ]
  },
  {
   "cell_type": "code",
   "execution_count": 52,
   "metadata": {},
   "outputs": [
    {
     "data": {
      "text/plain": [
       "[2, 4, 6, 8, 10]"
      ]
     },
     "execution_count": 52,
     "metadata": {},
     "output_type": "execute_result"
    }
   ],
   "source": [
    "a = [1, 2, 3, 4, 5]\n",
    "\n",
    "# 리스트 Comprehension\n",
    "a_mul2 = [x*2 for x in a]\n",
    "a_mul2"
   ]
  },
  {
   "cell_type": "code",
   "execution_count": 53,
   "metadata": {
    "code_folding": []
   },
   "outputs": [
    {
     "data": {
      "text/plain": [
       "[2, 6, 10]"
      ]
     },
     "execution_count": 53,
     "metadata": {},
     "output_type": "execute_result"
    }
   ],
   "source": [
    "# 조건을 달 수도 있음\n",
    "a_mul2_even = [x*2 for x in a if x%2==1]\n",
    "a_mul2_even"
   ]
  },
  {
   "cell_type": "markdown",
   "metadata": {},
   "source": [
    "## 3. 딕셔너리\n",
    "딕셔너리는 **key값과 그에 대응하는 value값이 있**는 컬렉션을 말한다. 딕셔너리는 다음과 같은 특징을 갖고 있다.\n",
    "* 데이터가 들어온 순서가 상관이 없다.\n",
    "* key값으로 인덱싱이 되어 있어 key값으로 데이터(=value) 수정이 가능하다.\n",
    "* key값은 고유값이므로 key값 중복은 불가능하다.\n",
    "\n",
    "딕셔러니는 주로 **자체적으로 만든 key값으로 데이터에 접근하고 싶을 때** 사용된다."
   ]
  },
  {
   "cell_type": "markdown",
   "metadata": {},
   "source": [
    "### 3.1. 딕셔너리 생성"
   ]
  },
  {
   "cell_type": "code",
   "execution_count": 54,
   "metadata": {},
   "outputs": [
    {
     "data": {
      "text/plain": [
       "({}, {})"
      ]
     },
     "execution_count": 54,
     "metadata": {},
     "output_type": "execute_result"
    }
   ],
   "source": [
    "# 빈 딕셔너리 생성\n",
    "a = {}\n",
    "b = dict()\n",
    "a, b"
   ]
  },
  {
   "cell_type": "code",
   "execution_count": 55,
   "metadata": {},
   "outputs": [
    {
     "data": {
      "text/plain": [
       "{'Groot': 120, 'Cindy': 160}"
      ]
     },
     "execution_count": 55,
     "metadata": {},
     "output_type": "execute_result"
    }
   ],
   "source": [
    "# {}와 :와 , 로 딕셔너리 생성\n",
    "a = {'Groot':120, 'Cindy':160}\n",
    "a"
   ]
  },
  {
   "cell_type": "markdown",
   "metadata": {},
   "source": [
    "### 3.2. 딕셔너리 인덱싱\n",
    "* 딕셔너리는 인덱스가 없지만, key값이 있어 **key값으로 value에 접근**이 가능하다.\n",
    "* key값으로 접근해서 value를 수정할 수 있다. (없으면 요소가 추가됨)\n",
    "* `in` 키워드로 딕셔너리에 해당 key가 있는지를 `True/False`로 반환한다."
   ]
  },
  {
   "cell_type": "code",
   "execution_count": 56,
   "metadata": {},
   "outputs": [
    {
     "name": "stdout",
     "output_type": "stream",
     "text": [
      "120\n",
      "True\n"
     ]
    }
   ],
   "source": [
    "# 인덱스로 value 접근\n",
    "print(a['Groot'])\n",
    "\n",
    "# in 키워드로 해당 key가 있는지 확인\n",
    "print('Cindy' in a)"
   ]
  },
  {
   "cell_type": "markdown",
   "metadata": {},
   "source": [
    "### 3.3. 딕셔너리 쌍 추가, 삭제"
   ]
  },
  {
   "cell_type": "code",
   "execution_count": 57,
   "metadata": {},
   "outputs": [
    {
     "data": {
      "text/plain": [
       "{'Groot': 120, 'Cindy': 160, 'Kevin': 180}"
      ]
     },
     "execution_count": 57,
     "metadata": {},
     "output_type": "execute_result"
    }
   ],
   "source": [
    "# 딕셔너리 쌍 추가\n",
    "a['Kevin'] = 180\n",
    "a"
   ]
  },
  {
   "cell_type": "code",
   "execution_count": 58,
   "metadata": {},
   "outputs": [
    {
     "data": {
      "text/plain": [
       "{'Groot': 120, 'Cindy': 160}"
      ]
     },
     "execution_count": 58,
     "metadata": {},
     "output_type": "execute_result"
    }
   ],
   "source": [
    "# 딕셔너리 쌍 제거\n",
    "del a['Kevin']\n",
    "a"
   ]
  },
  {
   "cell_type": "markdown",
   "metadata": {},
   "source": [
    "### 3.4. 조건문/반복문에서의 딕셔너리 사용\n",
    "* `in` 키워드로 해당 key값이 딕셔너리에 있는지 알 수 있다.\n",
    "* for문에서 딕셔너리의 key값에 반복적으로 접근할 수 있다.\n",
    "* for문에서 key값과 value값 둘 다에 접근하고 싶다면 `items`를 사용하여 반복적으로 접근할 수 있다."
   ]
  },
  {
   "cell_type": "code",
   "execution_count": 59,
   "metadata": {},
   "outputs": [
    {
     "name": "stdout",
     "output_type": "stream",
     "text": [
      "Groot is 120 centimeters tall!\n",
      "Cindy is 160 centimeters tall!\n"
     ]
    }
   ],
   "source": [
    "# for문으로 key값에 반복적으로 접근\n",
    "for name in a:\n",
    "    height = a[name]\n",
    "    print('{0} is {1} centimeters tall!'.format(name, height))"
   ]
  },
  {
   "cell_type": "code",
   "execution_count": 60,
   "metadata": {},
   "outputs": [
    {
     "name": "stdout",
     "output_type": "stream",
     "text": [
      "Groot is 120 centimeters tall!\n",
      "Cindy is 160 centimeters tall!\n"
     ]
    }
   ],
   "source": [
    "# for문과 items메서드로 key값과 value값에 반복적으로 접근\n",
    "# items 반환 순서 : (key, value)\n",
    "for name, height in a.items():\n",
    "     print('{0} is {1} centimeters tall!'.format(name, height))"
   ]
  },
  {
   "cell_type": "markdown",
   "metadata": {},
   "source": [
    "### 3.5. 딕셔너리 메서드\n",
    "* `keys()` : key만 모아서 `dict_keys` 객체를 반환\n",
    "* `values()` : value만 모아서 `dict_values` 객체를 반환\n",
    "* `items()` : key와 value를 tuple로 묶어서 `dict_items` 객체를 반환\n",
    "    * `keys()`, `values()`를 쓰고 싶으면 `list()`로 변환\n",
    "* `clear()` : key와 value 쌍을 모두 제거\n",
    "* `get(x)` : x key값의 value값을 반환\n",
    "    * 인덱싱으로 value값을 반환하는 것과 동일\n",
    "    * 존재하지 않는 key값으로 접근하는 경우 인덱싱은 에러를 일으키고, `get`은 None을 반환\n",
    "* `get(x, y)` : x key값의 value값을 반환하는데 x가 없을 경우 y를 반환\n",
    "* `setdefault(x, y)` : x key가 있으면 value를 반환하고 없으면 y를 value로 하여 딕셔너리 요소로 추가 (반환은 해당 key의 value값)"
   ]
  },
  {
   "cell_type": "code",
   "execution_count": 61,
   "metadata": {},
   "outputs": [
    {
     "name": "stdout",
     "output_type": "stream",
     "text": [
      "dict_keys(['Korean', 'Math', 'Science'])\n",
      "dict_values([100, 95, 99])\n",
      "dict_items([('Korean', 100), ('Math', 95), ('Science', 99)])\n",
      "100\n",
      "NOT FOUND\n",
      "90\n",
      "{'Korean': 100, 'Math': 95, 'Science': 99, 'English': 90}\n"
     ]
    },
    {
     "data": {
      "text/plain": [
       "{}"
      ]
     },
     "execution_count": 61,
     "metadata": {},
     "output_type": "execute_result"
    }
   ],
   "source": [
    "scores = {'Korean':100, 'Math':95, 'Science':99}\n",
    "\n",
    "# keys : key만 모아서 dict_keys 객체 반환\n",
    "print(scores.keys())\n",
    "\n",
    "# values : value만 모아서 dict_values 객체 반환\n",
    "print(scores.values())\n",
    "\n",
    "# items : key와 value 쌍을 튜플로 묶어서 dict_items 객체 반환\n",
    "print(scores.items())\n",
    "\n",
    "# get : 인자로 들어온 key의 value값 반환\n",
    "print(scores.get('Korean'))\n",
    "\n",
    "# get : 존재하지 않은 경우 두 번째 인자로 들어온 값을 그대로 반환\n",
    "print(scores.get('English', 'NOT FOUND'))\n",
    "\n",
    "# setdefault : 존재하지 않는 경우 두 번째 인자로 들어온 값을 value로 하여 요소로 추가\n",
    "print(scores.setdefault('English', 90))\n",
    "print(scores)\n",
    "\n",
    "# clear : key와 value 쌍 제거\n",
    "scores.clear()\n",
    "scores"
   ]
  },
  {
   "cell_type": "markdown",
   "metadata": {},
   "source": [
    "### 3.6. 딕셔너리 Comprehensions"
   ]
  },
  {
   "cell_type": "code",
   "execution_count": 62,
   "metadata": {},
   "outputs": [
    {
     "data": {
      "text/plain": [
       "{'Groot': 170, 'Cindy': 190}"
      ]
     },
     "execution_count": 62,
     "metadata": {},
     "output_type": "execute_result"
    }
   ],
   "source": [
    "# 딕셔너리 comprehension으로 딕셔너리를 쉽게 생성할 수 있음\n",
    "recent_height = {'Groot':160, 'Cindy':180}\n",
    "future_height = {name:height+10 for name, height in recent_height.items()}\n",
    "future_height"
   ]
  },
  {
   "cell_type": "markdown",
   "metadata": {},
   "source": [
    "## 4. Set\n",
    "집합(set)은 다음과 같은 특징을 갖고 있다.\n",
    "* 데이터가 들어온 순서가 없다.\n",
    "* 순서가 없어 인덱싱이 불가하므로 특정 위치에 있는 데이터 수정이 불가능하다.\n",
    "\n",
    "집합(set)은 주로 **순서에 상관 없이 특정 값이 있는지 여부만을 원할 때** 사용된다. (우리가 아는 **집합**과 동일하다.)"
   ]
  },
  {
   "cell_type": "markdown",
   "metadata": {},
   "source": [
    "### 4.1. 집합의 생성"
   ]
  },
  {
   "cell_type": "code",
   "execution_count": 63,
   "metadata": {},
   "outputs": [
    {
     "name": "stdout",
     "output_type": "stream",
     "text": [
      "set()\n",
      "{1, 2, 3}\n",
      "{'e', 'o', 'l', 'H'}\n",
      "{'Apple', 'Pineapple', 'Mango'}\n"
     ]
    }
   ],
   "source": [
    "# 빈 집합 생성\n",
    "a = set()     # {}는 빈 딕셔너리이므로 생성자로 생성\n",
    "print(a)\n",
    "\n",
    "# 집합 생성\n",
    "b = set([1, 2, 3])     # 리스트를 집합을 변환\n",
    "c = set('Hello')       # 문자열의 문자 하나를 요소 하나로 인식\n",
    "d = {'Mango', 'Apple', 'Pineapple'}\n",
    "\n",
    "print(b)\n",
    "print(c)\n",
    "print(d)"
   ]
  },
  {
   "cell_type": "markdown",
   "metadata": {},
   "source": [
    "### 4.2. 조건문/반복문에서의 Set 사용\n",
    "* `in` 키워드로 해당 요소가 집합에 있는지 `True/False`로 반환한다.\n",
    "* for문으로 각 요소에 반복적으로 접근할 수 있지만, **순서가 없기에 어떤 순서로 나올지 모른**다.\n",
    "* for문으로 각 요소와 인덱스에 반복적으로 접근하고 싶으면 `enumerate`를 사용하면 된다.\n",
    "    * 여기서의 인덱스는 그냥 나온 순서이다."
   ]
  },
  {
   "cell_type": "code",
   "execution_count": 64,
   "metadata": {},
   "outputs": [
    {
     "data": {
      "text/plain": [
       "True"
      ]
     },
     "execution_count": 64,
     "metadata": {},
     "output_type": "execute_result"
    }
   ],
   "source": [
    "# in 키워드\n",
    "fruits = {'Apple', 'PineApple', 'Pear', 'Banana'}\n",
    "\n",
    "'Apple' in fruits"
   ]
  },
  {
   "cell_type": "code",
   "execution_count": 65,
   "metadata": {},
   "outputs": [
    {
     "name": "stdout",
     "output_type": "stream",
     "text": [
      "Apple\n",
      "Pear\n",
      "PineApple\n",
      "Banana\n"
     ]
    }
   ],
   "source": [
    "# for문으로 반복적으로 접근 (순서는 모름)\n",
    "for fruit in fruits:\n",
    "    print(fruit)"
   ]
  },
  {
   "cell_type": "code",
   "execution_count": 66,
   "metadata": {},
   "outputs": [
    {
     "name": "stdout",
     "output_type": "stream",
     "text": [
      "[0] Apple\n",
      "[1] Pear\n",
      "[2] PineApple\n",
      "[3] Banana\n"
     ]
    }
   ],
   "source": [
    "# enumerate로 인덱스를 넣을 수 있음\n",
    "for idx, fruit in enumerate(fruits):\n",
    "    print('[{0}] {1}'.format(idx, fruit))"
   ]
  },
  {
   "cell_type": "markdown",
   "metadata": {},
   "source": [
    "### 4.3. Set의 연산\n",
    "* `&`, `intersection()` : 교집합을 반환\n",
    "* `|`, `union()` : 합집합을 반환\n",
    "* `-`, `difference()` : 차집합을 반환"
   ]
  },
  {
   "cell_type": "code",
   "execution_count": 67,
   "metadata": {},
   "outputs": [
    {
     "data": {
      "text/plain": [
       "({3, 4, 5}, {3, 4, 5})"
      ]
     },
     "execution_count": 67,
     "metadata": {},
     "output_type": "execute_result"
    }
   ],
   "source": [
    "s1 = set([1, 2, 3, 4, 5])\n",
    "s2 = set([3, 4, 5, 6, 7])\n",
    "\n",
    "# s1과 s2의 교집합\n",
    "s1&s2, s1.intersection(s2)"
   ]
  },
  {
   "cell_type": "code",
   "execution_count": 68,
   "metadata": {},
   "outputs": [
    {
     "data": {
      "text/plain": [
       "({1, 2, 3, 4, 5, 6, 7}, {1, 2, 3, 4, 5, 6, 7})"
      ]
     },
     "execution_count": 68,
     "metadata": {},
     "output_type": "execute_result"
    }
   ],
   "source": [
    "# s1과 s2의 합집합\n",
    "s1|s2, s1.union(s2)"
   ]
  },
  {
   "cell_type": "code",
   "execution_count": 69,
   "metadata": {},
   "outputs": [
    {
     "data": {
      "text/plain": [
       "({1, 2}, {1, 2})"
      ]
     },
     "execution_count": 69,
     "metadata": {},
     "output_type": "execute_result"
    }
   ],
   "source": [
    "# s1과 s2의 차집합\n",
    "s1-s2, s1.difference(s2)"
   ]
  },
  {
   "cell_type": "markdown",
   "metadata": {},
   "source": [
    "### 4.4. Set 메서드\n",
    "* `add(x)` : 집합에 x를 추가\n",
    "* `remove(x)` : 집합에서 x를 제거"
   ]
  },
  {
   "cell_type": "code",
   "execution_count": 70,
   "metadata": {},
   "outputs": [
    {
     "data": {
      "text/plain": [
       "{'Apple', 'Banana', 'Grapes', 'Pear', 'PineApple'}"
      ]
     },
     "execution_count": 70,
     "metadata": {},
     "output_type": "execute_result"
    }
   ],
   "source": [
    "fruits = {'Apple', 'PineApple', 'Pear', 'Banana'}\n",
    "\n",
    "# add : 집합에 요소 추가\n",
    "fruits.add('Grapes')\n",
    "fruits"
   ]
  },
  {
   "cell_type": "code",
   "execution_count": 71,
   "metadata": {},
   "outputs": [
    {
     "data": {
      "text/plain": [
       "{'Apple', 'Banana', 'Grapes', 'PineApple'}"
      ]
     },
     "execution_count": 71,
     "metadata": {},
     "output_type": "execute_result"
    }
   ],
   "source": [
    "# remove : 집합의 특정 요소를 제거\n",
    "fruits.remove('Pear')\n",
    "fruits"
   ]
  },
  {
   "cell_type": "markdown",
   "metadata": {},
   "source": [
    "### 4.5. Set Comprehensions"
   ]
  },
  {
   "cell_type": "code",
   "execution_count": 72,
   "metadata": {},
   "outputs": [
    {
     "data": {
      "text/plain": [
       "{0, 1, 2}"
      ]
     },
     "execution_count": 72,
     "metadata": {},
     "output_type": "execute_result"
    }
   ],
   "source": [
    "nums = {1, 2, 3, 4, 5, 6, 7, 8, 9, 10}\n",
    "\n",
    "rest_div3 = {x%3 for x in nums}\n",
    "rest_div3"
   ]
  },
  {
   "cell_type": "markdown",
   "metadata": {},
   "source": [
    "## 5. 튜플\n",
    "리스트와 동일하나 생성 뒤 요소를 절대 수정할 수 없다."
   ]
  },
  {
   "cell_type": "markdown",
   "metadata": {},
   "source": [
    "### 5.1. 튜플의 생성"
   ]
  },
  {
   "cell_type": "code",
   "execution_count": 73,
   "metadata": {},
   "outputs": [
    {
     "data": {
      "text/plain": [
       "((), ())"
      ]
     },
     "execution_count": 73,
     "metadata": {},
     "output_type": "execute_result"
    }
   ],
   "source": [
    "# 빈 튜플 생성\n",
    "a = ()\n",
    "b = tuple()\n",
    "\n",
    "a, b"
   ]
  },
  {
   "cell_type": "code",
   "execution_count": 74,
   "metadata": {},
   "outputs": [
    {
     "data": {
      "text/plain": [
       "((1, 2, 3), (1, 2, 3))"
      ]
     },
     "execution_count": 74,
     "metadata": {},
     "output_type": "execute_result"
    }
   ],
   "source": [
    "# 튜플 생성\n",
    "a = (1, 2, 3)\n",
    "b = 1, 2, 3     # 괄호 생략 가능\n",
    "\n",
    "a, b"
   ]
  },
  {
   "cell_type": "code",
   "execution_count": 75,
   "metadata": {},
   "outputs": [
    {
     "data": {
      "text/plain": [
       "(int, tuple)"
      ]
     },
     "execution_count": 75,
     "metadata": {},
     "output_type": "execute_result"
    }
   ],
   "source": [
    "# 요소가 한 개인 튜플 생성 시 , 반드시 추가\n",
    "a = (1)\n",
    "b = (1,)\n",
    "\n",
    "type(a), type(b)"
   ]
  },
  {
   "cell_type": "markdown",
   "metadata": {},
   "source": [
    "### 5.2. 튜플의 연산\n",
    "이 때 기존 튜플을 변화시키는 게 아니라 요소가 변화된 새로운 튜플을 생성한다.\n",
    "* `+` : 기존 튜플의 요소, 추가 튜플의 요소를 넣은 새로운 튜플 생성\n",
    "* `*` : 기존 튜플의 요소를 n번 반복한 새로운 튜플 생성"
   ]
  },
  {
   "cell_type": "code",
   "execution_count": 5,
   "metadata": {},
   "outputs": [
    {
     "name": "stdout",
     "output_type": "stream",
     "text": [
      "a의 id : 1760858940040 \n",
      "b의 id : 1760862614656 \n",
      "a+b의 id : 1760858829640\n"
     ]
    },
    {
     "data": {
      "text/plain": [
       "(1, 2, 3, 4, 5, 6)"
      ]
     },
     "execution_count": 5,
     "metadata": {},
     "output_type": "execute_result"
    }
   ],
   "source": [
    "a = (1, 2, 3)\n",
    "b = (4, 5, 6)\n",
    "\n",
    "print('a의 id :', id(a), '\\nb의 id :', id(b), '\\na+b의 id :', id(a+b))\n",
    "a+b"
   ]
  },
  {
   "cell_type": "code",
   "execution_count": 6,
   "metadata": {},
   "outputs": [
    {
     "name": "stdout",
     "output_type": "stream",
     "text": [
      "a의 id : 1760858940040 \n",
      "a*5의 id : 1760879800560\n"
     ]
    },
    {
     "data": {
      "text/plain": [
       "(1, 2, 3, 1, 2, 3, 1, 2, 3, 1, 2, 3, 1, 2, 3)"
      ]
     },
     "execution_count": 6,
     "metadata": {},
     "output_type": "execute_result"
    }
   ],
   "source": [
    "print('a의 id :', id(a), '\\na*5의 id :', id(a*5))\n",
    "a*5"
   ]
  },
  {
   "cell_type": "markdown",
   "metadata": {},
   "source": [
    "## 9. 함수\n",
    "* `def` 키워드로 함수를 정의할 수 있다.\n",
    "* 여러 값을 반환할 수 있다. \n",
    "    * 여러 개의 변수로 값을 받을 수 있지만\n",
    "    * 만약 하나의 변수로 받는 경우 반환 값은 `tuple` 자료형이다."
   ]
  },
  {
   "cell_type": "code",
   "execution_count": 78,
   "metadata": {},
   "outputs": [],
   "source": [
    "def total_average(result):\n",
    "    scores = list(result.values())\n",
    "    total = sum(scores)\n",
    "    avg = total/len(scores)\n",
    "    \n",
    "    return total, avg"
   ]
  },
  {
   "cell_type": "code",
   "execution_count": 79,
   "metadata": {},
   "outputs": [
    {
     "data": {
      "text/plain": [
       "(286, 95.33333333333333)"
      ]
     },
     "execution_count": 79,
     "metadata": {},
     "output_type": "execute_result"
    }
   ],
   "source": [
    "my_result = {'Korean':100, 'Math':96, 'Science':90}\n",
    "\n",
    "total, avg = total_average(my_result)\n",
    "total, avg"
   ]
  },
  {
   "cell_type": "code",
   "execution_count": 80,
   "metadata": {},
   "outputs": [
    {
     "data": {
      "text/plain": [
       "(286, 95.33333333333333)"
      ]
     },
     "execution_count": 80,
     "metadata": {},
     "output_type": "execute_result"
    }
   ],
   "source": [
    "result = total_average(my_result)\n",
    "result"
   ]
  },
  {
   "cell_type": "markdown",
   "metadata": {},
   "source": [
    "## 10. lambda 함수\n",
    "이름이 없는 함수로 간단한 함수를 정의할 때 사용된다.\n",
    "$$lambda　param1, param2, ... : (매개변수로 만든 표현식)$$"
   ]
  },
  {
   "cell_type": "code",
   "execution_count": 81,
   "metadata": {},
   "outputs": [
    {
     "data": {
      "text/plain": [
       "4"
      ]
     },
     "execution_count": 81,
     "metadata": {},
     "output_type": "execute_result"
    }
   ],
   "source": [
    "(lambda x: x%5)(19)"
   ]
  },
  {
   "cell_type": "code",
   "execution_count": 82,
   "metadata": {},
   "outputs": [
    {
     "data": {
      "text/plain": [
       "8"
      ]
     },
     "execution_count": 82,
     "metadata": {},
     "output_type": "execute_result"
    }
   ],
   "source": [
    "add = lambda a, b: a+b\n",
    "\n",
    "add(3, 5)"
   ]
  },
  {
   "cell_type": "markdown",
   "metadata": {},
   "source": [
    "## 11. 고차 함수\n",
    "매개 변수로 다른 함수를 받는 함수를 말한다."
   ]
  },
  {
   "cell_type": "markdown",
   "metadata": {},
   "source": [
    "### 11.1. `filter(func, list)`\n",
    "* 리스트의 요소가 함수의 인수로 하나씩 전달되어 \n",
    "* True가 반환되는 요소만 모아서 리스트로 반환한다"
   ]
  },
  {
   "cell_type": "code",
   "execution_count": 83,
   "metadata": {},
   "outputs": [
    {
     "data": {
      "text/plain": [
       "[0, 2, 3, 4, 6, 8, 9, 10, 12, 14]"
      ]
     },
     "execution_count": 83,
     "metadata": {},
     "output_type": "execute_result"
    }
   ],
   "source": [
    "def mul_2_3(x):\n",
    "    return x%2==0 or x%3==0\n",
    "\n",
    "nums = list(range(15))\n",
    "result = filter(mul_2_3, nums)\n",
    "\n",
    "# 값을 보려면 리스트로 변환\n",
    "# 반환값이 filter 객체이기 때문\n",
    "list(result) "
   ]
  },
  {
   "cell_type": "code",
   "execution_count": 84,
   "metadata": {},
   "outputs": [
    {
     "data": {
      "text/plain": [
       "[0, 2, 3, 4, 6, 8, 9, 10, 12, 14]"
      ]
     },
     "execution_count": 84,
     "metadata": {},
     "output_type": "execute_result"
    }
   ],
   "source": [
    "# lambda식을 func 부분에 넣어도 됨\n",
    "is_mul2_3 = lambda x : x%2==0 or x%3==0\n",
    "\n",
    "result = filter(is_mul2_3, nums)\n",
    "list(result)"
   ]
  },
  {
   "cell_type": "markdown",
   "metadata": {},
   "source": [
    "### 11.2. `map(func, seq)`\n",
    "* `seq`란 **리스트, 튜플, 문자열**을 말한다.\n",
    "* seq자료형의 요소가 하나씩 func의 입력으로 들어가\n",
    "* 나오는 출력값을 하나로 묶어 반환한다.\n",
    "    * 그 값을 쓰고 싶으면 `list`로 변환한 뒤 사용한다."
   ]
  },
  {
   "cell_type": "code",
   "execution_count": 85,
   "metadata": {},
   "outputs": [
    {
     "data": {
      "text/plain": [
       "[0, 3, 6, 9, 12, 15, 18, 21, 24, 27, 30, 33, 36, 39, 42]"
      ]
     },
     "execution_count": 85,
     "metadata": {},
     "output_type": "execute_result"
    }
   ],
   "source": [
    "def add_3(x, y, z):\n",
    "    return x+y+z\n",
    "\n",
    "nums = list(range(15))\n",
    "result = map(add_3, nums, nums, nums)\n",
    "list(result)"
   ]
  },
  {
   "cell_type": "code",
   "execution_count": 86,
   "metadata": {},
   "outputs": [
    {
     "data": {
      "text/plain": [
       "[0, 1, 4, 9, 16, 25, 36, 49, 64, 81, 100, 121, 144, 169, 196]"
      ]
     },
     "execution_count": 86,
     "metadata": {},
     "output_type": "execute_result"
    }
   ],
   "source": [
    "# lambda 식을 func 부분에 넣어도 된다.\n",
    "cube = map((lambda x:x**2), nums)\n",
    "list(cube)"
   ]
  },
  {
   "cell_type": "markdown",
   "metadata": {},
   "source": [
    "### 11.3. `reduce(func, seq)`\n",
    "1. 처음에는 seq자료형의 두 요소를 뽑아 함수에 입력을 넣고\n",
    "2. 그 다음 부터는 앞의 결과값과 그 다음 요소를 함수에 입력을 넣는다.\n",
    "3. chain처럼 연달아 연산을 하여 최종 결과값(int, float 등)을 반환한다."
   ]
  },
  {
   "cell_type": "code",
   "execution_count": 87,
   "metadata": {},
   "outputs": [
    {
     "name": "stdout",
     "output_type": "stream",
     "text": [
      "10\n"
     ]
    },
    {
     "data": {
      "text/plain": [
       "3628800"
      ]
     },
     "execution_count": 87,
     "metadata": {},
     "output_type": "execute_result"
    }
   ],
   "source": [
    "from functools import reduce\n",
    "\n",
    "num = range(1, int(input())+1)\n",
    "\n",
    "fact = reduce(lambda x, y:x*y, num)\n",
    "fact"
   ]
  },
  {
   "cell_type": "markdown",
   "metadata": {},
   "source": [
    "## 12.  클래스\n",
    "### 12.1. 클래스\n",
    "Python의 클래스의 경우 따로 멤버 변수를 정의를 하지 않는다.\n",
    "* 인스턴스 변수의 경우 앞에 `self`를 붙여준다.\n",
    "* 클래스 변수의 경우 정의를 할 수 있으며, 클래스 내에서 사용시 `cls`를 붙여준다.    \n",
    "\n",
    "함수의 경우도 마찬가지로 인스턴스 메서드와 클래스 메서드를 구분하기 위해 인스턴스 메서드의 경우 인자로 `self`를 클래스 메서드의 경우 `cls`를 넘겨준다."
   ]
  },
  {
   "cell_type": "code",
   "execution_count": 88,
   "metadata": {},
   "outputs": [],
   "source": [
    "class Person:\n",
    "    # 클래스 변수 : 모든 객체가 공유\n",
    "    species = 'Person'\n",
    "    \n",
    "    # 생성자\n",
    "    def __init__(self, name, age):\n",
    "        # 인스턴스 변수\n",
    "        self.name = name\n",
    "        self.age = age\n",
    "    \n",
    "    # 인스턴스 메서드\n",
    "    def walk(self):\n",
    "        print('{0}이 걷고 있습니다!'.format(self.name))\n",
    "        \n",
    "    def age_after(self, year):\n",
    "        print('{0}은 {1}년 후 {2}살 입니다!'.format(self.name, self.age, self.age+year))\n",
    "    \n",
    "    # 클래스 메서드 : 모든 객체가 공유\n",
    "    @classmethod\n",
    "    def print_person(cls):\n",
    "        print('종족은 {0}입니다!'.format(cls.species))"
   ]
  },
  {
   "cell_type": "markdown",
   "metadata": {},
   "source": [
    "#### 12.1.1. 객체 생성"
   ]
  },
  {
   "cell_type": "code",
   "execution_count": 89,
   "metadata": {},
   "outputs": [],
   "source": [
    "person1 = Person('Kevin', 15)\n",
    "person2 = Person('Emily', 25)\n",
    "person3 = Person('Ben', 45)"
   ]
  },
  {
   "cell_type": "markdown",
   "metadata": {},
   "source": [
    "#### 12.1.2. 멤버 변수, 메서드 호출"
   ]
  },
  {
   "cell_type": "code",
   "execution_count": 90,
   "metadata": {},
   "outputs": [
    {
     "data": {
      "text/plain": [
       "('Kevin', 'Emily', 'Ben')"
      ]
     },
     "execution_count": 90,
     "metadata": {},
     "output_type": "execute_result"
    }
   ],
   "source": [
    "# 멤버 변수 호출\n",
    "person1.name, person2.name, person3.name"
   ]
  },
  {
   "cell_type": "code",
   "execution_count": 91,
   "metadata": {},
   "outputs": [
    {
     "name": "stdout",
     "output_type": "stream",
     "text": [
      "Kevin이 걷고 있습니다!\n",
      "Emily이 걷고 있습니다!\n",
      "Ben이 걷고 있습니다!\n"
     ]
    },
    {
     "data": {
      "text/plain": [
       "(None, None, None)"
      ]
     },
     "execution_count": 91,
     "metadata": {},
     "output_type": "execute_result"
    }
   ],
   "source": [
    "# 멤버 메서드 호출\n",
    "person1.walk(), person2.walk(), person3.walk()"
   ]
  },
  {
   "cell_type": "markdown",
   "metadata": {},
   "source": [
    "#### 12.1.3. 클래스 변수, 메서드 호출"
   ]
  },
  {
   "cell_type": "code",
   "execution_count": 92,
   "metadata": {},
   "outputs": [
    {
     "data": {
      "text/plain": [
       "('Person', 'Person', 'Person')"
      ]
     },
     "execution_count": 92,
     "metadata": {},
     "output_type": "execute_result"
    }
   ],
   "source": [
    "# 클래스 변수 호출\n",
    "person1.species, person2.species, person3.species"
   ]
  },
  {
   "cell_type": "code",
   "execution_count": 93,
   "metadata": {},
   "outputs": [
    {
     "name": "stdout",
     "output_type": "stream",
     "text": [
      "종족은 Person입니다!\n",
      "종족은 Person입니다!\n",
      "종족은 Person입니다!\n"
     ]
    },
    {
     "data": {
      "text/plain": [
       "(None, None, None)"
      ]
     },
     "execution_count": 93,
     "metadata": {},
     "output_type": "execute_result"
    }
   ],
   "source": [
    "# 클래스 메서드 호출\n",
    "person1.print_person(), person2.print_person(), person3.print_person()"
   ]
  },
  {
   "cell_type": "markdown",
   "metadata": {},
   "source": [
    "### 12.2. 상속"
   ]
  },
  {
   "cell_type": "code",
   "execution_count": 94,
   "metadata": {},
   "outputs": [],
   "source": [
    "class MoreInfo(Person):\n",
    "    def __init__(self, name, age, sex, home):\n",
    "        # 부모 클래스의 생성자 호출\n",
    "        super().__init__(name, age)\n",
    "        self.sex = sex\n",
    "        self.home = home\n",
    "        \n",
    "    def print_info(self):\n",
    "        print('{0}은 {1}살이며 {2}이고 집은 {3}입니다!'.format(self.name, self.age, self.sex, self.home))"
   ]
  },
  {
   "cell_type": "code",
   "execution_count": 95,
   "metadata": {},
   "outputs": [
    {
     "name": "stdout",
     "output_type": "stream",
     "text": [
      "Dury은 22살이며 남성이고 집은 대구입니다!\n"
     ]
    }
   ],
   "source": [
    "person1 = MoreInfo('Dury', 22, '남성', '대구')\n",
    "\n",
    "person1.print_info()"
   ]
  },
  {
   "cell_type": "markdown",
   "metadata": {},
   "source": [
    "### 12.3. 오버라이딩(재정의)\n",
    "자식 클래스에서 부모 클래스에 이미 정의되어 있는 메서드를 다시 정의하는 것"
   ]
  },
  {
   "cell_type": "code",
   "execution_count": 96,
   "metadata": {},
   "outputs": [],
   "source": [
    "class MoreInfo2(Person):\n",
    "    def __init__(self, name, age, sex, home):\n",
    "        # 부모 클래스의 생성자 호출\n",
    "        super().__init__(name, age)\n",
    "        self.sex = sex\n",
    "        self.home = home\n",
    "        \n",
    "    def walk(self):\n",
    "        print('{0}살 {1}은 걷고 있습니다!'.format(self.age, self.name))"
   ]
  },
  {
   "cell_type": "code",
   "execution_count": 97,
   "metadata": {},
   "outputs": [
    {
     "name": "stdout",
     "output_type": "stream",
     "text": [
      "Dury이 걷고 있습니다!\n",
      "22살 DuryKo은 걷고 있습니다!\n"
     ]
    }
   ],
   "source": [
    "person1 = Person('Dury', 18)\n",
    "person2 = MoreInfo2('DuryKo', 22, '남성', '사월')\n",
    "\n",
    "person1.walk()\n",
    "person2.walk()"
   ]
  },
  {
   "cell_type": "markdown",
   "metadata": {},
   "source": [
    "## 13. 모듈\n",
    "모듈은 함수, 변수, 클래스를 모아 놓은 파일이다. 라이브러리라 보면 된다."
   ]
  },
  {
   "cell_type": "markdown",
   "metadata": {},
   "source": [
    "### 13.1. 모듈 생성"
   ]
  },
  {
   "cell_type": "code",
   "execution_count": 98,
   "metadata": {},
   "outputs": [],
   "source": [
    "# calculator.py\n",
    "def add(a, b):\n",
    "    return a+b\n",
    "\n",
    "def sub(a, b):\n",
    "    return a-b\n",
    "\n",
    "def mul(a, b):\n",
    "    return a*b\n",
    "\n",
    "def div(a, b):\n",
    "    return a//b, a%b"
   ]
  },
  {
   "cell_type": "markdown",
   "metadata": {},
   "source": [
    "### 13.2. 모듈 불러와 사용하기"
   ]
  },
  {
   "cell_type": "code",
   "execution_count": 99,
   "metadata": {},
   "outputs": [
    {
     "name": "stdout",
     "output_type": "stream",
     "text": [
      "8\n",
      "2\n",
      "20\n",
      "(5, 2)\n"
     ]
    }
   ],
   "source": [
    "import calculator as cal\n",
    "\n",
    "print(cal.add(3, 5))\n",
    "print(cal.sub(5, 3))\n",
    "print(cal.mul(4, 5))\n",
    "print(cal.div(17, 3))"
   ]
  },
  {
   "cell_type": "code",
   "execution_count": 100,
   "metadata": {},
   "outputs": [
    {
     "name": "stdout",
     "output_type": "stream",
     "text": [
      "8\n",
      "2\n",
      "20\n",
      "(5, 2)\n"
     ]
    }
   ],
   "source": [
    "from calculator import *\n",
    "\n",
    "# 모듈 내 메서드 호출 시 모듈 이름을 명시하지 않아도 됨\n",
    "print(add(3, 5))\n",
    "print(sub(5, 3))\n",
    "print(mul(4, 5))\n",
    "print(div(17, 3))"
   ]
  }
 ],
 "metadata": {
  "kernelspec": {
   "display_name": "Python 3",
   "language": "python",
   "name": "python3"
  },
  "language_info": {
   "codemirror_mode": {
    "name": "ipython",
    "version": 3
   },
   "file_extension": ".py",
   "mimetype": "text/x-python",
   "name": "python",
   "nbconvert_exporter": "python",
   "pygments_lexer": "ipython3",
   "version": "3.7.3"
  },
  "toc": {
   "base_numbering": 1,
   "nav_menu": {},
   "number_sections": false,
   "sideBar": true,
   "skip_h1_title": false,
   "title_cell": "Table of Contents",
   "title_sidebar": "Contents",
   "toc_cell": false,
   "toc_position": {
    "height": "calc(100% - 180px)",
    "left": "10px",
    "top": "150px",
    "width": "315.823px"
   },
   "toc_section_display": true,
   "toc_window_display": false
  },
  "varInspector": {
   "cols": {
    "lenName": 16,
    "lenType": 16,
    "lenVar": 40
   },
   "kernels_config": {
    "python": {
     "delete_cmd_postfix": "",
     "delete_cmd_prefix": "del ",
     "library": "var_list.py",
     "varRefreshCmd": "print(var_dic_list())"
    },
    "r": {
     "delete_cmd_postfix": ") ",
     "delete_cmd_prefix": "rm(",
     "library": "var_list.r",
     "varRefreshCmd": "cat(var_dic_list()) "
    }
   },
   "types_to_exclude": [
    "module",
    "function",
    "builtin_function_or_method",
    "instance",
    "_Feature"
   ],
   "window_display": false
  }
 },
 "nbformat": 4,
 "nbformat_minor": 2
}
