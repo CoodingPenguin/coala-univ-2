{
 "cells": [
  {
   "cell_type": "markdown",
   "metadata": {},
   "source": [
    "# Lecture 03. Function"
   ]
  },
  {
   "cell_type": "markdown",
   "metadata": {},
   "source": [
    "이 강의자료는 [2019-2 인공지능 강의자료](), [점프 투 파이썬](https://wikidocs.net/book/1), [W3School Python Tutorial](https://www.w3schools.com/python/default.asp)을 참고하였습니다.    \n",
    "\n",
    "[개인블로그](https://coding-penguin.tistory.com)에도 정리하고 있으니 관심있으시면 가끔 들러주세요:)"
   ]
  },
  {
   "cell_type": "markdown",
   "metadata": {},
   "source": [
    "## 1. 함수\n",
    "함수란 **입력으로 받은 매개변수를 가지고 어떤 일을 수행한 다음 결과값을 반환하는 것**을 말한다. 함수는 반복적으로 실행되는 코드가 있을 때, 해당 코드에 대한 함수를 정의하면 코드가 훨씬 간결해진다. (추상화의 목적도 있음)\n",
    "* `def` 키워드로 함수를 정의할 수 있다.\n",
    "* 여러 값을 반환할 수 있다. \n",
    "    * 여러 개의 변수로 값을 받을 수 있지만\n",
    "    * 만약 하나의 변수로 받는 경우 반환 값은 `tuple` 자료형이다."
   ]
  },
  {
   "cell_type": "code",
   "execution_count": 1,
   "metadata": {},
   "outputs": [],
   "source": [
    "def total_average(result):\n",
    "    scores = list(result.values())\n",
    "    total = sum(scores)\n",
    "    avg = total/len(scores)\n",
    "    \n",
    "    return total, avg"
   ]
  },
  {
   "cell_type": "code",
   "execution_count": 4,
   "metadata": {},
   "outputs": [
    {
     "name": "stdout",
     "output_type": "stream",
     "text": [
      "<class 'int'> <class 'float'>\n"
     ]
    },
    {
     "data": {
      "text/plain": [
       "(286, 95.33333333333333)"
      ]
     },
     "execution_count": 4,
     "metadata": {},
     "output_type": "execute_result"
    }
   ],
   "source": [
    "my_result = {'Korean':100, 'Math':96, 'Science':90}\n",
    "\n",
    "total, avg = total_average(my_result)\n",
    "print(type(total), type(avg))\n",
    "total, avg"
   ]
  },
  {
   "cell_type": "code",
   "execution_count": 6,
   "metadata": {},
   "outputs": [
    {
     "name": "stdout",
     "output_type": "stream",
     "text": [
      "<class 'tuple'>\n"
     ]
    },
    {
     "data": {
      "text/plain": [
       "(286, 95.33333333333333)"
      ]
     },
     "execution_count": 6,
     "metadata": {},
     "output_type": "execute_result"
    }
   ],
   "source": [
    "result = total_average(my_result)\n",
    "print(type(result))\n",
    "result"
   ]
  },
  {
   "cell_type": "markdown",
   "metadata": {},
   "source": [
    "## 2. lambda 함수\n",
    "이름이 없는 함수로 간단한 함수를 정의할 때 사용된다."
   ]
  },
  {
   "cell_type": "markdown",
   "metadata": {},
   "source": [
    "$$lambda　param1, param2, ... : (매개변수로 만든 표현식)$$"
   ]
  },
  {
   "cell_type": "code",
   "execution_count": 7,
   "metadata": {},
   "outputs": [
    {
     "data": {
      "text/plain": [
       "4"
      ]
     },
     "execution_count": 7,
     "metadata": {},
     "output_type": "execute_result"
    }
   ],
   "source": [
    "(lambda x: x%5)(19)"
   ]
  },
  {
   "cell_type": "code",
   "execution_count": 8,
   "metadata": {},
   "outputs": [
    {
     "data": {
      "text/plain": [
       "8"
      ]
     },
     "execution_count": 8,
     "metadata": {},
     "output_type": "execute_result"
    }
   ],
   "source": [
    "add = lambda a, b: a+b\n",
    "\n",
    "add(3, 5)"
   ]
  },
  {
   "cell_type": "markdown",
   "metadata": {},
   "source": [
    "## 3. 고차 함수\n",
    "매개 변수로 다른 함수를 받는 함수를 말한다. (유사 함수형 프로그래밍)"
   ]
  },
  {
   "cell_type": "markdown",
   "metadata": {},
   "source": [
    "### 3.1. `filter(func, list)`\n",
    "* 리스트의 요소가 함수의 인수로 하나씩 전달되어 \n",
    "* True가 반환되는 요소만 모아서 리스트로 반환한다"
   ]
  },
  {
   "cell_type": "code",
   "execution_count": 9,
   "metadata": {},
   "outputs": [
    {
     "data": {
      "text/plain": [
       "[0, 2, 3, 4, 6, 8, 9, 10, 12, 14]"
      ]
     },
     "execution_count": 9,
     "metadata": {},
     "output_type": "execute_result"
    }
   ],
   "source": [
    "def mul_2_3(x):\n",
    "    return x%2==0 or x%3==0\n",
    "\n",
    "nums = list(range(15))\n",
    "result = filter(mul_2_3, nums)\n",
    "\n",
    "# 값을 보려면 리스트로 변환\n",
    "# 반환값이 filter 객체이기 때문\n",
    "list(result) "
   ]
  },
  {
   "cell_type": "code",
   "execution_count": 11,
   "metadata": {},
   "outputs": [
    {
     "data": {
      "text/plain": [
       "[0, 2, 3, 4, 6, 8, 9, 10, 12, 14]"
      ]
     },
     "execution_count": 11,
     "metadata": {},
     "output_type": "execute_result"
    }
   ],
   "source": [
    "result2 = [x for x in nums if x%2 == 0 or x % 3 == 0]\n",
    "result2"
   ]
  },
  {
   "cell_type": "code",
   "execution_count": 12,
   "metadata": {},
   "outputs": [
    {
     "data": {
      "text/plain": [
       "[0, 2, 3, 4, 6, 8, 9, 10, 12, 14]"
      ]
     },
     "execution_count": 12,
     "metadata": {},
     "output_type": "execute_result"
    }
   ],
   "source": [
    "# lambda식을 func 부분에 넣어도 됨\n",
    "is_mul2_3 = lambda x : x%2==0 or x%3==0\n",
    "\n",
    "result = filter(is_mul2_3, nums)\n",
    "list(result)"
   ]
  },
  {
   "cell_type": "markdown",
   "metadata": {},
   "source": [
    "### 3.2. `map(func, seq)`\n",
    "* `seq`란 **리스트, 튜플, 문자열**을 말한다.\n",
    "* seq자료형의 요소가 하나씩 func의 입력으로 들어가\n",
    "* 나오는 출력값을 하나로 묶어 반환한다.\n",
    "    * 그 값을 쓰고 싶으면 `list`로 변환한 뒤 사용한다."
   ]
  },
  {
   "cell_type": "code",
   "execution_count": 14,
   "metadata": {},
   "outputs": [
    {
     "data": {
      "text/plain": [
       "[0, 2, 4, 6, 8]"
      ]
     },
     "execution_count": 14,
     "metadata": {},
     "output_type": "execute_result"
    }
   ],
   "source": [
    "def add_2(x, y):\n",
    "    return x+y\n",
    "\n",
    "nums1 = list(range(15))\n",
    "nums2 = list(range(5))\n",
    "result = map(add_2, nums1, nums2)\n",
    "list(result)"
   ]
  },
  {
   "cell_type": "code",
   "execution_count": 15,
   "metadata": {},
   "outputs": [
    {
     "data": {
      "text/plain": [
       "[0, 1, 4, 9, 16, 25, 36, 49, 64, 81, 100, 121, 144, 169, 196]"
      ]
     },
     "execution_count": 15,
     "metadata": {},
     "output_type": "execute_result"
    }
   ],
   "source": [
    "# lambda 식을 func 부분에 넣어도 된다.\n",
    "cube = map((lambda x:x**2), nums)\n",
    "list(cube)"
   ]
  },
  {
   "cell_type": "markdown",
   "metadata": {},
   "source": [
    "### 3.3. `reduce(func, seq)`\n",
    "1. 처음에는 seq자료형의 두 요소를 뽑아 함수에 입력을 넣고\n",
    "2. 그 다음 부터는 앞의 결과값과 그 다음 요소를 함수에 입력을 넣는다.\n",
    "3. chain처럼 연달아 연산을 하여 최종 결과값(int, float 등)을 반환한다."
   ]
  },
  {
   "cell_type": "code",
   "execution_count": 16,
   "metadata": {},
   "outputs": [
    {
     "name": "stdout",
     "output_type": "stream",
     "text": [
      "5\n"
     ]
    },
    {
     "data": {
      "text/plain": [
       "120"
      ]
     },
     "execution_count": 16,
     "metadata": {},
     "output_type": "execute_result"
    }
   ],
   "source": [
    "from functools import reduce\n",
    "\n",
    "num = range(1, int(input())+1)\n",
    "\n",
    "fact = reduce(lambda x, y:x*y, num)\n",
    "fact"
   ]
  }
 ],
 "metadata": {
  "kernelspec": {
   "display_name": "Python 3",
   "language": "python",
   "name": "python3"
  },
  "language_info": {
   "codemirror_mode": {
    "name": "ipython",
    "version": 3
   },
   "file_extension": ".py",
   "mimetype": "text/x-python",
   "name": "python",
   "nbconvert_exporter": "python",
   "pygments_lexer": "ipython3",
   "version": "3.7.3"
  },
  "toc": {
   "base_numbering": 1,
   "nav_menu": {},
   "number_sections": false,
   "sideBar": true,
   "skip_h1_title": false,
   "title_cell": "Table of Contents",
   "title_sidebar": "Contents",
   "toc_cell": false,
   "toc_position": {
    "height": "calc(100% - 180px)",
    "left": "10px",
    "top": "150px",
    "width": "315.823px"
   },
   "toc_section_display": true,
   "toc_window_display": false
  },
  "varInspector": {
   "cols": {
    "lenName": 16,
    "lenType": 16,
    "lenVar": 40
   },
   "kernels_config": {
    "python": {
     "delete_cmd_postfix": "",
     "delete_cmd_prefix": "del ",
     "library": "var_list.py",
     "varRefreshCmd": "print(var_dic_list())"
    },
    "r": {
     "delete_cmd_postfix": ") ",
     "delete_cmd_prefix": "rm(",
     "library": "var_list.r",
     "varRefreshCmd": "cat(var_dic_list()) "
    }
   },
   "types_to_exclude": [
    "module",
    "function",
    "builtin_function_or_method",
    "instance",
    "_Feature"
   ],
   "window_display": false
  }
 },
 "nbformat": 4,
 "nbformat_minor": 2
}
