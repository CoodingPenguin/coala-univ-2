{
 "cells": [
  {
   "cell_type": "markdown",
   "metadata": {},
   "source": [
    "# Lecture 04. Class, Module and Exception Handling\n",
    "이 강의자료는 [2019-2 인공지능 강의자료](), [점프 투 파이썬](https://wikidocs.net/book/1), [W3School Python Tutorial](https://www.w3schools.com/python/default.asp)을 참고하였습니다.    \n",
    "\n",
    "[개인블로그](https://coding-penguin.tistory.com)에도 정리하고 있으니 관심있으시면 가끔 들러주세요:)"
   ]
  },
  {
   "cell_type": "markdown",
   "metadata": {},
   "source": [
    "## 1.  클래스\n",
    "### 1.1. 클래스\n",
    "Python의 클래스의 경우 따로 멤버 변수를 정의를 하지 않는다.\n",
    "* 인스턴스 변수의 경우 앞에 `self`를 붙여준다.\n",
    "* 클래스 변수의 경우 정의를 할 수 있으며, 클래스 내에서 사용시 `cls`를 붙여준다.    \n",
    "\n",
    "함수의 경우도 마찬가지로 인스턴스 메서드와 클래스 메서드를 구분하기 위해, 인스턴스 메서드의 경우 인자로 `self`를 클래스 메서드의 경우 `cls`를 넘겨준다."
   ]
  },
  {
   "cell_type": "code",
   "execution_count": 88,
   "metadata": {},
   "outputs": [],
   "source": [
    "class Person:\n",
    "    # 클래스 변수 : 모든 객체가 공유\n",
    "    species = 'Person'\n",
    "    \n",
    "    # 생성자\n",
    "    def __init__(self, name, age):\n",
    "        # 인스턴스 변수\n",
    "        self.name = name\n",
    "        self.age = age\n",
    "    \n",
    "    # 인스턴스 메서드\n",
    "    def walk(self):\n",
    "        print('{0}이 걷고 있습니다!'.format(self.name))\n",
    "        \n",
    "    def age_after(self, year):\n",
    "        print('{0}은 {1}년 후 {2}살 입니다!'.format(self.name, self.age, self.age+year))\n",
    "    \n",
    "    # 클래스 메서드 : 모든 객체가 공유\n",
    "    @classmethod\n",
    "    def print_person(cls):\n",
    "        print('종족은 {0}입니다!'.format(cls.species))"
   ]
  },
  {
   "cell_type": "markdown",
   "metadata": {},
   "source": [
    "#### 1.1.1. 객체 생성"
   ]
  },
  {
   "cell_type": "code",
   "execution_count": 89,
   "metadata": {},
   "outputs": [],
   "source": [
    "person1 = Person('Kevin', 15)\n",
    "person2 = Person('Emily', 25)\n",
    "person3 = Person('Ben', 45)"
   ]
  },
  {
   "cell_type": "markdown",
   "metadata": {},
   "source": [
    "#### 1.1.2. 멤버 변수, 메서드 호출"
   ]
  },
  {
   "cell_type": "code",
   "execution_count": 90,
   "metadata": {},
   "outputs": [
    {
     "data": {
      "text/plain": [
       "('Kevin', 'Emily', 'Ben')"
      ]
     },
     "execution_count": 90,
     "metadata": {},
     "output_type": "execute_result"
    }
   ],
   "source": [
    "# 멤버 변수 호출\n",
    "person1.name, person2.name, person3.name"
   ]
  },
  {
   "cell_type": "code",
   "execution_count": 91,
   "metadata": {},
   "outputs": [
    {
     "name": "stdout",
     "output_type": "stream",
     "text": [
      "Kevin이 걷고 있습니다!\n",
      "Emily이 걷고 있습니다!\n",
      "Ben이 걷고 있습니다!\n"
     ]
    },
    {
     "data": {
      "text/plain": [
       "(None, None, None)"
      ]
     },
     "execution_count": 91,
     "metadata": {},
     "output_type": "execute_result"
    }
   ],
   "source": [
    "# 멤버 메서드 호출\n",
    "person1.walk(), person2.walk(), person3.walk()"
   ]
  },
  {
   "cell_type": "markdown",
   "metadata": {},
   "source": [
    "#### 1.1.3. 클래스 변수, 메서드 호출"
   ]
  },
  {
   "cell_type": "code",
   "execution_count": 92,
   "metadata": {},
   "outputs": [
    {
     "data": {
      "text/plain": [
       "('Person', 'Person', 'Person')"
      ]
     },
     "execution_count": 92,
     "metadata": {},
     "output_type": "execute_result"
    }
   ],
   "source": [
    "# 클래스 변수 호출\n",
    "person1.species, person2.species, person3.species"
   ]
  },
  {
   "cell_type": "code",
   "execution_count": 93,
   "metadata": {},
   "outputs": [
    {
     "name": "stdout",
     "output_type": "stream",
     "text": [
      "종족은 Person입니다!\n",
      "종족은 Person입니다!\n",
      "종족은 Person입니다!\n"
     ]
    },
    {
     "data": {
      "text/plain": [
       "(None, None, None)"
      ]
     },
     "execution_count": 93,
     "metadata": {},
     "output_type": "execute_result"
    }
   ],
   "source": [
    "# 클래스 메서드 호출\n",
    "person1.print_person(), person2.print_person(), person3.print_person()"
   ]
  },
  {
   "cell_type": "markdown",
   "metadata": {},
   "source": [
    "### 1.2. 상속"
   ]
  },
  {
   "cell_type": "code",
   "execution_count": 94,
   "metadata": {},
   "outputs": [],
   "source": [
    "class MoreInfo(Person):\n",
    "    def __init__(self, name, age, sex, home):\n",
    "        # 부모 클래스의 생성자 호출\n",
    "        super().__init__(name, age)\n",
    "        self.sex = sex\n",
    "        self.home = home\n",
    "        \n",
    "    def print_info(self):\n",
    "        print('{0}은 {1}살이며 {2}이고 집은 {3}입니다!'.format(self.name, self.age, self.sex, self.home))"
   ]
  },
  {
   "cell_type": "code",
   "execution_count": 95,
   "metadata": {},
   "outputs": [
    {
     "name": "stdout",
     "output_type": "stream",
     "text": [
      "Dury은 22살이며 남성이고 집은 대구입니다!\n"
     ]
    }
   ],
   "source": [
    "person1 = MoreInfo('Dury', 22, '남성', '대구')\n",
    "\n",
    "person1.print_info()"
   ]
  },
  {
   "cell_type": "markdown",
   "metadata": {},
   "source": [
    "### 1.3. 오버라이딩(재정의)\n",
    "자식 클래스에서 부모 클래스에 이미 정의되어 있는 메서드를 다시 정의하는 것"
   ]
  },
  {
   "cell_type": "code",
   "execution_count": 96,
   "metadata": {},
   "outputs": [],
   "source": [
    "class MoreInfo2(Person):\n",
    "    def __init__(self, name, age, sex, home):\n",
    "        # 부모 클래스의 생성자 호출\n",
    "        super().__init__(name, age)\n",
    "        self.sex = sex\n",
    "        self.home = home\n",
    "        \n",
    "    def walk(self):\n",
    "        print('{0}살 {1}은 걷고 있습니다!'.format(self.age, self.name))"
   ]
  },
  {
   "cell_type": "code",
   "execution_count": 97,
   "metadata": {},
   "outputs": [
    {
     "name": "stdout",
     "output_type": "stream",
     "text": [
      "Dury이 걷고 있습니다!\n",
      "22살 DuryKo은 걷고 있습니다!\n"
     ]
    }
   ],
   "source": [
    "person1 = Person('Dury', 18)\n",
    "person2 = MoreInfo2('DuryKo', 22, '남성', '사월')\n",
    "\n",
    "person1.walk()\n",
    "person2.walk()"
   ]
  },
  {
   "cell_type": "markdown",
   "metadata": {},
   "source": [
    "## 2. 모듈\n",
    "모듈은 함수, 변수, 클래스를 모아 놓은 파일이다. 라이브러리라 보면 된다."
   ]
  },
  {
   "cell_type": "markdown",
   "metadata": {},
   "source": [
    "### 2.1. 모듈 생성"
   ]
  },
  {
   "cell_type": "code",
   "execution_count": 98,
   "metadata": {},
   "outputs": [],
   "source": [
    "# calculator.py\n",
    "def add(a, b):\n",
    "    return a+b\n",
    "\n",
    "def sub(a, b):\n",
    "    return a-b\n",
    "\n",
    "def mul(a, b):\n",
    "    return a*b\n",
    "\n",
    "def div(a, b):\n",
    "    return a//b, a%b"
   ]
  },
  {
   "cell_type": "markdown",
   "metadata": {},
   "source": [
    "### 2.2. 모듈 불러와 사용하기"
   ]
  },
  {
   "cell_type": "code",
   "execution_count": 99,
   "metadata": {},
   "outputs": [
    {
     "name": "stdout",
     "output_type": "stream",
     "text": [
      "8\n",
      "2\n",
      "20\n",
      "(5, 2)\n"
     ]
    }
   ],
   "source": [
    "import calculator as cal\n",
    "\n",
    "print(cal.add(3, 5))\n",
    "print(cal.sub(5, 3))\n",
    "print(cal.mul(4, 5))\n",
    "print(cal.div(17, 3))"
   ]
  },
  {
   "cell_type": "code",
   "execution_count": 100,
   "metadata": {
    "scrolled": true
   },
   "outputs": [
    {
     "name": "stdout",
     "output_type": "stream",
     "text": [
      "8\n",
      "2\n",
      "20\n",
      "(5, 2)\n"
     ]
    }
   ],
   "source": [
    "from calculator import *\n",
    "\n",
    "# 모듈 내 메서드 호출 시 모듈 이름을 명시하지 않아도 됨\n",
    "print(add(3, 5))\n",
    "print(sub(5, 3))\n",
    "print(mul(4, 5))\n",
    "print(div(17, 3))"
   ]
  },
  {
   "cell_type": "markdown",
   "metadata": {},
   "source": [
    "## 3. 예외 처리\n",
    "오류가 일어났을 때 어떻게 처리한 것인지를 말한다."
   ]
  },
  {
   "cell_type": "markdown",
   "metadata": {},
   "source": [
    "### 3.1. try except문\n",
    "`try` 아래에 있는 코드를 실행시키다 오류가 발생하면, `except` 아래에 있는 코드를 실행한다."
   ]
  },
  {
   "cell_type": "code",
   "execution_count": 1,
   "metadata": {},
   "outputs": [
    {
     "name": "stdout",
     "output_type": "stream",
     "text": [
      "무슨 오류가 일어났는지는 모르지만 어쨌든 일어났음!\n"
     ]
    }
   ],
   "source": [
    "# 어떤 오류든 상관없이 일어난 오류를 처리하고 싶을 때\n",
    "try:\n",
    "    x = 3\n",
    "    print(y/x)\n",
    "except:\n",
    "    print('무슨 오류가 일어났는지는 모르지만 어쨌든 일어났음!')"
   ]
  },
  {
   "cell_type": "code",
   "execution_count": 2,
   "metadata": {},
   "outputs": [
    {
     "name": "stdout",
     "output_type": "stream",
     "text": [
      "0으로 나누는 오류가 발생했습니다!\n"
     ]
    }
   ],
   "source": [
    "# 특정 오류가 일어났을 떄의 오류를 처리하고 싶을 때\n",
    "try:\n",
    "    x = 3/0\n",
    "    print(x)\n",
    "except ZeroDivisionError:\n",
    "    print('0으로 나누는 오류가 발생했습니다!')"
   ]
  },
  {
   "cell_type": "code",
   "execution_count": 3,
   "metadata": {},
   "outputs": [
    {
     "name": "stdout",
     "output_type": "stream",
     "text": [
      "division by zero\n"
     ]
    }
   ],
   "source": [
    "# 오류 메시지의 내용까지 알고 싶을 때\n",
    "try:\n",
    "    x = 3/0\n",
    "    print(x)\n",
    "except ZeroDivisionError as e:\n",
    "    print(e)"
   ]
  },
  {
   "cell_type": "markdown",
   "metadata": {},
   "source": [
    "### 3.2. try finally문\n",
    "`try` 아래에 있는 코드를 실행하고 난 뒤, `finally` 아래에 있는 코드는 에러가 났는지 안 났는지에 상관 없이 항상 실행된다."
   ]
  },
  {
   "cell_type": "code",
   "execution_count": 4,
   "metadata": {},
   "outputs": [
    {
     "name": "stdout",
     "output_type": "stream",
     "text": [
      "난 항상 실행되지롱\n"
     ]
    },
    {
     "ename": "ZeroDivisionError",
     "evalue": "division by zero",
     "output_type": "error",
     "traceback": [
      "\u001b[1;31m---------------------------------------------------------------------------\u001b[0m",
      "\u001b[1;31mZeroDivisionError\u001b[0m                         Traceback (most recent call last)",
      "\u001b[1;32m<ipython-input-4-e9f13a37e70a>\u001b[0m in \u001b[0;36m<module>\u001b[1;34m\u001b[0m\n\u001b[0;32m      1\u001b[0m \u001b[1;32mtry\u001b[0m\u001b[1;33m:\u001b[0m\u001b[1;33m\u001b[0m\u001b[1;33m\u001b[0m\u001b[0m\n\u001b[1;32m----> 2\u001b[1;33m     \u001b[0mx\u001b[0m \u001b[1;33m=\u001b[0m \u001b[1;36m3\u001b[0m\u001b[1;33m/\u001b[0m\u001b[1;36m0\u001b[0m\u001b[1;33m\u001b[0m\u001b[1;33m\u001b[0m\u001b[0m\n\u001b[0m\u001b[0;32m      3\u001b[0m \u001b[1;32mfinally\u001b[0m\u001b[1;33m:\u001b[0m\u001b[1;33m\u001b[0m\u001b[1;33m\u001b[0m\u001b[0m\n\u001b[0;32m      4\u001b[0m     \u001b[0mprint\u001b[0m\u001b[1;33m(\u001b[0m\u001b[1;34m'난 항상 실행되지롱'\u001b[0m\u001b[1;33m)\u001b[0m\u001b[1;33m\u001b[0m\u001b[1;33m\u001b[0m\u001b[0m\n",
      "\u001b[1;31mZeroDivisionError\u001b[0m: division by zero"
     ]
    }
   ],
   "source": [
    "try:\n",
    "    x = 3/0\n",
    "finally:\n",
    "    print('난 항상 실행되지롱')"
   ]
  },
  {
   "cell_type": "markdown",
   "metadata": {},
   "source": [
    "### 3.3. try except finally 문\n",
    "`try` 아래에 있는 코드를 실행하던 중 에러가 발생하면 `except` 아래에 있는 코드가 실행되고, 그거와 상관없이 `finally` 아래에 있는 코드가 마지막으로 실행된다."
   ]
  },
  {
   "cell_type": "code",
   "execution_count": 5,
   "metadata": {},
   "outputs": [
    {
     "name": "stdout",
     "output_type": "stream",
     "text": [
      "에러가 났어용\n",
      "난 항상 실행이 되용\n"
     ]
    }
   ],
   "source": [
    "try:\n",
    "    x = 3/0\n",
    "    print(x)\n",
    "except:\n",
    "    print('에러가 났어용')\n",
    "finally:\n",
    "    print('난 항상 실행이 되용')"
   ]
  },
  {
   "cell_type": "markdown",
   "metadata": {},
   "source": [
    "### 3.4. raise로 오류 발생시키기\n",
    "일부러 오류를 발생시키고 싶을 경우 `raise` 키워드를 사용하면 된다."
   ]
  },
  {
   "cell_type": "code",
   "execution_count": 16,
   "metadata": {},
   "outputs": [],
   "source": [
    "# walk 메서드 부분이 구현되지 않음\n",
    "class Person():\n",
    "    def __init__(self, name):\n",
    "        self.name = name\n",
    "\n",
    "    def eat(self, food):\n",
    "        print('{}을 먹습니다!'.format(food))\n",
    "        \n",
    "    def walk(self):\n",
    "        raise NotImplementedError"
   ]
  },
  {
   "cell_type": "code",
   "execution_count": 18,
   "metadata": {},
   "outputs": [
    {
     "name": "stdout",
     "output_type": "stream",
     "text": [
      "마라탕을 먹습니다!\n"
     ]
    },
    {
     "ename": "NotImplementedError",
     "evalue": "",
     "output_type": "error",
     "traceback": [
      "\u001b[1;31m---------------------------------------------------------------------------\u001b[0m",
      "\u001b[1;31mNotImplementedError\u001b[0m                       Traceback (most recent call last)",
      "\u001b[1;32m<ipython-input-18-65a404b56140>\u001b[0m in \u001b[0;36m<module>\u001b[1;34m\u001b[0m\n\u001b[0;32m      1\u001b[0m \u001b[0mAmy\u001b[0m \u001b[1;33m=\u001b[0m \u001b[0mPerson\u001b[0m\u001b[1;33m(\u001b[0m\u001b[1;34m'Amy'\u001b[0m\u001b[1;33m)\u001b[0m\u001b[1;33m\u001b[0m\u001b[1;33m\u001b[0m\u001b[0m\n\u001b[0;32m      2\u001b[0m \u001b[0mAmy\u001b[0m\u001b[1;33m.\u001b[0m\u001b[0meat\u001b[0m\u001b[1;33m(\u001b[0m\u001b[1;34m'마라탕'\u001b[0m\u001b[1;33m)\u001b[0m\u001b[1;33m\u001b[0m\u001b[1;33m\u001b[0m\u001b[0m\n\u001b[1;32m----> 3\u001b[1;33m \u001b[0mAmy\u001b[0m\u001b[1;33m.\u001b[0m\u001b[0mwalk\u001b[0m\u001b[1;33m(\u001b[0m\u001b[1;33m)\u001b[0m\u001b[1;33m\u001b[0m\u001b[1;33m\u001b[0m\u001b[0m\n\u001b[0m",
      "\u001b[1;32m<ipython-input-16-a93755ba261f>\u001b[0m in \u001b[0;36mwalk\u001b[1;34m(self)\u001b[0m\n\u001b[0;32m      8\u001b[0m \u001b[1;33m\u001b[0m\u001b[0m\n\u001b[0;32m      9\u001b[0m     \u001b[1;32mdef\u001b[0m \u001b[0mwalk\u001b[0m\u001b[1;33m(\u001b[0m\u001b[0mself\u001b[0m\u001b[1;33m)\u001b[0m\u001b[1;33m:\u001b[0m\u001b[1;33m\u001b[0m\u001b[1;33m\u001b[0m\u001b[0m\n\u001b[1;32m---> 10\u001b[1;33m         \u001b[1;32mraise\u001b[0m \u001b[0mNotImplementedError\u001b[0m\u001b[1;33m\u001b[0m\u001b[1;33m\u001b[0m\u001b[0m\n\u001b[0m",
      "\u001b[1;31mNotImplementedError\u001b[0m: "
     ]
    }
   ],
   "source": [
    "Amy = Person('Amy')\n",
    "Amy.eat('마라탕')\n",
    "Amy.walk()"
   ]
  }
 ],
 "metadata": {
  "kernelspec": {
   "display_name": "Python 3",
   "language": "python",
   "name": "python3"
  },
  "language_info": {
   "codemirror_mode": {
    "name": "ipython",
    "version": 3
   },
   "file_extension": ".py",
   "mimetype": "text/x-python",
   "name": "python",
   "nbconvert_exporter": "python",
   "pygments_lexer": "ipython3",
   "version": "3.7.3"
  },
  "toc": {
   "base_numbering": 1,
   "nav_menu": {},
   "number_sections": false,
   "sideBar": true,
   "skip_h1_title": false,
   "title_cell": "Table of Contents",
   "title_sidebar": "Contents",
   "toc_cell": false,
   "toc_position": {
    "height": "calc(100% - 180px)",
    "left": "10px",
    "top": "150px",
    "width": "315.823px"
   },
   "toc_section_display": true,
   "toc_window_display": false
  },
  "varInspector": {
   "cols": {
    "lenName": 16,
    "lenType": 16,
    "lenVar": 40
   },
   "kernels_config": {
    "python": {
     "delete_cmd_postfix": "",
     "delete_cmd_prefix": "del ",
     "library": "var_list.py",
     "varRefreshCmd": "print(var_dic_list())"
    },
    "r": {
     "delete_cmd_postfix": ") ",
     "delete_cmd_prefix": "rm(",
     "library": "var_list.r",
     "varRefreshCmd": "cat(var_dic_list()) "
    }
   },
   "types_to_exclude": [
    "module",
    "function",
    "builtin_function_or_method",
    "instance",
    "_Feature"
   ],
   "window_display": false
  }
 },
 "nbformat": 4,
 "nbformat_minor": 2
}
