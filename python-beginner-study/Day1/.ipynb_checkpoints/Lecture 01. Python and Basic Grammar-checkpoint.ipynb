{
 "cells": [
  {
   "cell_type": "markdown",
   "metadata": {},
   "source": [
    "# Lecture 01. Python and Basic Grammar"
   ]
  },
  {
   "cell_type": "markdown",
   "metadata": {},
   "source": [
    "이 강의자료는 [2019-2 인공지능 강의자료](), [점프 투 파이썬](https://wikidocs.net/book/1), [W3School Python Tutorial](https://www.w3schools.com/python/default.asp)을 참고하였습니다.    \n",
    "\n",
    "[개인블로그](https://coding-penguin.tistory.com)에도 정리하고 있으니 관심있으시면 가끔 들러주세요:)"
   ]
  },
  {
   "cell_type": "markdown",
   "metadata": {},
   "source": [
    "## 1. 파이썬\n",
    "* 1990년 귀도 반 로섬(Guido Van Rossum)이 개발한 프로그래밍 언어이다.\n",
    "* 파이썬은 인터프리터로 언어를 컴파일 한다. 즉, 코드 한 줄 씩 컴파일한 뒤 실행을 한다.\n",
    "* 인간의 언어와 매우 유사한 문법을 가지고 있다."
   ]
  },
  {
   "cell_type": "markdown",
   "metadata": {},
   "source": [
    "## 2. 변수"
   ]
  },
  {
   "cell_type": "markdown",
   "metadata": {},
   "source": [
    "변수란 데이터(ex. 숫자, 문자열)를 담는 그릇이다. 파이썬의 변수는 값을 할당하는 순간 생성된다."
   ]
  },
  {
   "cell_type": "markdown",
   "metadata": {},
   "source": [
    "### 2.1. 변수 이름 규칙\n",
    "1. `[a-zA-Z]`, `[0-9]`, `_`을 사용할 수 있음\n",
    "2. 대문자, 소문자를 구분함 (case sensitive)\n",
    "3. 변수명의 첫 문자에 숫자를 쓸 수 없음"
   ]
  },
  {
   "cell_type": "markdown",
   "metadata": {},
   "source": [
    "### 2.2. 자료형\n",
    "자료형(Data Type)이란 변수(그릇)에 담는 데이터의 종류를 이야기한다. 파이썬의 대표적인 자료형으로 **숫자형, 문자열, 불리언형**이 있다.\n",
    "\n",
    "파이썬은 값이 할당되는 순간 변수가 생성되므로, 자료형 또한 값이 할당되는 순간 자료형이 결정된다."
   ]
  },
  {
   "cell_type": "markdown",
   "metadata": {},
   "source": [
    "#### 2.2.1. 숫자형\n",
    "파이썬은 3가지 종류의 숫자형 자료형을 가진다:     \n",
    "* int (정수) : 부동소수점이 없는 숫자. **양과 음의 정수 (0포함)**\n",
    "* float (실수) : **부동소수점이 있는 숫자**. e(or E)의 몇 승으로도 표현 가능\n",
    "* complex (복소수) : 허수인 j를 포함하는 숫자 즉, **복소수**.\n",
    "\n",
    "어떤 값 혹은 변수의 자료형이 궁금하면, `type()` 함수로 어떤 자료형인지 알아낼 수 있다."
   ]
  },
  {
   "cell_type": "code",
   "execution_count": 1,
   "metadata": {
    "code_folding": []
   },
   "outputs": [
    {
     "data": {
      "text/plain": [
       "int"
      ]
     },
     "execution_count": 1,
     "metadata": {},
     "output_type": "execute_result"
    }
   ],
   "source": [
    "# int (정수)\n",
    "x = 1\n",
    "type(x)"
   ]
  },
  {
   "cell_type": "code",
   "execution_count": 2,
   "metadata": {
    "code_folding": []
   },
   "outputs": [
    {
     "data": {
      "text/plain": [
       "float"
      ]
     },
     "execution_count": 2,
     "metadata": {},
     "output_type": "execute_result"
    }
   ],
   "source": [
    "# float (실수)\n",
    "x = 10.3\n",
    "type(x)"
   ]
  },
  {
   "cell_type": "code",
   "execution_count": 3,
   "metadata": {},
   "outputs": [
    {
     "data": {
      "text/plain": [
       "float"
      ]
     },
     "execution_count": 3,
     "metadata": {},
     "output_type": "execute_result"
    }
   ],
   "source": [
    "# float (실수) : e(or E)의 몇 승으로도 표현 가능\n",
    "x = -15.8e1000\n",
    "type(x)"
   ]
  },
  {
   "cell_type": "code",
   "execution_count": 4,
   "metadata": {
    "scrolled": true
   },
   "outputs": [
    {
     "data": {
      "text/plain": [
       "complex"
      ]
     },
     "execution_count": 4,
     "metadata": {},
     "output_type": "execute_result"
    }
   ],
   "source": [
    "# complex (복소수)\n",
    "x = 3 + 4j\n",
    "type(x)"
   ]
  },
  {
   "cell_type": "markdown",
   "metadata": {},
   "source": [
    "#### 2.2.2. 문자열\n",
    "**큰따옴표(\")** 혹은 **작은따옴표(')** 로 둘러싸여 있는 것     \n",
    "\n",
    "C나 몇몇 프로그래밍 언어에서 문자열은 **큰따옴표(\")** 로만 문자열을 정의하는 것과 달리 파이썬에서는 **큰따옴표(\")** 를 쓰든 **작은따옴표(')** 를 쓰든 똑같이 문자열로 인식한다."
   ]
  },
  {
   "cell_type": "code",
   "execution_count": 5,
   "metadata": {
    "scrolled": false
   },
   "outputs": [
    {
     "data": {
      "text/plain": [
       "str"
      ]
     },
     "execution_count": 5,
     "metadata": {},
     "output_type": "execute_result"
    }
   ],
   "source": [
    "type('machine learning')    # str형 = 문자열"
   ]
  },
  {
   "cell_type": "markdown",
   "metadata": {},
   "source": [
    "**여러 줄인 문자열**     \n",
    "문자열을 여러 줄로 나타내고 싶을 경우 다음 2가지 방법을 사용한다.\n",
    "* `방법 1` : 이스케이프 시퀀스 `\\n`을 삽입한다.\n",
    "    * 줄바꿈이 필요한 부분에 `\\n`을 넣어주면 된다.\n",
    "    * 하지만 가독성이 떨어지고 줄이 길어진다.\n",
    "* `방법 2` : 연속된 작은따옴표 3개(''')나 큰따옴표(\"\"\")로 둘러싼다."
   ]
  },
  {
   "cell_type": "code",
   "execution_count": 6,
   "metadata": {},
   "outputs": [
    {
     "name": "stdout",
     "output_type": "stream",
     "text": [
      "I am Groot!\n",
      "You too?\n"
     ]
    }
   ],
   "source": [
    "# 방법 1: 이스케이프 시퀀스 사용\n",
    "ex1 = \"I am Groot!\\nYou too?\"\n",
    "print(ex1)"
   ]
  },
  {
   "cell_type": "code",
   "execution_count": 7,
   "metadata": {},
   "outputs": [
    {
     "name": "stdout",
     "output_type": "stream",
     "text": [
      "\n",
      "I am Groot!\n",
      "You too?\n",
      "\n"
     ]
    }
   ],
   "source": [
    "# 방법 2: 작은따옴표 나 큰따옴표 연속 3개를 사용하는 경우\n",
    "ex2 = \"\"\"\n",
    "I am Groot!\n",
    "You too?\n",
    "\"\"\"\n",
    "print(ex2)"
   ]
  },
  {
   "cell_type": "markdown",
   "metadata": {},
   "source": [
    "**문자열 덧셈과 곱셈**\n",
    "* 문자열 덧셈 : 문자열을 연결\n",
    "* 문자열 곱셈 : 문자열을 반복"
   ]
  },
  {
   "cell_type": "code",
   "execution_count": 10,
   "metadata": {},
   "outputs": [
    {
     "name": "stdout",
     "output_type": "stream",
     "text": [
      "helloworld!\n",
      "helloworld!helloworld!helloworld!\n"
     ]
    }
   ],
   "source": [
    "a = 'hello'\n",
    "b = 'world!'\n",
    "\n",
    "str_add = a+b\n",
    "print(str_add)\n",
    "str_mul = str_add*3\n",
    "print(str_mul)"
   ]
  },
  {
   "cell_type": "markdown",
   "metadata": {},
   "source": [
    "**문자열 포맷팅**     "
   ]
  },
  {
   "cell_type": "markdown",
   "metadata": {},
   "source": [
    "1. 서식지정자를 이용하여 문자열 내 값을 지정할 수 있다."
   ]
  },
  {
   "cell_type": "code",
   "execution_count": 13,
   "metadata": {},
   "outputs": [
    {
     "data": {
      "text/plain": [
       "'hello, my name is SO HYUN. I am 23 years world'"
      ]
     },
     "execution_count": 13,
     "metadata": {},
     "output_type": "execute_result"
    }
   ],
   "source": [
    "me = 'hello, my name is %s. I am %d years world' % ('SO HYUN', 23)\n",
    "me"
   ]
  },
  {
   "cell_type": "markdown",
   "metadata": {},
   "source": [
    "2. 왼쪽, 오른쪽 정렬을 할 수 있다. (빈 공간은 빈칸으로)     \n",
    "3. 소수점 몇 번째자리까지 나타낼 건지 지정할 수 있다."
   ]
  },
  {
   "cell_type": "code",
   "execution_count": null,
   "metadata": {},
   "outputs": [],
   "source": [
    "a = '%10f' % 3.14        # 오른쪽 정렬\n",
    "b = '%-10f' % 3.14       # 왼쪽 정렬\n",
    "print(a), \n",
    "print(b)\n",
    "\n",
    "c = '%10.4f' % 3.141592  # 소수점 넷째자리까지 지정\n",
    "print(c)"
   ]
  },
  {
   "cell_type": "markdown",
   "metadata": {},
   "source": [
    "**문자열 인덱싱/슬라이싱**\n",
    "* 문자열 인덱싱 : 문자열의 문자를 인덱싱을 통해서 접근할 수 있다.\n",
    "    * 하지만 접근해서 수정할 수는 없다.\n",
    "    * `-`뒤에서 부터 접근할 수 있다. (맨 뒤의 문자의 인덱스는 -1)\n",
    "* 문자열 슬라이싱 : 문자열의 일부분만 추출할 수 있다."
   ]
  },
  {
   "cell_type": "code",
   "execution_count": 14,
   "metadata": {},
   "outputs": [
    {
     "name": "stdout",
     "output_type": "stream",
     "text": [
      "b\n",
      "g\n",
      "c\n",
      "abc\n",
      "ef\n"
     ]
    }
   ],
   "source": [
    "a = 'abcdefg'\n",
    "\n",
    "# 문자열 인덱싱\n",
    "print(a[1])\n",
    "print(a[-1])\n",
    "print(a[-5])\n",
    "\n",
    "# 문자열 슬라이싱\n",
    "print(a[0:3])\n",
    "print(a[4:-1])"
   ]
  },
  {
   "cell_type": "markdown",
   "metadata": {},
   "source": [
    "**문자열 메서드**\n",
    "* `count` : 문자열 내 특정 문자/문자열의 개수 반환\n",
    "* `find` : 특정 문자/문자열의 위치를 반환 (없으면 -1을 반환)\n",
    "* `index` : 특정 문자/문자열의 위치를 반환 (없으면 오류 발생)\n",
    "* `upper` : 모든 문자를 대문자로 바꾼 문자열 반환\n",
    "* `lower` : 모든 문자를 소문자로 바꾼 문자열 반환\n",
    "* `replace` : 첫 번째 인자의 문자/문자열을 두 번째 인자의 문자/문자열로 바꾼 문자열을 반환\n",
    "* `strip` : 문자열 앞 뒤 공백을 제거한 문자열 반환\n",
    "* `split` : 인자로 받은 문자/문자열을 기준으로 문자열을 나눠 리스트 형태로 반환 (기본은 공백)"
   ]
  },
  {
   "cell_type": "code",
   "execution_count": 17,
   "metadata": {},
   "outputs": [
    {
     "name": "stdout",
     "output_type": "stream",
     "text": [
      "6\n"
     ]
    }
   ],
   "source": [
    "a = 'hello world! hello alpha-go!'\n",
    "print(a.count('l'))"
   ]
  },
  {
   "cell_type": "code",
   "execution_count": 21,
   "metadata": {},
   "outputs": [
    {
     "name": "stdout",
     "output_type": "stream",
     "text": [
      "2\n",
      "2\n"
     ]
    }
   ],
   "source": [
    "print(a.find('l'))\n",
    "print(a.index('l'))"
   ]
  },
  {
   "cell_type": "code",
   "execution_count": 22,
   "metadata": {},
   "outputs": [
    {
     "name": "stdout",
     "output_type": "stream",
     "text": [
      "HELLO WORLD! HELLO ALPHA-GO!\n",
      "hello world! hello alpha-go!\n"
     ]
    }
   ],
   "source": [
    "print(a.upper())\n",
    "print(a.lower())"
   ]
  },
  {
   "cell_type": "code",
   "execution_count": 23,
   "metadata": {},
   "outputs": [
    {
     "name": "stdout",
     "output_type": "stream",
     "text": [
      "bye world! bye alpha-go!\n"
     ]
    }
   ],
   "source": [
    "print(a.replace('hello', 'bye'))"
   ]
  },
  {
   "cell_type": "code",
   "execution_count": 27,
   "metadata": {},
   "outputs": [
    {
     "name": "stdout",
     "output_type": "stream",
     "text": [
      "I want to sleep\n"
     ]
    }
   ],
   "source": [
    "print('  I want to sleep  '.strip())"
   ]
  },
  {
   "cell_type": "code",
   "execution_count": 28,
   "metadata": {},
   "outputs": [
    {
     "name": "stdout",
     "output_type": "stream",
     "text": [
      "['A', 'B', 'C', 'D']\n",
      "['A', 'B', 'C', 'D']\n"
     ]
    }
   ],
   "source": [
    "print('A B C D'.split())\n",
    "print('A,B,C,D'.split(','))"
   ]
  },
  {
   "cell_type": "markdown",
   "metadata": {},
   "source": [
    "#### 2.2.3. 불리언(불)\n",
    "불리언 자료형은 `True`와 `False` 즉, 참과 거짓을 나타내는 자료형이다.\n",
    "* `and` : 논리연산자 AND\n",
    "* `or` : 논리연산자 OR\n",
    "* `not` : 논리연산자 NOT\n",
    "* `!=` : 논리연산자 XOR"
   ]
  },
  {
   "cell_type": "code",
   "execution_count": 29,
   "metadata": {},
   "outputs": [
    {
     "name": "stdout",
     "output_type": "stream",
     "text": [
      "False\n",
      "True\n",
      "False\n",
      "True\n"
     ]
    }
   ],
   "source": [
    "t = True\n",
    "f = False\n",
    "\n",
    "print(t and f)     # 논리 AND : False\n",
    "print(t or f)      # 논리 OR  : True\n",
    "print(not t)       # 논리 NOT : False\n",
    "print(t != f)      # 논리 XOR : True"
   ]
  },
  {
   "cell_type": "markdown",
   "metadata": {},
   "source": [
    "## 3. 입출력"
   ]
  },
  {
   "cell_type": "markdown",
   "metadata": {},
   "source": [
    "### 3.1. 출력\n",
    "`\"\"`로 둘러싼 일련의 문자열들은 `+`연산과 동일하다.     \n",
    "`,`로 문자열 띄어쓰기를 할 수 있다."
   ]
  },
  {
   "cell_type": "code",
   "execution_count": 30,
   "metadata": {},
   "outputs": [
    {
     "name": "stdout",
     "output_type": "stream",
     "text": [
      "helloworld\n",
      "helloworld\n",
      "hello world\n"
     ]
    }
   ],
   "source": [
    "print(\"hello\" \"world\")     # concat\n",
    "print(\"hello\"+\"world\")     # concat\n",
    "print(\"hello\", \"world\")    # 띄어쓰기 되어서 concat"
   ]
  },
  {
   "cell_type": "markdown",
   "metadata": {},
   "source": [
    "`format`함수를 이용하여 포맷화된 출력을 할 수 있다.\n",
    "* `{}`안에 숫자가 없거나 같은 숫자일 경우 시에는 format의 매개변수 순서대로 적용된다.\n",
    "* `{}`안에 숫자를 지정하여 해당 매개변수를 여러 번 문자열에 등장시킬 수 있다."
   ]
  },
  {
   "cell_type": "code",
   "execution_count": 34,
   "metadata": {},
   "outputs": [
    {
     "name": "stdout",
     "output_type": "stream",
     "text": [
      "x = 3.1413, y = 4.1524, z = 5.2433\n"
     ]
    }
   ],
   "source": [
    "# 포맷화된 출력\n",
    "print('x = {0}, y = {1}, z = {2}'.format(3.1413, 4.1524, 5.2433))"
   ]
  },
  {
   "cell_type": "markdown",
   "metadata": {},
   "source": [
    "* `.Nf`의 `N`을 지정하여 소수점을 N자리까지 포맷팅할 수 있다.\n",
    "* `>M`, `<M`은 각각 M개의 칸을 가진 박스가 있을 때 `>`은 오른쪽 정렬을, `<`은 왼쪽 정렬을 하여 포맷팅한다."
   ]
  },
  {
   "cell_type": "code",
   "execution_count": 35,
   "metadata": {},
   "outputs": [
    {
     "name": "stdout",
     "output_type": "stream",
     "text": [
      "x = 3.14, y = 4.15, z = 5.24\n",
      "x =    3.14, y = 4.15   , z =       5.24\n"
     ]
    }
   ],
   "source": [
    "# 소수점 자리수를 지정할 수 있음\n",
    "print('x = {0:.2f}, y = {1:.2f}, z = {2:.2f}'.format(3.1413999999999999999, 4.1524, 5.2433))\n",
    "\n",
    "# 정렬도 가능\n",
    "print('x = {0:>7.2f}, y = {1:<7.2f}, z = {2:>10.2f}'.format(3.1413, 4.1524, 5.2433))"
   ]
  },
  {
   "cell_type": "markdown",
   "metadata": {},
   "source": [
    "print의 매개변수 `sep`으로 `,`로 구분하여 출력할 때 빈칸이 아닌 구분 문자를 설정할 수 있으며, `end`로 줄바꿈이 아닌 끝에 출력할 것을 지정할 수 있다."
   ]
  },
  {
   "cell_type": "code",
   "execution_count": 36,
   "metadata": {},
   "outputs": [
    {
     "name": "stdout",
     "output_type": "stream",
     "text": [
      "3+4+5\n",
      "I am Groot!!!!"
     ]
    }
   ],
   "source": [
    "print(3, 4, 5, sep='+')\n",
    "print('I am Groot', end='!!!!')"
   ]
  },
  {
   "cell_type": "markdown",
   "metadata": {},
   "source": [
    "### 3.2. Jupyter Notebook에서의 출력\n",
    "`Jupyter Notebook`에서는 마지막에 적힌 변수, 수식 결과값을 출력해준다."
   ]
  },
  {
   "cell_type": "code",
   "execution_count": 38,
   "metadata": {},
   "outputs": [
    {
     "data": {
      "text/plain": [
       "30"
      ]
     },
     "execution_count": 38,
     "metadata": {},
     "output_type": "execute_result"
    }
   ],
   "source": [
    "a = 150\n",
    "a\n",
    "b = 30\n",
    "b"
   ]
  },
  {
   "cell_type": "markdown",
   "metadata": {},
   "source": [
    "`,`로 구분하여 여러 개의 변수, 결과값을 출력할 수 있다. (이 때 출력값들이 tuple로 묶여서 출력된다.)"
   ]
  },
  {
   "cell_type": "code",
   "execution_count": 39,
   "metadata": {},
   "outputs": [
    {
     "data": {
      "text/plain": [
       "(150, 50)"
      ]
     },
     "execution_count": 39,
     "metadata": {},
     "output_type": "execute_result"
    }
   ],
   "source": [
    "a = 150\n",
    "b = 50\n",
    "a, b"
   ]
  },
  {
   "cell_type": "markdown",
   "metadata": {},
   "source": [
    "### 3.3. 입력\n",
    "* `input`이 반환하는 값은 **문자열**이다\n",
    "* 프롬프트에 글을 띄우고 싶으면 `input`의 매개변수에 해당 문자열을 인수로 넣어주면 된다"
   ]
  },
  {
   "cell_type": "code",
   "execution_count": null,
   "metadata": {},
   "outputs": [],
   "source": [
    "a = input()\n",
    "print(type(a))\n",
    "b = input('입력해주세요 : ')    # 프롬프트에 인자를 띄움"
   ]
  },
  {
   "cell_type": "markdown",
   "metadata": {},
   "source": [
    "## 4. 연산자\n",
    "### 4.1. 산술 연산자\n",
    "파이썬의 경우 `++`나 `--`와 같은 단항연산자가 없다. `x+=1`, `x-=1` 이런 식으로 사용할 것!\n",
    "<img src='./operator1.png' width=80%>"
   ]
  },
  {
   "cell_type": "code",
   "execution_count": null,
   "metadata": {},
   "outputs": [],
   "source": [
    "a = 15\n",
    "b = 10"
   ]
  },
  {
   "cell_type": "code",
   "execution_count": null,
   "metadata": {},
   "outputs": [],
   "source": [
    "print('a+b:', a+b)     # 덧셈\n",
    "print('a-b:', a-b)     # 뺄셈\n",
    "print('a*b:', a*b)     # 곱셈\n",
    "print('a/b:', a/b)     # 나눗셈 몫(float)\n",
    "print('a//b:', a//b)   # 나눗셈 몫(int)\n",
    "print('a%b:', a%b)     # 나눗셈 나머지(int)\n",
    "print('a**b:', a**b)   # a의 b승"
   ]
  },
  {
   "cell_type": "markdown",
   "metadata": {},
   "source": [
    "### 4.2. 비교 연산자\n",
    "<img src='./operator2.png' width=80%>"
   ]
  },
  {
   "cell_type": "code",
   "execution_count": null,
   "metadata": {},
   "outputs": [],
   "source": [
    "print('a == b :', a == b)\n",
    "print('a != b :', a != b)\n",
    "print('a > b :', a > b)\n",
    "print('a < b :', a < b)\n",
    "print('a >= b :', a >= b)\n",
    "print('a <= b :', a <= b)"
   ]
  },
  {
   "cell_type": "markdown",
   "metadata": {},
   "source": [
    "### 4.3. 논리 연산자\n",
    "<img src='./operator3.png' width=80%>"
   ]
  },
  {
   "cell_type": "code",
   "execution_count": null,
   "metadata": {},
   "outputs": [],
   "source": [
    "t = True\n",
    "f = False\n",
    "\n",
    "print('t and f :', t and f)\n",
    "print('t or f :', t or f)\n",
    "print('not t :', not t)\n",
    "print('not f :', not f)"
   ]
  },
  {
   "cell_type": "markdown",
   "metadata": {},
   "source": [
    "## 4. 제어문/반복문\n",
    "### 4.1. if문\n",
    "특정 조건을 만족했을 때 아래의 조건 아래에 있는 코드를 실행시킨다."
   ]
  },
  {
   "cell_type": "code",
   "execution_count": null,
   "metadata": {},
   "outputs": [],
   "source": [
    "x = 10\n",
    "\n",
    "if x > 5:\n",
    "    print('x는 5보다 큽니다.')"
   ]
  },
  {
   "cell_type": "markdown",
   "metadata": {},
   "source": [
    "특정 조건을 만족했을 때와 만족하지 않았을 때의 실행을 다르게 하고 싶을 때, `else`를 쓴다."
   ]
  },
  {
   "cell_type": "code",
   "execution_count": null,
   "metadata": {},
   "outputs": [],
   "source": [
    "if x > 5:\n",
    "    print('x는 5보다 큽니다.')\n",
    "else:\n",
    "    print('x는 5와 같거나 작습니다.')"
   ]
  },
  {
   "cell_type": "markdown",
   "metadata": {},
   "source": [
    "여러 조건이 있고 한 조건을 만족했을 때만 실행시키고 싶을 때는 `elif`를 쓴다."
   ]
  },
  {
   "cell_type": "code",
   "execution_count": null,
   "metadata": {},
   "outputs": [],
   "source": [
    "if x > 10:\n",
    "    print('x가 10보다 큽니다')\n",
    "elif x > 20:\n",
    "    print('x가 20보다 큽니다')\n",
    "else:\n",
    "    print('x는 10보다 작거나 같습니다')"
   ]
  },
  {
   "cell_type": "markdown",
   "metadata": {},
   "source": [
    "if문을 중첩해서 쓸 수도 있다."
   ]
  },
  {
   "cell_type": "code",
   "execution_count": null,
   "metadata": {},
   "outputs": [],
   "source": [
    "money = 10000\n",
    "\n",
    "if money > 5000:\n",
    "    if money < 7500:\n",
    "        print('마라탕')\n",
    "    else:\n",
    "        print('엉터리 생고기')\n",
    "else:\n",
    "    print('긱식')"
   ]
  },
  {
   "cell_type": "markdown",
   "metadata": {},
   "source": [
    "### 4.2. while문"
   ]
  },
  {
   "cell_type": "markdown",
   "metadata": {},
   "source": [
    "특정 조건을 만족할 동안 `while문` 아래의 코드를 반복 실행합니다. 조건을 만족하지 않으면 반복문에서 탈출한다."
   ]
  },
  {
   "cell_type": "code",
   "execution_count": null,
   "metadata": {},
   "outputs": [],
   "source": [
    "time = 0\n",
    "\n",
    "while time<10:\n",
    "    print('일을 합니다!')\n",
    "    time += 1\n",
    "\n",
    "print('일이 끝났습니다!')"
   ]
  },
  {
   "cell_type": "markdown",
   "metadata": {},
   "source": [
    "무한 루프를 돌리고 특정 조건을 만족했을 때 탈출을 시키고 싶을 경우 `if`와 `break`를 사용하여 구현하면 된다.    \n",
    "`break`는 반복문을 나오게 하는 키워드이다."
   ]
  },
  {
   "cell_type": "code",
   "execution_count": null,
   "metadata": {},
   "outputs": [],
   "source": [
    "time = 0\n",
    "\n",
    "while True:\n",
    "    if time > 10:\n",
    "        print('일이 끝났습니다!')\n",
    "        break\n",
    "    print('일을 합니다!')\n",
    "    time += 1"
   ]
  },
  {
   "cell_type": "markdown",
   "metadata": {},
   "source": [
    "### 4.3. for문\n",
    "특정 횟수만큼 코드를 반복 실행하고 싶을 때 사용한다. 이 때 `range 객체`를 같이 사용한다."
   ]
  },
  {
   "cell_type": "markdown",
   "metadata": {},
   "source": [
    "#### 4.3.1. range 객체\n",
    "* `range(end)` : 0부터 end-1까지의 연속된 정수를 생성한다.\n",
    "* `range(start, end)` : start부터 end-1까지의 연속된 정수를 생성한다.\n",
    "* `range(start, end, N)` : start부터 end-1까지 N씩 연속된 정수를 생성한다."
   ]
  },
  {
   "cell_type": "code",
   "execution_count": null,
   "metadata": {},
   "outputs": [],
   "source": [
    "print('range(5) :', range(5))\n",
    "print('range(3, 10) :', range(3, 10))\n",
    "print('range(2, 11, 3) :', range(2, 11, 3))\n",
    "print('range(10, 2, -2) :', range(10, 2, -2))"
   ]
  },
  {
   "cell_type": "markdown",
   "metadata": {},
   "source": [
    "#### 4.3.2. for문"
   ]
  },
  {
   "cell_type": "code",
   "execution_count": null,
   "metadata": {},
   "outputs": [],
   "source": [
    "for i in range(1, 6):\n",
    "    print('{}번 일했습니다!'.format(i))\n",
    "\n",
    "print('일이 끝났습니다!')"
   ]
  }
 ],
 "metadata": {
  "kernelspec": {
   "display_name": "Python 3",
   "language": "python",
   "name": "python3"
  },
  "language_info": {
   "codemirror_mode": {
    "name": "ipython",
    "version": 3
   },
   "file_extension": ".py",
   "mimetype": "text/x-python",
   "name": "python",
   "nbconvert_exporter": "python",
   "pygments_lexer": "ipython3",
   "version": "3.7.3"
  },
  "toc": {
   "base_numbering": 1,
   "nav_menu": {},
   "number_sections": false,
   "sideBar": true,
   "skip_h1_title": false,
   "title_cell": "Table of Contents",
   "title_sidebar": "Contents",
   "toc_cell": false,
   "toc_position": {
    "height": "calc(100% - 180px)",
    "left": "10px",
    "top": "150px",
    "width": "203.333px"
   },
   "toc_section_display": true,
   "toc_window_display": true
  },
  "varInspector": {
   "cols": {
    "lenName": 16,
    "lenType": 16,
    "lenVar": 40
   },
   "kernels_config": {
    "python": {
     "delete_cmd_postfix": "",
     "delete_cmd_prefix": "del ",
     "library": "var_list.py",
     "varRefreshCmd": "print(var_dic_list())"
    },
    "r": {
     "delete_cmd_postfix": ") ",
     "delete_cmd_prefix": "rm(",
     "library": "var_list.r",
     "varRefreshCmd": "cat(var_dic_list()) "
    }
   },
   "types_to_exclude": [
    "module",
    "function",
    "builtin_function_or_method",
    "instance",
    "_Feature"
   ],
   "window_display": false
  }
 },
 "nbformat": 4,
 "nbformat_minor": 2
}
