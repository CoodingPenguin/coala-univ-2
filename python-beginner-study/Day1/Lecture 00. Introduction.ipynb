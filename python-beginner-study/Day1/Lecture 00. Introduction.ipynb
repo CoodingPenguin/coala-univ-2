{
 "cells": [
  {
   "cell_type": "markdown",
   "metadata": {},
   "source": [
    "# Lecture 00. Introduction\n",
    "파이썬 스터디를 시작하기 전에 파이썬 개발환경을 준비해야 합니다! 여기 아래에 있는 파일들을 설치해봅시다:)"
   ]
  },
  {
   "cell_type": "markdown",
   "metadata": {},
   "source": [
    "# 1. Anaconda\n",
    "Anaconda는 파이썬으로 개발된 모듈과 라이브러리를 모아둔 것입니다. 이것만 깔면 `numpy`, `pandas`, `jupyter notebook`, `SciPy`, `ScikitLearn` 등의 모듈을 각자 설치할 필요없이 바로 사용할 수 있습니다.\n",
    "\n",
    "[여기](https://www.anaconda.com/distribution/)로 들어가서 자신이 쓰는 운영체제의 Anaconda를 까시면 됩니다!\n",
    "**Python 3.7**과 **Python 2.7**이 있는데, 저희는 **Python 3.7**을 깔아주시면 됩니다.\n",
    "<img src='./anaconda.png' width=80%>"
   ]
  },
  {
   "cell_type": "markdown",
   "metadata": {},
   "source": [
    "# 2. Jupyter Notebook\n",
    "## 2.1. 키는 법\n",
    "* 검색에 `Jupyter Notebook`이라 치면, `Jupyter Notebook` 명령을 실행시킨다.\n",
    "<img src='./jupyter1.png' width=80%>"
   ]
  },
  {
   "cell_type": "markdown",
   "metadata": {},
   "source": [
    "* `conda prompt`에 `jupyter notebook` 명령어를 적고 엔터를 친다.\n",
    "<img src='./jupyter2.png' width=80%>"
   ]
  },
  {
   "cell_type": "markdown",
   "metadata": {},
   "source": [
    "## 2.2. 끄는 법\n",
    "* Jupyter Notebook의 `Quit` 버튼을 클릭한다.\n",
    "<img src='./jupyter3.png' width=80%>"
   ]
  },
  {
   "cell_type": "markdown",
   "metadata": {},
   "source": [
    "## 2.3. Markdown\n",
    "마크다운 문법은 사용법이 매우 쉽고, 빠르게 문서를 정리할 수 있는 문법입니다. `Jupyter Notebook`에서는 이 마크다운 문법을 사용하여 문서를 작성할 수 있습니다.     \n",
    "\n",
    "[여기](https://gist.github.com/ihoneymon/652be052a0727ad59601)에 마크다운 문법이 잘 정리되어 있으니 시간이 된다면 꼭 보시길 바랍니다:)"
   ]
  },
  {
   "cell_type": "markdown",
   "metadata": {},
   "source": [
    "## 2.4. Jupyter Notebook Extensions\n",
    "`Jupyter Notebook`을 사용하는데 유용한 extension을 담아놓은 페키지가 있습니다. 목차 생성, variable 검색 등을 할 수 있습니다."
   ]
  },
  {
   "cell_type": "markdown",
   "metadata": {},
   "source": [
    "1. **conda prompt**를 켜서 다음과 같은 명령어를 입력합니다.    \n",
    "`conda install -c conda-forge jupyter_contrib_nbextensions`"
   ]
  },
  {
   "cell_type": "markdown",
   "metadata": {},
   "source": [
    "2. `Jupyter Notebook`을 키면 `Nbextensions` 탭을 클릭합니다.\n",
    "<img src='./jn_extension.png' width=80%>"
   ]
  },
  {
   "cell_type": "markdown",
   "metadata": {},
   "source": [
    "3. 원하는 extension을 `Enable`로 바꿔줍니다. (각 extension에 대한 설명은 해당 extension을 클릭하고 아래로 드래그하면 있습니다.)\n",
    "<img src='./jn_extension_2.png' width=80%>"
   ]
  }
 ],
 "metadata": {
  "kernelspec": {
   "display_name": "Python 3",
   "language": "python",
   "name": "python3"
  },
  "language_info": {
   "codemirror_mode": {
    "name": "ipython",
    "version": 3
   },
   "file_extension": ".py",
   "mimetype": "text/x-python",
   "name": "python",
   "nbconvert_exporter": "python",
   "pygments_lexer": "ipython3",
   "version": "3.7.3"
  },
  "toc": {
   "base_numbering": 1,
   "nav_menu": {},
   "number_sections": false,
   "sideBar": true,
   "skip_h1_title": false,
   "title_cell": "Table of Contents",
   "title_sidebar": "Contents",
   "toc_cell": false,
   "toc_position": {},
   "toc_section_display": true,
   "toc_window_display": false
  },
  "varInspector": {
   "cols": {
    "lenName": 16,
    "lenType": 16,
    "lenVar": 40
   },
   "kernels_config": {
    "python": {
     "delete_cmd_postfix": "",
     "delete_cmd_prefix": "del ",
     "library": "var_list.py",
     "varRefreshCmd": "print(var_dic_list())"
    },
    "r": {
     "delete_cmd_postfix": ") ",
     "delete_cmd_prefix": "rm(",
     "library": "var_list.r",
     "varRefreshCmd": "cat(var_dic_list()) "
    }
   },
   "types_to_exclude": [
    "module",
    "function",
    "builtin_function_or_method",
    "instance",
    "_Feature"
   ],
   "window_display": false
  }
 },
 "nbformat": 4,
 "nbformat_minor": 2
}
