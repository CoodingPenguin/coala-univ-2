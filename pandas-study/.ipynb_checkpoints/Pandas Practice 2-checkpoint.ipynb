{
 "cells": [
  {
   "cell_type": "markdown",
   "metadata": {},
   "source": [
    "# Pandas Practice 2\n",
    "저번에 썼던 `student.csv`와 `Pandas`를 이용해 저번 주에 했던 데이터 전처리를 마무리해봅시다!"
   ]
  },
  {
   "cell_type": "code",
   "execution_count": null,
   "metadata": {},
   "outputs": [],
   "source": [
    "import pandas as pd"
   ]
  },
  {
   "cell_type": "markdown",
   "metadata": {},
   "source": [
    "### Q1. `student2.csv` 파일을 불러와 `df` 변수에 저장해봅시다."
   ]
  },
  {
   "cell_type": "code",
   "execution_count": null,
   "metadata": {},
   "outputs": [],
   "source": [
    "# enter your code"
   ]
  },
  {
   "cell_type": "markdown",
   "metadata": {},
   "source": [
    "### Q2. 데이터를 보니 잘못된 column이 하나가 포함되어 있네요. 그 column을 drop해봅시다."
   ]
  },
  {
   "cell_type": "code",
   "execution_count": null,
   "metadata": {},
   "outputs": [],
   "source": [
    "# enter your code"
   ]
  },
  {
   "cell_type": "markdown",
   "metadata": {},
   "source": [
    "### Q3. 출석 점수를 계산하여 `total_att`라는 column을 생성해봅시다.\n",
    "* 출석 일수는 총 32일이다.\n",
    "* 결석을 할 때마다 -1, 지각을 할 때마다 -0.5점이 감점이 된다.\n",
    "* 감점이 -4점 이상이 되면 자동적으로 출석점수는 0점으로 된다.\n",
    "* 출석 반영 비율은 10%이다."
   ]
  },
  {
   "cell_type": "code",
   "execution_count": null,
   "metadata": {},
   "outputs": [],
   "source": [
    "# enter your code"
   ]
  },
  {
   "cell_type": "markdown",
   "metadata": {},
   "source": [
    "### Q4. `total_ex_att`와 `total_att`로 총점을 구하여 `total` column을 생성해봅시다."
   ]
  },
  {
   "cell_type": "code",
   "execution_count": null,
   "metadata": {},
   "outputs": [],
   "source": [
    "# enter your code"
   ]
  },
  {
   "cell_type": "markdown",
   "metadata": {},
   "source": [
    "### Q5. `course_retake` column의 경우 Nan값이 존재합니다. 시스템 상 재수강을 하지 않는 학생들은 체크가 되지 않는 다고 하네요. Nan값을 `N`으로 채워봅시다."
   ]
  },
  {
   "cell_type": "code",
   "execution_count": null,
   "metadata": {},
   "outputs": [],
   "source": [
    "# enter your code"
   ]
  },
  {
   "cell_type": "markdown",
   "metadata": {},
   "source": [
    "### Q6. 학생들의 등수를 매겨서 `rank`라는 column을 생성해봅시다.\n",
    "* 힌트 : `sort_values`를 이용해봅시다.\n",
    "* 힌트 : `reset_index`를 사용해봅시다."
   ]
  },
  {
   "cell_type": "code",
   "execution_count": null,
   "metadata": {},
   "outputs": [],
   "source": [
    "# enter your code"
   ]
  },
  {
   "cell_type": "code",
   "execution_count": null,
   "metadata": {},
   "outputs": [],
   "source": [
    "# enter your code"
   ]
  },
  {
   "cell_type": "markdown",
   "metadata": {},
   "source": [
    "### Q7. 학점을 매겨봅시다. 학점은 `grade`라는 column에 저장합니다.\n",
    "* 5등까지는 `A+`를, 10등까지는 `A`를 줍니다.\n",
    "* 15등까지는 `B+`를, 20등까지는 `B`를 줍니다.\n",
    "* 그 외 등수는 `C+`를 부여합니다."
   ]
  },
  {
   "cell_type": "code",
   "execution_count": null,
   "metadata": {
    "scrolled": true
   },
   "outputs": [],
   "source": [
    "# enter your code"
   ]
  },
  {
   "cell_type": "markdown",
   "metadata": {},
   "source": [
    "### Q8. 재수강 학생은 다른 학점을 부여해야한다고 합니다.\n",
    "* 2016년 이상 학생은 B+까지 밖에 못 받습니다.\n",
    "* 2015년 이하 학생은 A까지 밖에 못 받습니다.\n",
    "* 비율의 변경이 있어도 교수님은 채우지 않습니다:("
   ]
  },
  {
   "cell_type": "code",
   "execution_count": null,
   "metadata": {},
   "outputs": [],
   "source": [
    "# enter your code"
   ]
  }
 ],
 "metadata": {
  "kernelspec": {
   "display_name": "Python 3",
   "language": "python",
   "name": "python3"
  },
  "language_info": {
   "codemirror_mode": {
    "name": "ipython",
    "version": 3
   },
   "file_extension": ".py",
   "mimetype": "text/x-python",
   "name": "python",
   "nbconvert_exporter": "python",
   "pygments_lexer": "ipython3",
   "version": "3.7.3"
  },
  "toc": {
   "base_numbering": 1,
   "nav_menu": {},
   "number_sections": false,
   "sideBar": true,
   "skip_h1_title": false,
   "title_cell": "Table of Contents",
   "title_sidebar": "Contents",
   "toc_cell": false,
   "toc_position": {},
   "toc_section_display": true,
   "toc_window_display": false
  },
  "varInspector": {
   "cols": {
    "lenName": 16,
    "lenType": 16,
    "lenVar": 40
   },
   "kernels_config": {
    "python": {
     "delete_cmd_postfix": "",
     "delete_cmd_prefix": "del ",
     "library": "var_list.py",
     "varRefreshCmd": "print(var_dic_list())"
    },
    "r": {
     "delete_cmd_postfix": ") ",
     "delete_cmd_prefix": "rm(",
     "library": "var_list.r",
     "varRefreshCmd": "cat(var_dic_list()) "
    }
   },
   "types_to_exclude": [
    "module",
    "function",
    "builtin_function_or_method",
    "instance",
    "_Feature"
   ],
   "window_display": false
  }
 },
 "nbformat": 4,
 "nbformat_minor": 2
}
